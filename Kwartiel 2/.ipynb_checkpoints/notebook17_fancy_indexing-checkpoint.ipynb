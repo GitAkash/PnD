{
 "cells": [
  {
   "cell_type": "markdown",
   "id": "04365e4f-e5b7-4b8e-a7e1-adc9cb668caa",
   "metadata": {},
   "source": [
    "# NOTEBOOK 17 Fancy Indexing\n",
    "---"
   ]
  },
  {
   "cell_type": "markdown",
   "id": "f0f0b4ec-46b5-4c9f-8340-b209c47159a6",
   "metadata": {},
   "source": [
    "You use indexing (e.g. `x[3]`) or slicing (e.g. `x[2:5]`) to select or assign specific elements in e.g. numpy arrays and lists. Here we discuss an alternative method. Instead of a specific index or slice you use a list of indices to select items from an array. This approach is called **fancy indexing**. We will show a few cases where fancy indexing can be used. It is important to mention here that fancy indexing works for numpy arrays only (so not for lists!). Another, but actually quite similar, method to select items from an array is called **masking**. Using a mask you can select items of an array that satisfy a specific condition (e.g. all items larger than zero)."
   ]
  },
  {
   "cell_type": "markdown",
   "id": "1e2d852e-5af7-42d9-a822-3663181f40d8",
   "metadata": {},
   "source": [
    "## Fancy Indexing"
   ]
  },
  {
   "cell_type": "markdown",
   "id": "1e8292e4-7610-46a4-b095-795bb3707cbc",
   "metadata": {},
   "source": [
    "Let's look at a simple example where we have defined a numpy array containing some outcomes of a throw of a dice:\n"
   ]
  },
  {
   "cell_type": "code",
   "execution_count": 1,
   "id": "9b33555b-cc22-4642-80e8-220161617e6b",
   "metadata": {
    "ExecuteTime": {
     "end_time": "2023-11-15T12:46:34.060830256Z",
     "start_time": "2023-11-15T12:46:34.050475794Z"
    }
   },
   "outputs": [
    {
     "name": "stdout",
     "output_type": "stream",
     "text": [
      "[1 5 2 3 6 6 1]\n"
     ]
    }
   ],
   "source": [
    "import random\n",
    "\n",
    "import numpy as np\n",
    "\n",
    "throws = np.array([1, 5, 2, 3, 6, 6, 1], dtype=int)\n",
    "print(throws)"
   ]
  },
  {
   "cell_type": "markdown",
   "id": "27b4c386-cc1d-4586-a8d9-701264368ff1",
   "metadata": {},
   "source": [
    "The array `throws` contains 7 items with integer values between 1 and 6. If you require the items at index 2, 4 and 5 you can use:"
   ]
  },
  {
   "cell_type": "code",
   "execution_count": 26,
   "id": "be0098e4-9fba-42b9-9d2f-10068e1e9512",
   "metadata": {},
   "outputs": [
    {
     "name": "stdout",
     "output_type": "stream",
     "text": [
      "[2 6 6]\n"
     ]
    }
   ],
   "source": [
    "indices = [2, 4, 5]\n",
    "\n",
    "selection = throws[indices]\n",
    "print(selection)"
   ]
  },
  {
   "cell_type": "markdown",
   "id": "485d61c3-012c-46a2-82b9-bdab115086ac",
   "metadata": {},
   "source": [
    "So instead of providing a number as an index or a specific slice, you can provide a list (you can also use a numpy array with integers to specify the indices) of integers between square brackets to select specific items of the array. The output is again an array containing the items at the specified indices.\n",
    "\n",
    "As with indexing and slicing, you can use fancy indexing to assign values to specific items of an array:"
   ]
  },
  {
   "cell_type": "code",
   "execution_count": 27,
   "id": "e7964713-a243-457b-b687-26c5fe5f8ebd",
   "metadata": {},
   "outputs": [
    {
     "name": "stdout",
     "output_type": "stream",
     "text": [
      "[ 1  5 -2  3 -6 -6  1]\n"
     ]
    }
   ],
   "source": [
    "throws[indices] = throws[indices] * -1\n",
    "# or throws[indices] *= -1 for short\n",
    "print(throws)"
   ]
  },
  {
   "cell_type": "markdown",
   "id": "caab3be3-a186-4b7b-a7bc-d5e87807b9b6",
   "metadata": {},
   "source": [
    "As you can see all items at the indices specified by `indices` are multiplied by -1."
   ]
  },
  {
   "cell_type": "markdown",
   "id": "4499bdfe-db42-4e75-93ca-5e388817d35f",
   "metadata": {},
   "source": [
    "## Masking"
   ]
  },
  {
   "cell_type": "markdown",
   "id": "345c77bf-ff42-44d1-8caa-8ad147fdccda",
   "metadata": {},
   "source": [
    "Although you learned three different ways to extract items from an array (indexing, slicing and fancy-indexing) there is even another method for this purpose called masking. This method allows to select items in an array based on some criteria. Again we take an example to illustrate how it works. We define an array with marks ranging from 1 to 10:"
   ]
  },
  {
   "cell_type": "code",
   "execution_count": 28,
   "id": "cb5226c6-9271-4fee-9d52-df32b01c78fc",
   "metadata": {},
   "outputs": [],
   "source": [
    "marks = np.array([7.5, 4.0, 8.0, 5.3, 6.5, 10.0, 3.5, 5.5])"
   ]
  },
  {
   "cell_type": "markdown",
   "id": "8a55cd62-2a5c-4588-9cd5-b2cc754ddd20",
   "metadata": {},
   "source": [
    "We now want to extract all marks smaller than 6.0. To do this we create a mask which is an array of Booleans specifying for each item if the condition is satisfied `True` or `False`:\n"
   ]
  },
  {
   "cell_type": "code",
   "execution_count": 29,
   "id": "2cb2f457-54cb-46ab-ab11-afba49121a48",
   "metadata": {},
   "outputs": [
    {
     "name": "stdout",
     "output_type": "stream",
     "text": [
      "[False  True False  True False False  True  True]\n"
     ]
    }
   ],
   "source": [
    "mask = marks < 6.0\n",
    "print(mask)"
   ]
  },
  {
   "cell_type": "markdown",
   "id": "613dc752-c06c-4ae9-a398-029df90cdfea",
   "metadata": {},
   "source": [
    "In the statement `mask = marks < 6.0` Python applies the conditional statement ($< 6.0$) for each item of the array and stores the result `True` or `False` in the array `mask`. Now the Boolean array can be used to extract the data:"
   ]
  },
  {
   "cell_type": "code",
   "execution_count": 30,
   "id": "454d01f9-2bbb-4400-a510-48b119e08e73",
   "metadata": {},
   "outputs": [
    {
     "name": "stdout",
     "output_type": "stream",
     "text": [
      "[4.  5.3 3.5 5.5]\n"
     ]
    }
   ],
   "source": [
    "onvoldoendes = marks[mask]\n",
    "print(onvoldoendes)"
   ]
  },
  {
   "cell_type": "markdown",
   "id": "51c308a1-66b5-4f14-877f-a8e74ea5f550",
   "metadata": {},
   "source": [
    "If you use a Boolean array (`mask`) as indices, the result is that all items are retrieved for which the value in the Boolean array is `True`. In this case the 2nd, 4th, 7th and 8th items in `mask` are `True` so the 2nd, 4th, 7th and 8th items in `marks` are retrieved."
   ]
  },
  {
   "cell_type": "markdown",
   "id": "3cfd425b-8eae-4b58-88d0-59ac03037095",
   "metadata": {},
   "source": [
    "You can also apply multiple conditions by using logical operators. Unfortunately python's standard logical operators `and`, `or` and `not` will not work on arrays as they do not perform the operator element-wise (they try to compare the array as a whole and that of course does not make sense). The solution is to use the bitwise operators `&` (logical and), `|` (logical or), `~` (logical not). So if you like to round all marks in the array that have a value larger than 5.0 and smaller than 6.0 to an integer value you can do the following:"
   ]
  },
  {
   "cell_type": "code",
   "execution_count": 31,
   "id": "73b659bb-5730-4293-a64e-53a8bcf38898",
   "metadata": {},
   "outputs": [
    {
     "name": "stdout",
     "output_type": "stream",
     "text": [
      "[False False False  True False False False  True]\n",
      "[ 7.5  4.   8.   5.   6.5 10.   3.5  6. ]\n"
     ]
    }
   ],
   "source": [
    "marks = np.array([7.5, 4.0, 8.0, 5.3, 6.5, 10.0, 3.5, 5.5])\n",
    "\n",
    "# create the mask\n",
    "mask = (marks > 5.0) & (marks < 6)\n",
    "print(mask)\n",
    "\n",
    "# round the selected items to integer values\n",
    "marks[mask] = np.around(marks[mask])\n",
    "\n",
    "print(marks)"
   ]
  },
  {
   "cell_type": "code",
   "execution_count": null,
   "id": "78b9c84c-6383-4890-93ab-a78e90ad8f40",
   "metadata": {},
   "outputs": [],
   "source": []
  },
  {
   "cell_type": "markdown",
   "id": "b0a9ecdc-bc66-41d4-b9c5-096bc95a1bdf",
   "metadata": {},
   "source": [
    "---\n",
    "**Assignment 1**\n",
    "\n",
    "In a simulation of $N=100$ bouncing balls we have a numpy array `h` that contains the current heights (above the floor) of all balls. Furthermore we have an array `v` of velocities in which a negative velocity is towards the floor and a positive velocity means the ball is moving in the upward direction. The floor is positioned at a height equal to zero. For convenience we create a current state in the simulation using the random generators:\n",
    "\n",
    "- Create a numpy array `h` that contains 100 random (uniform) positions between 0 and 1.\n",
    "- Create a numpy array `v` that contain 100 random (uniform) velocities between between -0.5 and 0.5"
   ]
  },
  {
   "cell_type": "code",
   "execution_count": 2,
   "id": "bff5d38d-e134-40bf-a820-cbfc18894766",
   "metadata": {
    "ExecuteTime": {
     "end_time": "2023-11-15T13:10:28.185075090Z",
     "start_time": "2023-11-15T13:10:28.140604901Z"
    }
   },
   "outputs": [
    {
     "name": "stdout",
     "output_type": "stream",
     "text": [
      "[2.59815142e-01 2.88819193e-02 9.28441175e-01 3.91084971e-01\n",
      " 6.47735069e-01 6.46620562e-01 3.87210032e-01 9.05377839e-01\n",
      " 5.90566023e-01 7.77398657e-01 3.37288177e-01 2.77449798e-02\n",
      " 2.72126102e-01 8.12497651e-01 7.14089980e-01 1.29764135e-01\n",
      " 4.93925180e-01 6.61473115e-01 1.98556744e-01 7.70536547e-01\n",
      " 1.32732815e-01 4.96395702e-01 2.17202648e-01 2.55305379e-02\n",
      " 4.34056502e-01 2.47768803e-01 4.22483689e-01 9.16751882e-01\n",
      " 4.06230380e-01 5.69598101e-01 3.87945258e-01 1.30001943e-01\n",
      " 6.43939108e-01 6.19282817e-01 7.58429640e-01 8.25323199e-01\n",
      " 5.62589644e-01 2.91712478e-01 1.85122451e-01 3.30664668e-01\n",
      " 7.01485906e-01 8.03440829e-01 5.95948238e-01 1.27831437e-01\n",
      " 2.24989297e-01 4.32826431e-01 5.21554294e-01 9.88587219e-01\n",
      " 6.81839507e-02 3.81805687e-01 2.40135170e-01 6.40605380e-01\n",
      " 8.64986480e-01 2.90860794e-01 3.80115233e-01 1.86027030e-02\n",
      " 3.46358545e-01 3.97555023e-01 2.21048289e-01 1.66383849e-01\n",
      " 3.25443951e-01 8.14303776e-01 7.84678265e-01 7.78608206e-02\n",
      " 5.71346600e-01 9.13997719e-01 9.84409501e-01 1.83433146e-01\n",
      " 9.21964094e-01 2.94565994e-01 7.44639711e-01 4.11857816e-01\n",
      " 4.76806852e-01 4.80097057e-01 6.34928212e-01 4.09767872e-01\n",
      " 4.25928980e-01 9.95312203e-02 1.27157523e-01 4.25246639e-01\n",
      " 4.41085388e-03 8.78619046e-01 4.89583713e-01 1.55653529e-01\n",
      " 8.71818579e-01 4.16653281e-01 2.70416897e-04 2.22305521e-01\n",
      " 5.85456010e-02 9.60634897e-01 6.58449908e-01 9.99853558e-01\n",
      " 9.39283194e-03 6.94962070e-01 8.38325941e-01 4.54259013e-01\n",
      " 6.66997225e-01 1.49740646e-01 3.44147680e-01 5.81379758e-02]\n",
      "[ 0.09997292 -0.40953413 -0.49836863  0.44945061 -0.40326599 -0.03450046\n",
      "  0.05602716 -0.3723881  -0.41680986  0.40508505  0.19091242  0.13727717\n",
      " -0.47614782 -0.10410889 -0.15688294 -0.32214069  0.12878594 -0.3792367\n",
      "  0.11789378  0.2133435   0.22530976 -0.07137295 -0.08083081 -0.02669915\n",
      " -0.42733428 -0.21712648 -0.48876528  0.38971221 -0.08792219 -0.39431426\n",
      " -0.23425818 -0.40983557 -0.28498627  0.41549651  0.16534015 -0.36056852\n",
      "  0.24569064 -0.05305394 -0.27056749  0.03038128  0.15220938 -0.11999711\n",
      "  0.1898285  -0.25015217 -0.14525304  0.35890003  0.07930547 -0.21140009\n",
      " -0.12584736 -0.45783586 -0.1958973  -0.49726739 -0.34556604 -0.22020003\n",
      " -0.16927381  0.27115249 -0.36149029 -0.24088616  0.17401392 -0.10558491\n",
      "  0.24835412  0.05127103  0.04200194 -0.06600639  0.41684026  0.03872982\n",
      " -0.0965017   0.08921365 -0.32039519  0.24414102  0.3264956  -0.07984185\n",
      " -0.41534511  0.00355071  0.36233558 -0.39574161  0.11132196 -0.43802273\n",
      "  0.43992547  0.16145935 -0.16545228 -0.47999049  0.21101506 -0.14930231\n",
      "  0.05798461 -0.29213422  0.38372633  0.18384277 -0.18784598 -0.23498858\n",
      " -0.37959579  0.11581536 -0.48744317  0.39950732 -0.20758479  0.31820035\n",
      "  0.39504478 -0.26778611 -0.28766503 -0.32741925]\n"
     ]
    }
   ],
   "source": [
    "# =============== YOUR CODE GOES HERE =================\n",
    "import numpy as np\n",
    "\n",
    "h = np.random.uniform(0, 1, 100)\n",
    "v = np.random.uniform(-0.5,0.5,100)\n",
    "\n",
    "print(h)\n",
    "print(v)"
   ]
  },
  {
   "cell_type": "markdown",
   "id": "7942d4ba-945a-4c14-a380-7d71e620e623",
   "metadata": {},
   "source": [
    "Some balls will be in contact with the floor (i.e. the height $<$ radius). \n",
    "- Create a mask `contact` that is True if the ball is in contact and False otherwise. Take a radius of $r=0.05$."
   ]
  },
  {
   "cell_type": "code",
   "execution_count": 3,
   "id": "b5645f19-f88e-485a-afb8-b75f54c6e111",
   "metadata": {
    "ExecuteTime": {
     "end_time": "2023-11-15T13:10:32.379781301Z",
     "start_time": "2023-11-15T13:10:32.358256731Z"
    }
   },
   "outputs": [
    {
     "name": "stdout",
     "output_type": "stream",
     "text": [
      "[False  True False False False False False False False False False  True\n",
      " False False False False False False False False False False False  True\n",
      " False False False False False False False False False False False False\n",
      " False False False False False False False False False False False False\n",
      " False False False False False False False  True False False False False\n",
      " False False False False False False False False False False False False\n",
      " False False False False False False False False  True False False False\n",
      " False False  True False False False False False  True False False False\n",
      " False False False False]\n"
     ]
    }
   ],
   "source": [
    "# =============== YOUR CODE GOES HERE =================\n",
    "contact = (h < 0.05)\n",
    "print(contact)"
   ]
  },
  {
   "cell_type": "markdown",
   "id": "46224700-b0d6-417f-bf95-24393116b621",
   "metadata": {},
   "source": [
    "If the ball is in contact and the velocity is negative, obviously the ball bounces, so the velocity should change sign.\n",
    "\n",
    "- Create a mask `bounce` that is True if the ball is bouncing.\n",
    "- Use the mask `bounce` to change the array `v` such that balls that are in contact have their velocity changed in sign."
   ]
  },
  {
   "cell_type": "code",
   "execution_count": 4,
   "id": "4c6c2064-6c38-4c62-96ed-52192387dca3",
   "metadata": {
    "ExecuteTime": {
     "end_time": "2023-11-15T13:10:34.159967095Z",
     "start_time": "2023-11-15T13:10:34.117928318Z"
    }
   },
   "outputs": [
    {
     "name": "stdout",
     "output_type": "stream",
     "text": [
      "[False  True False False False False False False False False False False\n",
      " False False False False False False False False False False False  True\n",
      " False False False False False False False False False False False False\n",
      " False False False False False False False False False False False False\n",
      " False False False False False False False False False False False False\n",
      " False False False False False False False False False False False False\n",
      " False False False False False False False False  True False False False\n",
      " False False False False False False False False  True False False False\n",
      " False False False False]\n"
     ]
    }
   ],
   "source": [
    "# =============== YOUR CODE GOES HERE =================\n",
    "bounce = (h < 0.05) & (v < 0)\n",
    "print(bounce)\n",
    "\n",
    "v[bounce] = v[bounce]*-1\n"
   ]
  },
  {
   "cell_type": "code",
   "execution_count": null,
   "id": "f741ab34-ac24-4407-873d-eff698686031",
   "metadata": {},
   "outputs": [],
   "source": []
  }
 ],
 "metadata": {
  "kernelspec": {
   "display_name": "Python 3 (ipykernel)",
   "language": "python",
   "name": "python3"
  },
  "language_info": {
   "codemirror_mode": {
    "name": "ipython",
    "version": 3
   },
   "file_extension": ".py",
   "mimetype": "text/x-python",
   "name": "python",
   "nbconvert_exporter": "python",
   "pygments_lexer": "ipython3",
   "version": "3.9.17"
  }
 },
 "nbformat": 4,
 "nbformat_minor": 5
}
