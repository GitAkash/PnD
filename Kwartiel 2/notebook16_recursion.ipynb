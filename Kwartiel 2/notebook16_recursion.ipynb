{
 "cells": [
  {
   "cell_type": "markdown",
   "id": "04365e4f-e5b7-4b8e-a7e1-adc9cb668caa",
   "metadata": {},
   "source": [
    "# NOTEBOOK 16 Recursion\n",
    "---"
   ]
  },
  {
   "cell_type": "markdown",
   "id": "1e2d852e-5af7-42d9-a822-3663181f40d8",
   "metadata": {},
   "source": [
    "## What is recusion?"
   ]
  },
  {
   "cell_type": "markdown",
   "id": "1e8292e4-7610-46a4-b095-795bb3707cbc",
   "metadata": {},
   "source": [
    "Some problems are recursive in nature. What we mean with this is that the problem can be defined in terms of a simpler form of the same problem. An example is the computation of the factorial of a number. The factorial of a natural number $n$ is defined as the product of all positive integers smaller or equal to $n$:\n",
    "\n",
    "$$ n!=n \\times (n-1)\\times(n-2)\\times...\\times2 \\times1$$\n",
    "\n",
    "But the product $(n-1)\\times(n-2)\\times...\\times2\\times 1$ is just equal to the factorial of $n-1$, which means that we can write the factorial of $n$ as $n$ times the factorial of $n-1$. \n",
    "\n",
    "$$ n! = n\\times (n-1)! $$\n",
    "\n",
    "In other words to solve the problem of $n!$ we need to solve a simpler version of the problem: $(n-1)!$. But to solve $(n-1)!$ we have to compute an even simpler version of the problem: $(n-2)!$. This is the essence of a recursive nature of the problem. You might wonder that the recursive iterations never stop. To compute $(n-2)!$ we need $(n-3)!$; to compute $(n-3)!$ we need $(n-4)!$; and so on. The solution to this is that at one moment the problem is simplified so much that the solution becomes either trivial or is defined. In the case of a factorial we know that $0! = 1$, so as soon as you need to compute $0!$ you write down 1 rather than continuing with $(-1)!$ etc. The definition $0! = 1$ is called the \\textbf{base}-case. It prevents an infinite repetition of the recursive relation.\n"
   ]
  },
  {
   "cell_type": "markdown",
   "id": "ae66e4aa-8ccd-4cf9-9ae7-c6c7b9e8973d",
   "metadata": {},
   "source": [
    "## A Python example."
   ]
  },
  {
   "cell_type": "markdown",
   "id": "2115d661-41ef-4b22-bff9-2cac82bce9b7",
   "metadata": {},
   "source": [
    "As in most programming languages Python supports the definition of recursive functions. Recursive functions are defined in terms of their self in a similar fashion as the recursive definition of the factorial is defined in terms of the factorial. Staying with the example of a factorial, a recursive implementation of a function that computes the factorial of an natural number $n$ is the following.\n"
   ]
  },
  {
   "cell_type": "code",
   "execution_count": 1,
   "id": "9b33555b-cc22-4642-80e8-220161617e6b",
   "metadata": {},
   "outputs": [],
   "source": [
    "import numpy as np\n",
    "\n",
    "\n",
    "# example\n",
    "\n",
    "def factorial(n):\n",
    "    \"\"\"\n",
    "    computes and returns the factorial of n. \n",
    "    \"\"\"\n",
    "    \n",
    "    # Base case: We know that 0! = 1 so if n == 0 we return 1\n",
    "    if n==0:\n",
    "        return 1\n",
    "    \n",
    "    # Recursive relation: for any other value of n we have n!= n*(n-1)!\n",
    "    f = n * factorial(n - 1)\n",
    "    \n",
    "    return f"
   ]
  },
  {
   "cell_type": "markdown",
   "id": "96f3ba02-d22e-4d57-ab15-e76017dc8f79",
   "metadata": {},
   "source": [
    "This function is recursive because to calculate `factorial(n)` it calls itself with the argument `n - 1`. We will not get problems with conflicting variable names because each time the function is called, a new namespace specifically for that function call is created. The **base**-case is implemented as a conditional expression that detects the end of the recursive procedure and makes sure that the function does not infinitely keeps calling itself. Here the base case is when `n==0`. When the function is called with `n = 0` the function just returns 1. Executing the function with `n = 5` gives the expected output. "
   ]
  },
  {
   "cell_type": "code",
   "execution_count": 2,
   "id": "2c791526-86fb-4bdc-8a43-e5187fb591fb",
   "metadata": {
    "tags": []
   },
   "outputs": [
    {
     "data": {
      "text/plain": [
       "120"
      ]
     },
     "execution_count": 2,
     "metadata": {},
     "output_type": "execute_result"
    }
   ],
   "source": [
    "factorial(5)"
   ]
  },
  {
   "cell_type": "markdown",
   "id": "6ffc06ea-9aeb-412c-b5bb-319ef852c5ce",
   "metadata": {},
   "source": [
    "## Your turn."
   ]
  },
  {
   "cell_type": "markdown",
   "id": "064b15a2-8769-4758-9d1b-3c8928573b1e",
   "metadata": {
    "tags": []
   },
   "source": [
    "---\n",
    "**Assignment 1**\n",
    "\n",
    "The quantum mechanical wavefunction of a particle in a 1D harmonic potential well is given by the following expression:\n",
    "\n",
    "$$ \\Psi_n (x) \\propto \\frac{1}{\\sqrt{2^n n!}} e^{-\\frac{x^2}{2}} H_n(x) $$ \n",
    "\n",
    "The functions $H_n(x)$ are the Hermite polynomials and are given by:\n",
    "\n",
    "$$ \\begin{matrix}H_0(x)=1\\\\H_1(x)=2x\\\\H_2(x)=4x^2-2\\\\H_3(x)=8x^3-12x\\\\H_4(x)=16x^4-48x^2+12\\end{matrix} $$\n",
    "\n",
    "The Hermite polynomials show a recursive relation:\n",
    "\n",
    "$$ H_n(x) = 2xH_{n-1}(x) - 2(n-1)H_{n-2}(x) $$\n",
    "\n",
    "First we use the **recursive** relation to calculate the Hermite polynomials.\n",
    "\n",
    "Write a recursive function `hermite_poly(n, x)` that returns the value of the `n`-th Hermite polynomial function evaluated at `x`. \n",
    "\n",
    "Important note: the recusive relation has 2 base cases: for `n=0` and `n=1`. Can you think of why having just one base case for `n=0` will not work?"
   ]
  },
  {
   "cell_type": "code",
   "execution_count": 6,
   "id": "c1822bdf-ec72-423a-b2eb-7fe78c0c4f2f",
   "metadata": {
    "ExecuteTime": {
     "end_time": "2023-11-15T13:08:06.609101315Z",
     "start_time": "2023-11-15T13:08:06.561697287Z"
    }
   },
   "outputs": [
    {
     "data": {
      "text/plain": "34.0"
     },
     "execution_count": 6,
     "metadata": {},
     "output_type": "execute_result"
    }
   ],
   "source": [
    "# =============== YOUR CODE GOES HERE =================\n",
    "\n",
    "def hermite_poly(n,x):\n",
    "    if n == 0:\n",
    "        return 1 + x/x -1\n",
    "    if n == 1:\n",
    "        return 2 * x\n",
    "    else:   \n",
    "        return 2 * x * hermite_poly(n-1, x) - 2 * (n - 1) * hermite_poly(n-2, x)        \n",
    "\n",
    "\n",
    "hermite_poly(2,3)"
   ]
  },
  {
   "cell_type": "markdown",
   "id": "684054c4-8778-4d78-9a6a-ed7d8f1a361b",
   "metadata": {
    "tags": []
   },
   "source": [
    "---\n",
    "**Assignment 2**\n",
    "\n",
    "Use your function `hermite_poly()` to plot the wavefunctions of the first 5 orders (n=0,1,2,3,4) on the interval from $x = -10$ to $x = 10$."
   ]
  },
  {
   "cell_type": "code",
   "execution_count": 7,
   "id": "6bbc25d5-7b8a-4a14-b851-2eb5feb230fb",
   "metadata": {
    "ExecuteTime": {
     "end_time": "2023-11-15T13:08:07.922074468Z",
     "start_time": "2023-11-15T13:08:07.772160111Z"
    }
   },
   "outputs": [
    {
     "data": {
      "text/plain": "<Figure size 640x480 with 1 Axes>",
      "image/png": "[encoded data removed]"
     },
     "metadata": {},
     "output_type": "display_data"
    }
   ],
   "source": [
    "# =============== YOUR CODE GOES HERE =================\n",
    "import matplotlib.pyplot as plt\n",
    "import numpy as np\n",
    "\n",
    "x = np.linspace(-10, 10, 1000)\n",
    "n = 4\n",
    "\n",
    "plt.plot(x, hermite_poly(0,x))\n",
    "plt.plot(x, hermite_poly(1,x))\n",
    "plt.plot(x, hermite_poly(2,x))\n",
    "plt.plot(x, hermite_poly(3,x))\n",
    "plt.plot(x, hermite_poly(4,x))\n",
    "\n",
    "plt.show()\n",
    "    "
   ]
  },
  {
   "cell_type": "code",
   "execution_count": null,
   "id": "544cb04c-dcd4-4c93-9c2a-035535e22d50",
   "metadata": {},
   "outputs": [],
   "source": []
  }
 ],
 "metadata": {
  "kernelspec": {
   "display_name": "Python 3 (ipykernel)",
   "language": "python",
   "name": "python3"
  },
  "language_info": {
   "codemirror_mode": {
    "name": "ipython",
    "version": 3
   },
   "file_extension": ".py",
   "mimetype": "text/x-python",
   "name": "python",
   "nbconvert_exporter": "python",
   "pygments_lexer": "ipython3",
   "version": "3.9.17"
  }
 },
 "nbformat": 4,
 "nbformat_minor": 5
}
