{
 "cells": [
  {
   "cell_type": "markdown",
   "id": "41477f5d-7b8e-4b3d-8e62-3c5d7e35d233",
   "metadata": {},
   "source": [
    "# NOTEBOOK 3 Statistics with Python\n",
    "---"
   ]
  },
  {
   "cell_type": "markdown",
   "id": "6175abb6-eebc-4abc-93fc-2fc11507613e",
   "metadata": {},
   "source": [
    "Today data analysis heavily relies on computers. Many statistical parameters that describe your data (like the mean and the standard deviation) are very cumbersome to compute by hand, but very easily and quickly evaluated by a computer. We will look at how to generate random numbers, and how to perform some basic statistical analysis."
   ]
  },
  {
   "cell_type": "markdown",
   "id": "2153d916-cfac-43b6-b677-16ea2910b5d4",
   "metadata": {},
   "source": [
    "## Random number generation"
   ]
  },
  {
   "cell_type": "markdown",
   "id": "51708b62-7fe3-40ed-b3f3-d17030b150fb",
   "metadata": {},
   "source": [
    "As the name implies, a random number generator creates random numbers. Python has its own built-in random module (random), but we will use the much more versatile numpy random generators. To access these you use an instance of the `default_rng` class. It is not important at this moment to know what a class and instance is. This will be discussed later in the course. The `default_rng` calss is part of the numpy random module:"
   ]
  },
  {
   "cell_type": "code",
   "execution_count": 12,
   "id": "40a6a6ac-0fd7-46a7-b306-6354db7ab989",
   "metadata": {
    "tags": []
   },
   "outputs": [],
   "source": [
    "import numpy as np \n",
    "\n",
    "# create instance of the random number generator\n",
    "rng = np.random.default_rng()"
   ]
  },
  {
   "cell_type": "markdown",
   "id": "5acb43aa-0493-479b-af0e-45e05ad0d129",
   "metadata": {},
   "source": [
    "You can use `dir()` to see all methods of `rng`:"
   ]
  },
  {
   "cell_type": "code",
   "execution_count": 13,
   "id": "575aeb8b-430a-4630-a51f-f2de6ef06a09",
   "metadata": {},
   "outputs": [
    {
     "name": "stdout",
     "output_type": "stream",
     "text": [
      "['__class__', '__delattr__', '__dir__', '__doc__', '__eq__', '__format__', '__ge__', '__getattribute__', '__getstate__', '__gt__', '__hash__', '__init__', '__init_subclass__', '__le__', '__lt__', '__ne__', '__new__', '__reduce__', '__reduce_ex__', '__repr__', '__setattr__', '__setstate__', '__sizeof__', '__str__', '__subclasshook__', '_bit_generator', '_poisson_lam_max', 'beta', 'binomial', 'bit_generator', 'bytes', 'chisquare', 'choice', 'dirichlet', 'exponential', 'f', 'gamma', 'geometric', 'gumbel', 'hypergeometric', 'integers', 'laplace', 'logistic', 'lognormal', 'logseries', 'multinomial', 'multivariate_hypergeometric', 'multivariate_normal', 'negative_binomial', 'noncentral_chisquare', 'noncentral_f', 'normal', 'pareto', 'permutation', 'permuted', 'poisson', 'power', 'random', 'rayleigh', 'shuffle', 'standard_cauchy', 'standard_exponential', 'standard_gamma', 'standard_normal', 'standard_t', 'triangular', 'uniform', 'vonmises', 'wald', 'weibull', 'zipf']\n"
     ]
    }
   ],
   "source": [
    "print(dir(rng))  # print is not required but gives a bit more compact output"
   ]
  },
  {
   "cell_type": "markdown",
   "id": "ec83a7c8-7249-4642-bd82-a9354c23c979",
   "metadata": {},
   "source": [
    "For example we write code that draws 10 numbers from a normal distribution with an average of $\\mu=100$ and a standard deviation of $\\sigma=15$."
   ]
  },
  {
   "cell_type": "code",
   "execution_count": 14,
   "id": "46bfd1de-1988-4661-85d1-ba435242f7b3",
   "metadata": {},
   "outputs": [
    {
     "name": "stdout",
     "output_type": "stream",
     "text": [
      "[111.33642707 102.26242434  92.64327462  83.24291361  89.42403509\n",
      "  98.83892777 118.24062162 103.10903084 102.07431086  96.84834412]\n"
     ]
    }
   ],
   "source": [
    "data = rng.normal(loc=100, scale=15, size=10)\n",
    "print(data)"
   ]
  },
  {
   "cell_type": "markdown",
   "id": "64e669d8-033d-4b90-8bde-c0deebda2ffe",
   "metadata": {},
   "source": [
    "The variable `data` is a numpy array and contains 10 random numbers from the normal distribution."
   ]
  },
  {
   "cell_type": "markdown",
   "id": "605a3f8f-33c7-4f6e-9c83-5aed78e58d6d",
   "metadata": {},
   "source": [
    "---\n",
    "**Assigment**\n",
    "\n",
    "Simulate the throw with a normal dice. Define a variable `throw` that contains 25 integers chosen randomly on the interval [1,6].  \n",
    "\n",
    "HINT: Use the `integers` method of `rng`.  \n",
    "HINT: Use help() or Contextual help to check how the method is used."
   ]
  },
  {
   "cell_type": "code",
   "execution_count": 15,
   "id": "115a2fa2",
   "metadata": {},
   "outputs": [
    {
     "name": "stdout",
     "output_type": "stream",
     "text": [
      "[4 1 2 3 2 4 2 1 2 6 1 4 1 5 1 1 2 1 6 5 6 1 1 4 3]\n"
     ]
    }
   ],
   "source": [
    "import numpy as np\n",
    "throws = np.random.default_rng()\n",
    "throws =rng.integers(1,6, size=25, endpoint=True)\n",
    "print(throws)"
   ]
  },
  {
   "cell_type": "code",
   "execution_count": 16,
   "id": "5156c9fe-2405-4a5c-bc10-478e13b55c4a",
   "metadata": {},
   "outputs": [
    {
     "name": "stdout",
     "output_type": "stream",
     "text": [
      "[5 4 2 5 4 4 3 1 5 2 3 6 6 4 2 4 6 5 4 4 3 1 1 6 1]\n"
     ]
    }
   ],
   "source": [
    "# =============== YOUR CODE GOES HERE =================\n",
    "import numpy as np\n",
    "throws = np.random.default_rng()\n",
    "throws =rng.integers(1,6, size=25, endpoint=True)\n",
    "print(throws)"
   ]
  },
  {
   "cell_type": "markdown",
   "id": "d65ffd23-b390-4641-9631-c6dc05ac1604",
   "metadata": {},
   "source": [
    "## Statistical functions"
   ]
  },
  {
   "cell_type": "markdown",
   "id": "2734e1c5-5612-4270-99d6-753de31d6128",
   "metadata": {},
   "source": [
    "Numpy an Scipy have quite a few useful functions that help to describe your data using statistical parameters. The most important ones are summarized in table:"
   ]
  },
  {
   "cell_type": "markdown",
   "id": "13403241-3057-41a1-8c42-6e3b71448854",
   "metadata": {},
   "source": [
    "|function|description|\n",
    "|---|---|\n",
    "|`np.max(x)`|Returns the largest value in array `x`|\n",
    "|`np.min(x)`|Returns the smallest value in array `x`|\n",
    "|`np.mean(x)`|Returns the mean of array `x`|\n",
    "|`np.std(x, ddof=1)`|Returns the ***sample*** standard deviation of array `x`|\n",
    "|`np.std(x, ddof=0)`|Returns the standard deviation of array `x`|\n",
    "|`np.sum(x)`|Returns the sum of all values in array `x`|\n",
    "|`len(x)` or `np.size(x)`|Returns the number of values in array `x`|"
   ]
  },
  {
   "cell_type": "markdown",
   "id": "e7624b60-50ff-4885-a16f-cbec4a980e7d",
   "metadata": {},
   "source": [
    "---\n",
    "**Assigment**\n",
    "\n",
    "For the two variables `data` and `throws` compute:\n",
    "- the maximun and minimum value\n",
    "- the mean\n",
    "- the sample standard deviation"
   ]
  },
  {
   "cell_type": "code",
   "execution_count": 17,
   "id": "796d043f-80d8-42f7-9f0e-f68bb2779b30",
   "metadata": {},
   "outputs": [
    {
     "name": "stdout",
     "output_type": "stream",
     "text": [
      "data max = 118.24062161945515\n",
      " data min =83.24291361480641\n",
      " data std =10.208840125780977\n",
      "\n",
      "throws max 6\n",
      " throws min =1\n",
      " throws std=1.6802777548171415\n",
      "\n"
     ]
    }
   ],
   "source": [
    "# =============== YOUR CODE GOES HERE =================\n",
    "print (f\"data max = {data.max()}\\n\",f\"data min ={data.min()}\\n\", f\"data std ={ data.std(ddof=1)}\\n\")\n",
    "print (f\"throws max {throws.max()}\\n\", f\"throws min ={throws.min()}\\n\",f\"throws std={throws.std(ddof=1)}\\n\")\n",
    "\n"
   ]
  },
  {
   "cell_type": "markdown",
   "id": "20726f23-e1d2-4407-8ea4-dc8e747da207",
   "metadata": {},
   "source": [
    "---\n",
    "**Assigment**\n",
    "\n",
    "We use the thin lens equation to compute the focal distance $f$ given 400 measured values for the object $v$ and image distance $b$:\n",
    "\n",
    "$$\\frac{1}{f} = \\frac{1}{v} + \\frac{1}{b}$$\n",
    "\n",
    "First we define the sample of measured values by drawing them from a normal distribution:\n",
    "Write code that:\n",
    "- creates a numpy array `b` with 400 values drawn from a normal distribution with mean 31.5 cm and standard deviation 1.2 cm\n",
    "- creates a numpy array `v` with 400 values drawn from a normal distribution with mean 46.0 cm and standard deviation 0.8 cm\n",
    "- computes the mean and standard deviation of the samples `b` and `v`. "
   ]
  },
  {
   "cell_type": "code",
   "execution_count": 18,
   "id": "d62198e7-c4a1-4a6f-afd2-9cf8436b26e4",
   "metadata": {},
   "outputs": [],
   "source": [
    "# =============== YOUR CODE GOES HERE =================\n",
    "\n",
    "b = rng.normal(loc=31.5, scale=1.2, size=400)\n",
    "v = rng.normal(loc=46.0, scale=0.8, size=400)\n",
    "\n",
    "b_mean = b.mean()\n",
    "b_stddev = b.std()\n",
    "\n",
    "v_mean = v.mean()\n",
    "v_stddev = v.std()"
   ]
  },
  {
   "cell_type": "markdown",
   "id": "04e7aac1-bb7e-447d-8a7f-6efa9073fc8a",
   "metadata": {},
   "source": [
    "We compute the focal distance for each measured pair of object and image distance (so we get 400 focal distances). Write code that:\n",
    "- computes $f$ and stores in array `f`. (so `f` has 400 values)\n",
    "- computes the mean of `f`\n",
    "- computes the sample standard deviation\n",
    "- computes the standard error of the mean of $f$"
   ]
  },
  {
   "cell_type": "code",
   "execution_count": 19,
   "id": "9ea69116-d95f-441a-af27-d35bdfd1f1e0",
   "metadata": {},
   "outputs": [
    {
     "name": "stdout",
     "output_type": "stream",
     "text": [
      "\n",
      "Mean = 18.699685890133225 cm \n",
      " Sample standard deviation = 0.43858770545137127 cm \n",
      " Standard error = 0.021929385272568564 cm\n"
     ]
    }
   ],
   "source": [
    "# =============== YOUR CODE GOES HERE =================\n",
    "f = 1/(1/v + 1/b)\n",
    "f_mean = np.mean(f)\n",
    "f_std = np.std(f, ddof=1)\n",
    "f_err = f_std / np.sqrt(len(f))\n",
    "\n",
    "print(f\"\\nMean = {f_mean} cm \\n\",f\"Sample standard deviation = {f_std} cm \\n\", f\"Standard error = {f_err} cm\")"
   ]
  },
  {
   "cell_type": "code",
   "execution_count": null,
   "id": "a437d133",
   "metadata": {},
   "outputs": [],
   "source": []
  }
 ],
 "metadata": {
  "kernelspec": {
   "display_name": "Python 3 (ipykernel)",
   "language": "python",
   "name": "python3"
  },
  "language_info": {
   "codemirror_mode": {
    "name": "ipython",
    "version": 3
   },
   "file_extension": ".py",
   "mimetype": "text/x-python",
   "name": "python",
   "nbconvert_exporter": "python",
   "pygments_lexer": "ipython3",
   "version": "3.10.9"
  },
  "toc-autonumbering": false,
  "toc-showcode": false
 },
 "nbformat": 4,
 "nbformat_minor": 5
}
