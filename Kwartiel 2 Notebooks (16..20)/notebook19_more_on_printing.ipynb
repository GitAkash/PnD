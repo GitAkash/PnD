{
 "cells": [
  {
   "cell_type": "markdown",
   "id": "04365e4f-e5b7-4b8e-a7e1-adc9cb668caa",
   "metadata": {},
   "source": [
    "# NOTEBOOK 19 more on printing\n",
    "---"
   ]
  },
  {
   "cell_type": "markdown",
   "id": "1e2d852e-5af7-42d9-a822-3663181f40d8",
   "metadata": {},
   "source": [
    "## f-strings\n",
    "\n",
    " f-strings, also known as \"formatted string literals,\" are a feature introduced in Python 3.6 that provides a concise and readable way to embed expressions inside string literals. They are prefixed with the letter 'f' and are a way to create strings that include the values of Python expressions. The easiest way to demonstrate how this works is with an example:"
   ]
  },
  {
   "cell_type": "code",
   "execution_count": 1,
   "id": "9b33555b-cc22-4642-80e8-220161617e6b",
   "metadata": {
    "ExecuteTime": {
     "end_time": "2023-11-15T12:46:40.103063908Z",
     "start_time": "2023-11-15T12:46:40.101851203Z"
    }
   },
   "outputs": [
    {
     "name": "stdout",
     "output_type": "stream",
     "text": [
      "Hello, Alice! You are 30 years old.\n"
     ]
    }
   ],
   "source": [
    "# example\n",
    "name = 'Alice'\n",
    "age = 30\n",
    "\n",
    "# Using f-string to embed variables in a string\n",
    "message = f'Hello, {name}! You are {age} years old.'\n",
    "print(message)"
   ]
  },
  {
   "cell_type": "markdown",
   "id": "d4e964d2-c2d8-40d2-bbf7-7774a798f125",
   "metadata": {},
   "source": [
    "the string starts with `f`, followed by a string between quotes. Inside the string you can use curly brackets {} around a variable name. The variable name is then replaced by the stringrepresentation of the value of that variable. So `{name}` in string variable `message` is replaced by its value `Alice` when printed.\n",
    "\n",
    "You can also use expressions in an f-string:"
   ]
  },
  {
   "cell_type": "code",
   "execution_count": null,
   "id": "c8de8f0b-9cae-45e9-a2ad-2c1c2af5aac8",
   "metadata": {},
   "outputs": [],
   "source": [
    "x = 10\n",
    "y = 20\n",
    "\n",
    "# You can perform expressions inside the curly braces\n",
    "result = f'The sum of {x} and {y} is {x + y}.'\n",
    "print(result)\n"
   ]
  },
  {
   "cell_type": "markdown",
   "id": "530a9271-4d3b-4cdf-a8ee-517b715345b2",
   "metadata": {},
   "source": [
    "Very interesting, f-strings allows so-called format specifiers. This gives you full control on how values are printed. Say we want to print $\\pi$ in a scientific notation upto 25 decimals. This is how that can be achieved:"
   ]
  },
  {
   "cell_type": "code",
   "execution_count": null,
   "id": "4557712f-33c1-43cb-bcaa-fd7c145560b2",
   "metadata": {},
   "outputs": [],
   "source": [
    "from numpy import pi\n",
    "\n",
    "print(f'{pi:.25e}')  # .25 means twenty-five decimal places; e means exponential/scientific notation\n"
   ]
  },
  {
   "cell_type": "markdown",
   "id": "13ca6785-c69f-47d7-b649-81003dd7487d",
   "metadata": {},
   "source": [
    "You can also specify the total width of the string. This is usefull to align different values:"
   ]
  },
  {
   "cell_type": "code",
   "execution_count": null,
   "id": "f42ef76a-c1fe-42d5-8ce1-751bf258acae",
   "metadata": {
    "tags": []
   },
   "outputs": [],
   "source": [
    "prices = [1.99, 42, 8.95, 0.23, 120.76]\n",
    "for price in prices:\n",
    "    print(f'{price:7.2f}')  # 7 gives the number of fields; 2 the number of decimals; f the fixed-point notation"
   ]
  },
  {
   "cell_type": "markdown",
   "id": "0b0ec573-0e1c-4b4a-b529-46654b739d57",
   "metadata": {},
   "source": [
    "Apart from the width and the number of decimal places there are many options to format specifiers. Let's check a few more (For a full discussion on all the possibilities please check out the python documentation.)\n"
   ]
  },
  {
   "cell_type": "code",
   "execution_count": 7,
   "id": "c8edb32e-eda7-4607-94e3-e46c67f50b7f",
   "metadata": {
    "ExecuteTime": {
     "end_time": "2023-11-14T21:28:48.285193657Z",
     "start_time": "2023-11-14T21:28:48.244122553Z"
    }
   },
   "outputs": [
    {
     "name": "stdout",
     "output_type": "stream",
     "text": [
      "  left aling:100        strings\n",
      " right aling:       100 strings\n",
      "center aling:   100     strings\n"
     ]
    }
   ],
   "source": [
    "'''\n",
    "alignment using\n",
    "< left align\n",
    "> right align\n",
    "^ center align\n",
    "'''\n",
    "\n",
    "x = 100\n",
    "print(f'  left align:{x:<10} strings')\n",
    "print(f' right align:{x:>10} strings')\n",
    "print(f'center align:{x:^10} strings')"
   ]
  },
  {
   "cell_type": "code",
   "execution_count": null,
   "id": "3cdd6f19-c019-4289-8ad2-7612e81e7ee4",
   "metadata": {},
   "outputs": [],
   "source": [
    "'''\n",
    "choose between various format types\n",
    "e, E: exponential\n",
    "f, F: floating point\n",
    "g, G: choose between exponential and floating point based on value\n",
    "%: percentage notation\n",
    "b: binary\n",
    "d: decimal\n",
    "x, X: hexadecimal\n",
    "o: octal\n",
    "'''\n",
    "\n",
    "x = 0.42\n",
    "y = 42\n",
    "\n",
    "# for floating point values you have the following format specifiers\n",
    "print(\"{x:e}\", f'gives:{x:e}') # exponential format\n",
    "print(\"{x:E}\", f'gives:{x:E}') # exponential format\n",
    "print(\"{x:f}\", f'gives:{x:f}') # floating point format\n",
    "print(\"{x:%}\", f'gives:{x:%}') # percentage\n",
    "print(\"{x:g}\", f'gives:{x:g}') # choose between exponential and floating point depending on value\n",
    "\n",
    "# for integers you have the following format specifiers + all of the above\n",
    "print(\"{y:d}\", f'gives:{y:d}') # decimal\n",
    "print(\"{y:b}\", f'gives:{y:b}') # binary\n",
    "print(\"{y:x}\", f'gives:{y:x}') # hexadecimal\n",
    "print(\"{y:o}\", f'gives:{y:o}') # Octal"
   ]
  },
  {
   "cell_type": "markdown",
   "id": "eeef7b08-289d-43ef-88d7-3ec51bb5a477",
   "metadata": {},
   "source": [
    "---\n",
    "**Assignment 1**\n",
    "\n",
    "You are given a list of names of constants, their values and their units. Write a script that prints them in a nice table. E.g. like:\n",
    "\n",
    "```\n",
    "neutron-electron magn. moment ratio                 1.04e-03                \n",
    "atomic mass unit-kelvin relationship                1.08e+13               K\n",
    "atomic mass unit-kilogram relationship              1.66e-27              kg\n",
    "atomic unit of 2nd hyperpolarizability              6.24e-65    C^4 m^4 J^-3\n",
    "atomic unit of electric polarizability              1.65e-41    C^2 m^2 J^-1\n",
    "atomic unit of magnetizability                      7.89e-29          J T^-2\n",
    "Compton wavelength over 2 pi                        3.86e-13               m\n",
    "conductance quantum                                 7.75e-05               S\n",
    "deuteron mag. mom. to Bohr magneton ratio           4.67e-04                \n",
    "deuteron-proton mass ratio                          2.00e+00                \n",
    "deuteron rms charge radius                          2.13e-15               m\n",
    "electron charge to mass quotient                   -1.76e+11         C kg^-1\n",
    "electron mag. mom. to Bohr magneton ratio          -1.00e+00                \n",
    "electron-proton mag. mom. ratio                    -6.58e+02                \n",
    "electron-tau mass ratio                             2.88e-04                \n",
    "Fermi coupling constant                             1.17e-05          GeV^-2\n",
    "hartree-hertz relationship                          6.58e+15              Hz\n",
    "inverse meter-electron volt relationship            1.24e-06              eV\n",
    "inverse meter-joule relationship                    1.99e-25               J\n",
    "Josephson constant                                  4.84e+14         Hz V^-1\n",
    "kelvin-joule relationship                           1.38e-23               J\n",
    "muon-electron mass ratio                            2.07e+02                \n",
    "neutron molar mass                                  1.01e-03       kg mol^-1\n",
    "Planck constant                                     6.63e-34         J Hz^-1\n",
    "proton gyromag. ratio                               2.68e+08       s^-1 T^-1\n",
    "proton mass                                         1.67e-27              kg\n",
    "proton rms charge radius                            8.41e-16               m\n",
    "Rydberg constant                                    1.10e+07            m^-1\n",
    "Rydberg constant times hc in J                      2.18e-18               J\n",
    "neutron relative atomic mass                        1.01e+00                \n",
    "shielded proton gyromag. ratio in MHz/T             4.26e+01        MHz T^-1\n",
    "```"
   ]
  },
  {
   "cell_type": "code",
   "execution_count": 9,
   "id": "e5e878de-ced5-42ab-9768-628556ebcf79",
   "metadata": {
    "ExecuteTime": {
     "end_time": "2023-11-15T13:15:36.616192599Z",
     "start_time": "2023-11-15T13:15:36.609839127Z"
    }
   },
   "outputs": [
    {
     "name": "stdout",
     "output_type": "stream",
     "text": [
      "neutron-electron magn. moment ratio                                                 1.04067e-03                                             \n",
      "atomic mass unit-kelvin relationship                                                1.08095e+13                                            K\n",
      "atomic mass unit-kilogram relationship                                              1.66054e-27                                           kg\n",
      "atomic unit of 2nd hyperpolarizability                                              6.23538e-65                                 C^4 m^4 J^-3\n",
      "atomic unit of electric polarizability                                              1.64878e-41                                 C^2 m^2 J^-1\n",
      "atomic unit of magnetizability                                                      7.89104e-29                                       J T^-2\n",
      "Compton wavelength over 2 pi                                                        3.86159e-13                                            m\n",
      "conductance quantum                                                                 7.74809e-05                                            S\n",
      "deuteron mag. mom. to Bohr magneton ratio                                           4.66975e-04                                             \n",
      "deuteron-proton mass ratio                                                          1.99901e+00                                             \n",
      "deuteron rms charge radius                                                          2.12799e-15                                            m\n",
      "electron charge to mass quotient                                                    -1.75882e+11                                     C kg^-1\n",
      "electron mag. mom. to Bohr magneton ratio                                           -1.00116e+00                                            \n",
      "electron-proton mag. mom. ratio                                                     -6.58211e+02                                            \n",
      "electron-tau mass ratio                                                             2.87585e-04                                             \n",
      "Fermi coupling constant                                                             1.16638e-05                                       GeV^-2\n",
      "hartree-hertz relationship                                                          6.57968e+15                                           Hz\n",
      "inverse meter-electron volt relationship                                            1.23984e-06                                           eV\n",
      "inverse meter-joule relationship                                                    1.98645e-25                                            J\n",
      "Josephson constant                                                                  4.83598e+14                                      Hz V^-1\n",
      "kelvin-joule relationship                                                           1.38065e-23                                            J\n",
      "muon-electron mass ratio                                                            2.06768e+02                                             \n",
      "neutron molar mass                                                                  1.00866e-03                                    kg mol^-1\n",
      "Planck constant                                                                     6.62607e-34                                      J Hz^-1\n",
      "proton gyromag. ratio                                                               2.67522e+08                                    s^-1 T^-1\n",
      "proton mass                                                                         1.67262e-27                                           kg\n",
      "proton rms charge radius                                                            8.41400e-16                                            m\n",
      "Rydberg constant                                                                    1.09737e+07                                         m^-1\n",
      "Rydberg constant times hc in J                                                      2.17987e-18                                            J\n",
      "neutron relative atomic mass                                                        1.00866e+00                                             \n",
      "shielded proton gyromag. ratio in MHz/T                                             4.25764e+01                                     MHz T^-1\n"
     ]
    }
   ],
   "source": [
    "# =============== YOUR CODE GOES HERE =================\n",
    "\n",
    "names = ['neutron-electron magn. moment ratio','atomic mass unit-kelvin relationship','atomic mass unit-kilogram relationship','atomic unit of 2nd hyperpolarizability',\n",
    "         'atomic unit of electric polarizability','atomic unit of magnetizability','Compton wavelength over 2 pi','conductance quantum','deuteron mag. mom. to Bohr magneton ratio',\n",
    "         'deuteron-proton mass ratio','deuteron rms charge radius','electron charge to mass quotient','electron mag. mom. to Bohr magneton ratio','electron-proton mag. mom. ratio',\n",
    "         'electron-tau mass ratio','Fermi coupling constant','hartree-hertz relationship','inverse meter-electron volt relationship','inverse meter-joule relationship',\n",
    "         'Josephson constant','kelvin-joule relationship','muon-electron mass ratio','neutron molar mass','Planck constant','proton gyromag. ratio','proton mass','proton rms charge radius'\n",
    "         ,'Rydberg constant','Rydberg constant times hc in J','neutron relative atomic mass','shielded proton gyromag. ratio in MHz/T']\n",
    "values = [0.00104066882,10809540191600.0,1.6605390666e-27,6.2353799905e-65,1.64877727436e-41,7.8910366008e-29,3.8615926764e-13,7.748091729e-05,0.000466975457,\n",
    "          1.99900750139,2.12799e-15,-175882001076.0,-1.00115965218128,-658.21068789,0.000287585,1.1663787e-05,6579683920502000.0,1.239841984e-06,1.986445857e-25,\n",
    "          483597848400000.0,1.380649e-23,206.768283,0.0010086649156,6.62607015e-34,267522187.44,1.67262192369e-27,8.414e-16,10973731.56816,2.1798723611035e-18,1.00866491595,42.57638474]\n",
    "units = ['','K','kg','C^4 m^4 J^-3','C^2 m^2 J^-1','J T^-2','m','S','','','m','C kg^-1','','','','GeV^-2','Hz','eV','J',\n",
    "         'Hz V^-1','J','','kg mol^-1','J Hz^-1','s^-1 T^-1','kg','m','m^-1','J','','MHz T^-1']\n",
    "\n",
    "for i,j,k in zip(names,values,units):\n",
    "            print(f'{i:<60}{j:^60.5e}{k:>20}')\n"
   ]
  },
  {
   "cell_type": "markdown",
   "id": "9caa47c2-6b69-4479-975b-f2601f9b8c48",
   "metadata": {},
   "source": [
    "## Escape characters\n",
    "\n",
    "In the `print` function you can include so-called escape characters to control the way output is printed.\n",
    "- `\\n` :forces a new line\n",
    "- `\\t` :includes a tab\n",
    "- `\\r` :carriage return (go back to the start of the line)\n",
    "- `\\b` :backspace\n"
   ]
  },
  {
   "cell_type": "code",
   "execution_count": 52,
   "id": "4acf34bb-344e-4af2-93e4-8975345ae5d4",
   "metadata": {
    "ExecuteTime": {
     "end_time": "2023-11-14T21:32:58.571329682Z",
     "start_time": "2023-11-14T21:32:58.567762510Z"
    }
   },
   "outputs": [
    {
     "name": "stdout",
     "output_type": "stream",
     "text": [
      "regel 1 \n",
      "regel 2\n",
      "item1 \titem2\n",
      "aap noot mies \n",
      "123456789\n"
     ]
    }
   ],
   "source": [
    "# examples using escape characters\n",
    "\n",
    "print('regel 1 \\nregel 2')\n",
    "print('item1 \\titem2')\n",
    "print('    noot mies \\raap')\n",
    "print('123457\\b6789')"
   ]
  },
  {
   "cell_type": "markdown",
   "id": "19d8081a-3f8b-40dc-b7c9-eb852cc7a865",
   "metadata": {},
   "source": [
    "The `print` function always adds a newline esacape character at the end. This means that each time you print something it starts at a new line. But sometimes you do not want this. For example if you like to print the numbers 1 to 10 in a row:\n",
    "\n",
    "`1 2 3 4 5 6 7 8 9 10`\n",
    "\n",
    "you cannot use code like this:"
   ]
  },
  {
   "cell_type": "code",
   "execution_count": 94,
   "id": "d92280b1-109a-47a5-ab43-6af25aa7b2ef",
   "metadata": {
    "ExecuteTime": {
     "end_time": "2023-11-14T21:43:34.107587726Z",
     "start_time": "2023-11-14T21:43:34.104769184Z"
    }
   },
   "outputs": [
    {
     "name": "stdout",
     "output_type": "stream",
     "text": [
      "1\n",
      "2\n",
      "3\n",
      "4\n",
      "5\n",
      "6\n",
      "7\n",
      "8\n",
      "9\n",
      "10\n"
     ]
    }
   ],
   "source": [
    "for i in range(10):\n",
    "    print(i+1)"
   ]
  },
  {
   "cell_type": "markdown",
   "id": "4fa09929-71a2-4e10-828f-463970a82f9b",
   "metadata": {},
   "source": [
    "Each call to print function introduces output on a new line. To prevent this you can use a keyword argument `end` when calling the print function. The default value of this argument is `end='\\n'` which ensures each print call ends with a new line. But you can easily prevent this by passing a different value to `end`."
   ]
  },
  {
   "cell_type": "code",
   "execution_count": 93,
   "id": "4ca43c69-bcad-47f6-940b-045b77e6caf1",
   "metadata": {
    "ExecuteTime": {
     "end_time": "2023-11-14T21:43:32.749920832Z",
     "start_time": "2023-11-14T21:43:32.707867227Z"
    }
   },
   "outputs": [
    {
     "name": "stdout",
     "output_type": "stream",
     "text": [
      "1 2 3 4 5 6 7 8 9 10 "
     ]
    }
   ],
   "source": [
    "for i in range(10):\n",
    "    print(i+1, end=' ')"
   ]
  },
  {
   "cell_type": "code",
   "execution_count": null,
   "id": "7688b6fa-958f-4a53-90e4-af22a9193cba",
   "metadata": {},
   "outputs": [],
   "source": []
  },
  {
   "cell_type": "markdown",
   "id": "0231657f-9cb1-4502-be72-28f612763639",
   "metadata": {},
   "source": [
    "---\n",
    "**Assignment 2**\n",
    "\n",
    "You are given a list of values that represent a sudoku. Make a script that prints the sudoku in the following way:\n",
    "\n",
    "```\n",
    "..7  5..  4..  \n",
    ".12  ..4  ...  \n",
    "...  .76  .2.  \n",
    " \n",
    "...  .3.  .1.  \n",
    ".4.  6..  3.9  \n",
    ".6.  1..  8..  \n",
    " \n",
    "..4  ...  1..  \n",
    "2..  9.3  6..  \n",
    "...  ...  .5.   \n",
    "```"
   ]
  },
  {
   "cell_type": "code",
   "execution_count": 1,
   "id": "b07f75c6-bd96-4862-85e8-aab16b6d7b1b",
   "metadata": {
    "ExecuteTime": {
     "end_time": "2023-12-11T20:23:15.538844046Z",
     "start_time": "2023-12-11T20:23:15.537237178Z"
    }
   },
   "outputs": [
    {
     "name": "stdout",
     "output_type": "stream",
     "text": [
      "\t. . 7 \t5 . . \t4 . . \n",
      "\t. 1 2 \t. . 4 \t. . . \n",
      "\t. . . \t. 7 6 \t. 2 . \n",
      "\n",
      "\t. . . \t. 3 . \t. 1 . \n",
      "\t. 4 . \t6 . . \t3 . 9 \n",
      "\t. 6 . \t1 . . \t8 . . \n",
      "\n",
      "\t. . 4 \t. . . \t1 . . \n",
      "\t2 . . \t9 . 3 \t6 . . \n",
      "\t. . . \t. . . \t. 5 . \n"
     ]
    }
   ],
   "source": [
    "# =============== YOUR CODE GOES HERE =================\n",
    "\n",
    "sudoku = [0,0,7,5,0,0,4,0,0,0,1,2,0,0,4,0,0,0,0,0,0,0,7,6,0,2,0,0,0,0,0,3,0,0,1,0,0,4,0,6,0,0,3,0,9,0,6,0,1,0,0,8,0,0,0,0,4,0,0,0,1,0,0,2,0,0,9,0,3,6,0,0,0,0,0,0,0,0,0,5,0]\n",
    "\n",
    "def convert(z):\n",
    "    counter = 0\n",
    "    z = [(zero,'.')[zero==0] for zero in z]    \n",
    "    for i in z:\n",
    "        if counter % 27 == 0 and counter != 0:\n",
    "            print(end='\\n')\n",
    "        if counter % 9 == 0 and counter != 0:\n",
    "            print(end='\\n')\n",
    "        if counter % 3 == 0:\n",
    "            print(end='\\t')\n",
    "        print(i, end=' ')\n",
    "        counter += 1\n",
    "    print()\n",
    "    return\n",
    "\n",
    "convert(sudoku)"
   ]
  },
  {
   "cell_type": "code",
   "execution_count": 75,
   "id": "d850935d-7056-4704-ae21-75da53c4e8ab",
   "metadata": {
    "ExecuteTime": {
     "end_time": "2023-11-14T21:41:03.951083857Z",
     "start_time": "2023-11-14T21:41:03.909878881Z"
    }
   },
   "outputs": [
    {
     "name": "stdout",
     "output_type": "stream",
     "text": [
      "three three was a race horse, two two was three too.\n"
     ]
    }
   ],
   "source": []
  }
 ],
 "metadata": {
  "kernelspec": {
   "display_name": "Python 3 (ipykernel)",
   "language": "python",
   "name": "python3"
  },
  "language_info": {
   "codemirror_mode": {
    "name": "ipython",
    "version": 3
   },
   "file_extension": ".py",
   "mimetype": "text/x-python",
   "name": "python",
   "nbconvert_exporter": "python",
   "pygments_lexer": "ipython3",
   "version": "3.9.17"
  }
 },
 "nbformat": 4,
 "nbformat_minor": 5
}
