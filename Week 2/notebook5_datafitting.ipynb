{
 "cells": [
  {
   "cell_type": "markdown",
   "id": "41477f5d-7b8e-4b3d-8e62-3c5d7e35d233",
   "metadata": {},
   "source": [
    "# NOTEBOOK 5 Datafitting\n",
    "---"
   ]
  },
  {
   "cell_type": "markdown",
   "id": "6175abb6-eebc-4abc-93fc-2fc11507613e",
   "metadata": {},
   "source": [
    "The function `linear_fit_gui()` form the `curvefitgui` module was developed for the S&T practicals that you will follow in the coming year. The module enables us to fit (non)linear data by using a least squared fit. Later we will go much deeper into datafitting. For now we just give an example on how to use it.  \n",
    "\n",
    "If you run the follwing block of code curvefitgui will be installed if required. "
   ]
  },
  {
   "cell_type": "code",
   "execution_count": 1,
   "id": "01301054-eb20-4b74-99f3-658aa6ef7ce7",
   "metadata": {},
   "outputs": [
    {
     "name": "stdout",
     "output_type": "stream",
     "text": [
      "curvefitgui OK | "
     ]
    }
   ],
   "source": [
    "# checking if required (non-standard) packages are installed and install if missing\n",
    "import importlib\n",
    "import sys\n",
    "\n",
    "pck_list = ['curvefitgui']\n",
    "\n",
    "for pck in pck_list:\n",
    "    try:\n",
    "        importlib.import_module(pck)\n",
    "    except:\n",
    "        print(f'package [{pck}] is not installed')\n",
    "        print(f'installing {pck}')\n",
    "        !{sys.executable} -m pip install {pck}   \n",
    "    else:\n",
    "        print(f'{pck} OK | ', end='')"
   ]
  },
  {
   "cell_type": "markdown",
   "id": "157aee3b-5e22-4d5f-9b6c-55095a6c05a5",
   "metadata": {},
   "source": [
    "You can now use the fittinh GUI (**G**raphical **U**ser **I**nterface) as shown in the example below."
   ]
  },
  {
   "cell_type": "code",
   "execution_count": 2,
   "id": "8ae6c095-fb90-4ccc-8e91-760289b47257",
   "metadata": {},
   "outputs": [
    {
     "data": {
      "text/plain": [
       "(array([0.0099, 0.0003]),\n",
       " array([[ 3.30000004e-07, -9.90000150e-07],\n",
       "        [-9.90000150e-07,  3.63000106e-06]]))"
      ]
     },
     "execution_count": 2,
     "metadata": {},
     "output_type": "execute_result"
    }
   ],
   "source": [
    "# import the required packages\n",
    "import numpy as np\n",
    "from curvefitgui import linear_fit_gui as linfit\n",
    "\n",
    "# define the data that we want tot plot\n",
    "current = np.array([0.009, 0.021, 0.030, 0.042, 0.048] , dtype = float)  # in A\n",
    "voltage = np.array([1, 2, 3, 4, 5], dtype = float)  # in Volt\n",
    "\n",
    "\n",
    "# executing the GUI\n",
    "linfit(voltage, current, xlabel='Voltage/V', ylabel='Current/A')\n"
   ]
  },
  {
   "cell_type": "markdown",
   "id": "f62c6f7a-9bb2-443f-b870-6fc28afe37c5",
   "metadata": {},
   "source": [
    "You can checkout the github page for more info if you like: [https://github.com/moosepy/curvefitgui](https://github.com/moosepy/curvefitgui)"
   ]
  },
  {
   "cell_type": "markdown",
   "id": "ea4af8e3-7142-4603-808b-0f38c851836f",
   "metadata": {},
   "source": [
    "---\n",
    "**Assigment**\n",
    "\n",
    "In this exercise you will make a linear fit of some data from an experiment. Measurements have been performed on the photoelectric effect. Light with a given frequency $f$ that shines on a material can cause electrons to be emitted from that material. The maximum kinetic energy of the emitted electrons can be measured by applying a so-called stopping voltage $U$ such that the electron current is reduced to zero. At six different frequencies the stopping voltage is measured and given below.\n",
    "\n",
    "|*f* $\\times$ $10^{14}$ / Hz | $U$ / V            |\n",
    "| --- | --- |\n",
    "|4.62|0.80|\n",
    "|5.00|0.90|\n",
    "|5.45|1.20|\n",
    "|5.99|1.40|\n",
    "|6.65|1.70|\n",
    "|7.48|2.00|\n",
    "\n",
    "\n",
    "- Define 2 numpy arrays that contain the data of $f$ and $U$.\n",
    "- Use curvefitgui to make a linear fit\n",
    "- Determine the slope and intercept and their standard errors\n",
    "\n",
    "TIP: use the numbers for the frequency without the $10^{14}$ and later account for this in the slope and/or offset. If you do use the very large frequencies you can run into problems with fitting."
   ]
  },
  {
   "cell_type": "code",
   "execution_count": 9,
   "id": "bcca4455-45eb-4bd6-b75f-83ef93cd3a39",
   "metadata": {},
   "outputs": [
    {
     "data": {
      "text/plain": [
       "(None, None)"
      ]
     },
     "execution_count": 9,
     "metadata": {},
     "output_type": "execute_result"
    }
   ],
   "source": [
    "# =============== YOUR CODE GOES HERE =================\n",
    "f = np.array([4.62,5.00,5.45,5.99,6.65,7.48])\n",
    "U = np.array([0.80,0.90,1.20,1.40,1.70,2.00])\n",
    "\n",
    "linfit(U, f, xlabel='Voltage/U', ylabel='Frequency/Hz *10^14')\n",
    "\n",
    "# Volgens linfit is \n",
    "#   a (slope) stderr = 9.68e-02\n",
    "#   b (intercept) stderr = 1.35e-01\n"
   ]
  }
 ],
 "metadata": {
  "kernelspec": {
   "display_name": "Python 3 (ipykernel)",
   "language": "python",
   "name": "python3"
  },
  "language_info": {
   "codemirror_mode": {
    "name": "ipython",
    "version": 3
   },
   "file_extension": ".py",
   "mimetype": "text/x-python",
   "name": "python",
   "nbconvert_exporter": "python",
   "pygments_lexer": "ipython3",
   "version": "3.10.9"
  },
  "toc-autonumbering": false,
  "toc-showcode": false
 },
 "nbformat": 4,
 "nbformat_minor": 5
}
