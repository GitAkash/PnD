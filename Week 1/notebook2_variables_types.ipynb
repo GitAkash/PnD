{
 "cells": [
  {
   "cell_type": "markdown",
   "id": "41477f5d-7b8e-4b3d-8e62-3c5d7e35d233",
   "metadata": {},
   "source": [
    "# NOTEBOOK 2 Variables and Types\n",
    "---"
   ]
  },
  {
   "cell_type": "markdown",
   "id": "2153d916-cfac-43b6-b677-16ea2910b5d4",
   "metadata": {},
   "source": [
    "## Variables and assigments"
   ]
  },
  {
   "cell_type": "markdown",
   "id": "51708b62-7fe3-40ed-b3f3-d17030b150fb",
   "metadata": {},
   "source": [
    "You can store numbers and other data (like text) in variables so you can use them later on. You do that by assigning a name using `=`. For example we can use the name `x` to store the number 2."
   ]
  },
  {
   "cell_type": "code",
   "execution_count": 1,
   "id": "40a6a6ac-0fd7-46a7-b306-6354db7ab989",
   "metadata": {
    "tags": []
   },
   "outputs": [],
   "source": [
    "x = 2"
   ]
  },
  {
   "cell_type": "markdown",
   "id": "5acb43aa-0493-479b-af0e-45e05ad0d129",
   "metadata": {},
   "source": [
    "To check if the variable `x` has indeed the value 2 you can print it:"
   ]
  },
  {
   "cell_type": "code",
   "execution_count": 2,
   "id": "575aeb8b-430a-4630-a51f-f2de6ef06a09",
   "metadata": {},
   "outputs": [
    {
     "name": "stdout",
     "output_type": "stream",
     "text": [
      "2\n"
     ]
    }
   ],
   "source": [
    "print(x)"
   ]
  },
  {
   "cell_type": "markdown",
   "id": "ec83a7c8-7249-4642-bd82-a9354c23c979",
   "metadata": {},
   "source": [
    "If you try a variable name that was not defined you get an error message (Note that variable names are case sensitive):"
   ]
  },
  {
   "cell_type": "code",
   "execution_count": 3,
   "id": "46bfd1de-1988-4661-85d1-ba435242f7b3",
   "metadata": {},
   "outputs": [
    {
     "ename": "NameError",
     "evalue": "name 'X' is not defined",
     "output_type": "error",
     "traceback": [
      "\u001b[1;31m---------------------------------------------------------------------------\u001b[0m",
      "\u001b[1;31mNameError\u001b[0m                                 Traceback (most recent call last)",
      "Cell \u001b[1;32mIn[3], line 1\u001b[0m\n\u001b[1;32m----> 1\u001b[0m \u001b[38;5;28mprint\u001b[39m(\u001b[43mX\u001b[49m)\n",
      "\u001b[1;31mNameError\u001b[0m: name 'X' is not defined"
     ]
    }
   ],
   "source": [
    "print(X)"
   ]
  },
  {
   "cell_type": "markdown",
   "id": "f20c940a-8ab8-49d2-9825-4d251933331c",
   "metadata": {},
   "source": [
    "\n",
    "\n",
    "\n",
    "It is important to use meaningfull names for variables. Also use lowercase. "
   ]
  },
  {
   "cell_type": "markdown",
   "id": "0999c9c7-d7fd-47a2-bca5-d4166edf94f9",
   "metadata": {},
   "source": [
    "We can now use variables to calculate a number that depends on previous calculations. Let's take a bit more interesting example by calculating the resistance of a resistor given an applied voltage of 3.00 V and a measured current of 30.0 mA:\n"
   ]
  },
  {
   "cell_type": "code",
   "execution_count": 4,
   "id": "9ea69116-d95f-441a-af27-d35bdfd1f1e0",
   "metadata": {},
   "outputs": [
    {
     "name": "stdout",
     "output_type": "stream",
     "text": [
      "100.0\n"
     ]
    }
   ],
   "source": [
    "voltage = 3.0  # V\n",
    "current = 30E-3 # A\n",
    "\n",
    "resistance = voltage / current  # electrical resistance in Ohm\n",
    "print(resistance)"
   ]
  },
  {
   "cell_type": "markdown",
   "id": "6445d127-0623-42d0-9aee-5c063505ab82",
   "metadata": {},
   "source": [
    "Note that we made use of the symbol `#` to write some comments in the code for clarification"
   ]
  },
  {
   "cell_type": "markdown",
   "id": "7f7f0957-a43e-4b2d-a1b9-f3855e219ebf",
   "metadata": {},
   "source": [
    "---\n",
    "**Assigment**\n",
    "\n",
    "A piece of iron has a mass of 64 g. Iron has a density of 7.9 g/cm$^3$. Compute the volume of the piece of iron. Make use of variables!"
   ]
  },
  {
   "cell_type": "code",
   "execution_count": 70,
   "id": "03981b71-f3d4-4d6a-af42-86f42ebb53b9",
   "metadata": {},
   "outputs": [
    {
     "ename": "TypeError",
     "evalue": "unsupported operand type(s) for +: 'set' and 'str'",
     "output_type": "error",
     "traceback": [
      "\u001b[1;31m---------------------------------------------------------------------------\u001b[0m",
      "\u001b[1;31mTypeError\u001b[0m                                 Traceback (most recent call last)",
      "Cell \u001b[1;32mIn[70], line 6\u001b[0m\n\u001b[0;32m      3\u001b[0m density \u001b[39m=\u001b[39m \u001b[39m7.9\u001b[39m \u001b[39m#g/cm^3\u001b[39;00m\n\u001b[0;32m      4\u001b[0m volume \u001b[39m=\u001b[39m mass\u001b[39m/\u001b[39mdensity \u001b[39m#\u001b[39;00m\n\u001b[1;32m----> 6\u001b[0m \u001b[39mprint\u001b[39m({volume} \u001b[39m+\u001b[39;49m \u001b[39m\"\u001b[39;49m\u001b[39m cm^3\u001b[39;49m\u001b[39m\"\u001b[39;49m)\n",
      "\u001b[1;31mTypeError\u001b[0m: unsupported operand type(s) for +: 'set' and 'str'"
     ]
    }
   ],
   "source": [
    "# =============== YOUR CODE GOES HERE =================\n",
    "mass = 64 #g\n",
    "density = 7.9 #g/cm^3\n",
    "volume = mass/density #\n",
    "\n",
    "print(str(volume) + \" cm^3\")\n"
   ]
  },
  {
   "cell_type": "markdown",
   "id": "40b192a4-3893-41ba-bd48-a3a9b628818a",
   "metadata": {},
   "source": [
    "Python evaluates expressions from right to left. In the expression `resistance = voltage / current`, first `voltage / current` is evaluated (result is 100.0). Next this value is assigned to a new variable `resistance`. It is important to understand that the `=` symbol means *assign to* and has nothing to do with the mathematical = symbol which means *is equal to*. \n",
    "This means that you can reassign (or update) variables like in the following example:"
   ]
  },
  {
   "cell_type": "code",
   "execution_count": null,
   "id": "1dc54ee6-3bfb-46ac-bef5-79e8ee11ef6c",
   "metadata": {},
   "outputs": [
    {
     "name": "stdout",
     "output_type": "stream",
     "text": [
      "2\n"
     ]
    }
   ],
   "source": [
    "i = 1\n",
    "i = i + 1  # add 1 to the value of i and reassign to i\n",
    "print(i)"
   ]
  },
  {
   "cell_type": "markdown",
   "id": "25c4b977-45bc-4eec-8ad7-f3f95f8a8880",
   "metadata": {},
   "source": [
    "## Types"
   ]
  },
  {
   "cell_type": "markdown",
   "id": "1769acc0-cff3-45be-8b3f-81b07b3a3798",
   "metadata": {},
   "source": [
    "Sofar we only looked at numbers. But you can store much more than just numbers. Different kind of data is stored in variables of different *types*:\n",
    "\n",
    "|kind of data| Description | Type | Example |\n",
    "|---|---|---|---|\n",
    "| 16 | whole numbers | integer | `age = 21` | \n",
    "| 3.14 | real numbers| float | `pi = 3.14` |\n",
    "| 1 + 2i | complex numbers| complex | `z = 1 + 2j` | \n",
    "| dit is text | text | string | `s = 'dit is text'` | \n",
    "| True/False | logic values; can only take two vaules | boolean | `valid = True` | \n",
    "\n"
   ]
  },
  {
   "cell_type": "markdown",
   "id": "48479cb5-db67-45d7-a596-800d54d19175",
   "metadata": {},
   "source": [
    "If you assign a value to a variable Python automatically uses the proper type. You can always check the type of a variable using the command `type`. To see how this works check out the following example."
   ]
  },
  {
   "cell_type": "code",
   "execution_count": null,
   "id": "9737c850-46f0-4f4b-9b1e-acceea83acd9",
   "metadata": {},
   "outputs": [
    {
     "name": "stdout",
     "output_type": "stream",
     "text": [
      "welkom123\n",
      "<class 'str'>\n"
     ]
    }
   ],
   "source": [
    "# we define a string\n",
    "password = 'welkom123'  # not a very good one!\n",
    "print(password)\n",
    "print(type(password))"
   ]
  },
  {
   "cell_type": "markdown",
   "id": "c5036f45-e9de-444d-9b47-3c5d60e4e908",
   "metadata": {},
   "source": [
    "As you can see the type of variable `password` in the example above is 'str' which is short for string. "
   ]
  },
  {
   "cell_type": "markdown",
   "id": "7afb1968-b49a-40a3-a4bf-c8f46d7176c4",
   "metadata": {},
   "source": [
    "---\n",
    "**Assigment**\n",
    "\n",
    "Operators (like + or \\*) can have different meanings depending on the type of the variable. In the codeblock below write code that defines the variables of given in the table above. For each variable compute the result and the type when multiplying by 2.  "
   ]
  },
  {
   "cell_type": "code",
   "execution_count": 76,
   "id": "ad6d20b5-4f2b-4953-9b4f-74d057988ef7",
   "metadata": {},
   "outputs": [
    {
     "name": "stdout",
     "output_type": "stream",
     "text": [
      "age\n",
      "<class 'int'>\n",
      "42\n",
      "\n",
      "pi\n",
      "<class 'float'>\n",
      "6.28\n",
      "\n",
      "z\n",
      "<class 'complex'>\n",
      "(2+4j)\n",
      "\n",
      "s\n",
      "<class 'str'>\n",
      "dit is textdit is text\n",
      "\n",
      "valid\n",
      "<class 'bool'>\n",
      "2\n",
      "\n"
     ]
    }
   ],
   "source": [
    "# =============== YOUR CODE GOES HERE =================\n",
    "\n",
    "dict = {\"age\": 21, \"pi\": 3.14, \"z\": 1+2j, \"s\": \"dit is text\", \"valid\": True}\n",
    "\n",
    "for i in dict:\n",
    "    print(i)\n",
    "    print(type(dict[i]))\n",
    "    print(dict[i]*2)\n",
    "    print()\n",
    "\n",
    "\n"
   ]
  },
  {
   "cell_type": "markdown",
   "id": "05e848cd-8f88-41d9-9195-d446baf17d26",
   "metadata": {},
   "source": [
    "## Inspection"
   ]
  },
  {
   "cell_type": "markdown",
   "id": "16a8d44c-b15d-480d-922c-6d2eb1523f91",
   "metadata": {},
   "source": [
    "In a jupyter notebook there is convenient commands that shows you the currently defined variables. If you type `%whos` in a code block and run it you get a nicely formatted table with all current variables. "
   ]
  },
  {
   "cell_type": "markdown",
   "id": "a7121b16-47a9-4f19-a0bf-6b9019d7f1df",
   "metadata": {},
   "source": [
    "---\n",
    "**Assigment**\n",
    "\n",
    "Try the `%whos` in the codeblock below  "
   ]
  },
  {
   "cell_type": "code",
   "execution_count": 80,
   "id": "d0c76352-7c84-4e2b-a304-1bae5c86bc32",
   "metadata": {},
   "outputs": [
    {
     "name": "stdout",
     "output_type": "stream",
     "text": [
      "Variable   Type     Data/Info\n",
      "-----------------------------\n",
      "density    float    7.9\n",
      "dict       dict     n=5\n",
      "i          str      valid\n",
      "mass       int      64\n",
      "password   str      welkom123\n",
      "volume     float    8.101265822784809\n"
     ]
    }
   ],
   "source": [
    "# =============== YOUR CODE GOES HERE =================\n",
    "%whos\n"
   ]
  },
  {
   "cell_type": "markdown",
   "id": "b2a1f82d-38ff-4d32-b9ad-58ab2b86792e",
   "metadata": {},
   "source": [
    "## Sequences"
   ]
  },
  {
   "cell_type": "markdown",
   "id": "539a5373-f0ec-46c9-8b86-c8b66e5c68d0",
   "metadata": {},
   "source": [
    "So far, we considered data types in Python that hold a single value (i.e. `voltage = 3.0` or `message = 'Hello'`). Imagine that we have done a series of measurements. Let's say we measured the current through a resistor at various voltages. It would be extremely impractical to create a variable for each obtained data point. To circumvent this, we can make use of a so-called *sequence* type. A sequence can store multiple values in a single variable. Individual values in the sequence can be accessed by an index. Python has numerous sequence types:\n",
    "\n",
    "| Type | Description | Example |\n",
    "| --- | --- | --- |\n",
    "| list | general purpose: can store items of any type | `mylist = [9, 'text', True, 42, 1.23]` |\n",
    "| tuple | as a list, but not mutable | `mytuple = (9, 'text', True, 42, 1.23)` |\n",
    "| ndarray| for numerical values | `myarray = np.array([3, 56, 1, 33.45])` |\n",
    "| dict | stores items based on key-value | `mydict = {name:'Albert Einstein', birthyear:1879}` |\n",
    "\n",
    "In principle a string is also a sequence type as it contains a sequence of characters. \n"
   ]
  },
  {
   "cell_type": "markdown",
   "id": "81555e61-9da2-432f-90bd-036060a11376",
   "metadata": {},
   "source": [
    "---\n",
    "**Assigment**\n",
    "\n",
    "Create a sequence of type *list* that contains the following items: 1, 'bacon', 5.0, True\n",
    "Use the `print` command to show the list.\n",
    "Use the `%whos` command to inspect the variable"
   ]
  },
  {
   "cell_type": "code",
   "execution_count": 87,
   "id": "e7dcf794",
   "metadata": {},
   "outputs": [
    {
     "name": "stdout",
     "output_type": "stream",
     "text": [
      "[1, 'bacon', 5.0, True]\n"
     ]
    }
   ],
   "source": [
    "# =============== YOUR CODE GOES HERE =================\n",
    "lijst = [1, 'bacon', 5.0, True]\n",
    "print (lijst)\n"
   ]
  },
  {
   "cell_type": "markdown",
   "id": "846393b2-f3c2-453a-b07a-bf83fa4622c0",
   "metadata": {},
   "source": [
    "## Numpy Arrays"
   ]
  },
  {
   "cell_type": "markdown",
   "id": "5903c334-2000-47fb-a6af-0b3247e92ea1",
   "metadata": {},
   "source": [
    "We will use numpy arrays extensively for storing numbers (data) and doing calculations (they are usually faster than working with lists). In the tabel below a few commonly used functions are listed for working with numpy arrays.\n",
    "\n",
    "| numpy function | description | example|\n",
    "| --- | --- | --- |\n",
    "| `np.array(alist)` | create an array based on the content of `alist` | `a = np.array([1, 5, 2, 7, 34], dtype=float)` |\n",
    "| `np.linspace(start, stop, num)` | create an array of evenly spaced values | `b = np.linspace(-5, 5, num=11)` |\n",
    "| `np.zeros(num)` | create an array of zeros | `c = np.zeros(100)`|\n",
    "| `np.ones(num)`| create an array of ones | `d = np.ones(100)`|\n",
    "\n",
    "\n",
    "For more info on these (and other) functions see e.g.\n",
    "- The documentation (https://numpy.org/doc/stable/reference/routines.array-creation.html)\n",
    "- Contextual help in Jupyter Lab (hit Ctrl+I and hover with your mouse over the function)\n",
    "- Use the ?. E.g. type `np.ones?` in a cell "
   ]
  },
  {
   "cell_type": "markdown",
   "id": "47e58a23-27e2-4620-b051-af3545c1c669",
   "metadata": {},
   "source": [
    "---\n",
    "**Assigment**\n",
    "\n",
    "- Create a numpy array `my_array` that contains the numbers 1, 2, 5, 8, 13\n",
    "- Compute `my_array + my_array` and check the result.\n",
    "- Compute `my_array * my_array` and check the result.\n",
    "- Create a numpy array `angles` that contains 100 equally spaced values between $-\\pi$ and $\\pi$\n",
    "- Compute the sine of array `angles` "
   ]
  },
  {
   "cell_type": "code",
   "execution_count": 93,
   "id": "bfd90821-e9a6-486b-b850-8cf774f64a04",
   "metadata": {},
   "outputs": [
    {
     "name": "stdout",
     "output_type": "stream",
     "text": [
      "[ 2  4 10 16 26]\n",
      "[  1   4  25  64 169]\n",
      "[-3.14159265 -3.07812614 -3.01465962 -2.9511931  -2.88772658 -2.82426006\n",
      " -2.76079354 -2.69732703 -2.63386051 -2.57039399 -2.50692747 -2.44346095\n",
      " -2.37999443 -2.31652792 -2.2530614  -2.18959488 -2.12612836 -2.06266184\n",
      " -1.99919533 -1.93572881 -1.87226229 -1.80879577 -1.74532925 -1.68186273\n",
      " -1.61839622 -1.5549297  -1.49146318 -1.42799666 -1.36453014 -1.30106362\n",
      " -1.23759711 -1.17413059 -1.11066407 -1.04719755 -0.98373103 -0.92026451\n",
      " -0.856798   -0.79333148 -0.72986496 -0.66639844 -0.60293192 -0.53946541\n",
      " -0.47599889 -0.41253237 -0.34906585 -0.28559933 -0.22213281 -0.1586663\n",
      " -0.09519978 -0.03173326  0.03173326  0.09519978  0.1586663   0.22213281\n",
      "  0.28559933  0.34906585  0.41253237  0.47599889  0.53946541  0.60293192\n",
      "  0.66639844  0.72986496  0.79333148  0.856798    0.92026451  0.98373103\n",
      "  1.04719755  1.11066407  1.17413059  1.23759711  1.30106362  1.36453014\n",
      "  1.42799666  1.49146318  1.5549297   1.61839622  1.68186273  1.74532925\n",
      "  1.80879577  1.87226229  1.93572881  1.99919533  2.06266184  2.12612836\n",
      "  2.18959488  2.2530614   2.31652792  2.37999443  2.44346095  2.50692747\n",
      "  2.57039399  2.63386051  2.69732703  2.76079354  2.82426006  2.88772658\n",
      "  2.9511931   3.01465962  3.07812614  3.14159265]\n"
     ]
    }
   ],
   "source": [
    "# =============== YOUR CODE GOES HERE =================\n",
    "import numpy as np\n",
    "my_array = np.array([1,2,5,8,13])\n",
    "print (my_array + my_array)\n",
    "print (my_array * my_array)\n",
    "angles = np.linspace (-np.pi, np.pi, num = 100)\n",
    "print (angles)\n"
   ]
  }
 ],
 "metadata": {
  "kernelspec": {
   "display_name": "Python",
   "language": "python",
   "name": "python3"
  },
  "language_info": {
   "codemirror_mode": {
    "name": "ipython",
    "version": 3
   },
   "file_extension": ".py",
   "mimetype": "text/x-python",
   "name": "python",
   "nbconvert_exporter": "python",
   "pygments_lexer": "ipython3",
   "version": "3.10.9"
  },
  "toc-autonumbering": false,
  "toc-showcode": false
 },
 "nbformat": 4,
 "nbformat_minor": 5
}
