{
 "cells": [
  {
   "cell_type": "markdown",
   "id": "d07f3de7-6e0a-42f5-a9b4-8a0622a58501",
   "metadata": {},
   "source": [
    "# NOTEBOOK 14 Hittegolven\n",
    "---"
   ]
  },
  {
   "cell_type": "markdown",
   "id": "a598527b-c450-4136-8298-0b9adfee612f",
   "metadata": {},
   "source": [
    "Op canvas staat een csv bestand `minmaxtemperatuur.csv` met daarin de minimale en maximale temperatuur per dag over het jaar 2020 zoals gemeten in het meetstation Twente. De file bestaat uit vier kolommen met getallen. De eerste kolom geeft de maand (1 t/m 12), de tweede kolom geeft de dag binnen de maand, de derde kolom is de minimale temperatuur die gemeten is op die dag en de vierde kolom is de maximale temperatuur die op die dag gemeten is. De temperaturen zijn in graden Celsius. In deze opdracht maak je een plot van de gegevens in de file.  \n",
    "\n",
    "\n"
   ]
  },
  {
   "cell_type": "markdown",
   "id": "1626f241-40a1-45a5-8564-ad789b4d29e4",
   "metadata": {},
   "source": [
    "---\n",
    "**Assignment 14.1**\n",
    "\n",
    "Schrijf code die:\n",
    "\n",
    "- de data van de file inleest in een 2D numpy array.\n",
    "- een lijnplot maakt met op de x-as de tijd (in dagen van 1 t/m 366) en op de y-as de minimale (blauw) en maximale (rood) temperatuur.\n",
    "- een geschikte legend aan de plot toevoegt.\n",
    "- geschikte as-labels aan de figuur toevoegt.\n"
   ]
  },
  {
   "cell_type": "code",
   "execution_count": null,
   "id": "7e7fc757-ec64-4ae2-8d0f-bc8bfa6aa3cd",
   "metadata": {
    "tags": []
   },
   "outputs": [],
   "source": [
    "# =============== YOUR CODE GOES HERE =================\n",
    "\n"
   ]
  },
  {
   "cell_type": "markdown",
   "id": "512bc43f-f24c-49ad-a78c-aefe0aaa570a",
   "metadata": {},
   "source": [
    "---\n",
    "**Assignment 14.2**\n",
    "\n",
    "Schrijf code die: \n",
    "\n",
    "- Het aantal zomerse dagen bepaalt (dagen waarbij de maximale temperatuur minimaal 25.0 graden Celcius is)\n",
    "\n",
    "- Het aantal tropische dagen bepaalt (dagen waarbij de maximale temperatuur minimaal 30.0 graden Celcius is)"
   ]
  },
  {
   "cell_type": "code",
   "execution_count": null,
   "id": "93f22cf1-0b57-4766-b982-bdf044141167",
   "metadata": {
    "tags": []
   },
   "outputs": [],
   "source": [
    "# =============== YOUR CODE GOES HERE =================\n",
    "\n",
    "       "
   ]
  },
  {
   "cell_type": "markdown",
   "id": "fca7363a-84a0-4dd4-b549-9e0dcb453118",
   "metadata": {},
   "source": [
    "---\n",
    "**Assignment 14.3**\n",
    "\n",
    "Schrijf code die bepaalt op welke dagen er sprake was van een hittegolf. Een hittegolf is een serie van minstens 5 zomerse dagen, waarvan er zeker 3 tropisch zijn. Tussen twee verschillende hittegolven zit altijd minimaal één dag waarbij de maximale temperatuur lager is dan 25 graden Celsius. Het script moet alle! hittegolven van 2020 printen naar de console waarbij zowel de eerste dag, de laatste dag en de duur van de hittegolf wordt weergegeven.\n"
   ]
  },
  {
   "cell_type": "code",
   "execution_count": null,
   "id": "f2b6d38c-a2c8-4ff6-bfa4-986f10af4be0",
   "metadata": {
    "tags": []
   },
   "outputs": [],
   "source": [
    "# =============== YOUR CODE GOES HERE =================\n",
    "\n"
   ]
  },
  {
   "cell_type": "markdown",
   "id": "656cb867-58e6-4a25-8e1d-95b58e4524e0",
   "metadata": {},
   "source": [
    "---\n",
    "**Assignment 14.4**\n",
    "\n",
    "- Bereken voor elke maand het gemiddelde van de maximale temperaturen. \n",
    "- Maak een barplot (check website van matplotlib) met op de x-as het nummer van de maand (of de naam van de maand als dat lukt) en op de y-as het gemiddelde van de maximale temperatuur van de betreffende maand.\n"
   ]
  },
  {
   "cell_type": "code",
   "execution_count": null,
   "id": "db944f0a-1f4f-427d-a838-168782b2ba17",
   "metadata": {},
   "outputs": [],
   "source": [
    "# =============== YOUR CODE GOES HERE =================\n",
    "\n"
   ]
  }
 ],
 "metadata": {
  "kernelspec": {
   "display_name": "Python",
   "language": "python",
   "name": "python3"
  },
  "language_info": {
   "codemirror_mode": {
    "name": "ipython",
    "version": 3
   },
   "file_extension": ".py",
   "mimetype": "text/x-python",
   "name": "python",
   "nbconvert_exporter": "python",
   "pygments_lexer": "ipython3",
   "version": "3.8.10"
  }
 },
 "nbformat": 4,
 "nbformat_minor": 5
}
