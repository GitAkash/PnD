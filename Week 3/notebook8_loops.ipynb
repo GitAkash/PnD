{
 "cells": [
  {
   "cell_type": "markdown",
   "id": "04365e4f-e5b7-4b8e-a7e1-adc9cb668caa",
   "metadata": {},
   "source": [
    "# NOTEBOOK 8 Loops\n",
    "---"
   ]
  },
  {
   "cell_type": "markdown",
   "id": "1e2d852e-5af7-42d9-a822-3663181f40d8",
   "metadata": {},
   "source": [
    "## FOR loops"
   ]
  },
  {
   "cell_type": "markdown",
   "id": "1e8292e4-7610-46a4-b095-795bb3707cbc",
   "metadata": {},
   "source": [
    "The `for`-loop is a structure in Python that allows you to execute a block of code a defined number of times (e.g. throwing a dice three times) or for items in a sequence (e.g. printing all items in a list). For example:\n"
   ]
  },
  {
   "cell_type": "code",
   "execution_count": null,
   "id": "9b33555b-cc22-4642-80e8-220161617e6b",
   "metadata": {},
   "outputs": [],
   "source": [
    "# example\n",
    "names = ['Arthur', 'Ford', 'Zaphod']\n",
    "\n",
    "# the for loop \n",
    "for name in names:\n",
    "    print(name)\n",
    "    print('-' * 10)\n",
    "    \n",
    "# after the loop code continues here    \n",
    "print('The end')"
   ]
  },
  {
   "cell_type": "markdown",
   "id": "cb55841d-3ac9-4ae4-9cb6-e14e26b12b94",
   "metadata": {},
   "source": [
    "In the example we first create a list containing three names. Then, we create a `for`-loop where we used our list as a so-called iterable (an iterable is any object that can be iterated over in a for-loop). For every iteration of the `for`-loop, the variable `name` (you can use any valid variable name here if you like) changes to the next element in the list. The block of code that is executed for each iteration are all lines of code that are *indented* (in this example only a single line: `print(name)`). After the indented block of code is executed for each item in the sequence the for-loop is ready and python continues executing lines of code at the next unindented line (if any). \n",
    "\n",
    "Indentation is usually automatically done by the editor if you hit enter after the semicolon in the first line (`for name in names:`) of the for loop . In Python indentation is equal to either 4 spaces or a single Tab."
   ]
  },
  {
   "cell_type": "markdown",
   "id": "d8c311f5-f2ce-46e8-a841-1ad04704bd2c",
   "metadata": {},
   "source": [
    "You can iterate over any *sequence* type. Here is another example using a string. Go over this example carefully to make sure you understand what is happening"
   ]
  },
  {
   "cell_type": "code",
   "execution_count": 2,
   "id": "531f9b06-2bda-4478-8482-469beacc338d",
   "metadata": {},
   "outputs": [
    {
     "name": "stdout",
     "output_type": "stream",
     "text": [
      "h_a_p_p_y_c_o_d_i_n_g_\n"
     ]
    }
   ],
   "source": [
    "import numpy as np\n",
    "\n",
    "message = 'happycoding'\n",
    "\n",
    "newmessage = ''\n",
    "\n",
    "for character in message:\n",
    "    newmessage = newmessage + character\n",
    "    newmessage = newmessage + '_'\n",
    "    \n",
    "print(newmessage)    "
   ]
  },
  {
   "cell_type": "markdown",
   "id": "f9107c97-8b04-499b-872f-44133d47110e",
   "metadata": {},
   "source": [
    "---\n",
    "**Assignment 8.1**\n",
    "\n",
    "We have a list with integers: `x = [1, 2, 3, 4, 5, 6, 7, 8, 9, 10]`. \n",
    "Use a for-loop that iterates over the list and computes the cumalative sums. The Code should print the result. The output should look like this: \n",
    "```\n",
    "1\n",
    "3\n",
    "6\n",
    "10\n",
    "15\n",
    "21\n",
    "28\n",
    "36\n",
    "45\n",
    "55\n",
    "```"
   ]
  },
  {
   "cell_type": "code",
   "execution_count": 24,
   "id": "4b7ef2f8-f163-425d-80f7-eccea0936fa2",
   "metadata": {},
   "outputs": [
    {
     "name": "stdout",
     "output_type": "stream",
     "text": [
      "1\n",
      "3\n",
      "6\n",
      "10\n",
      "15\n",
      "21\n",
      "28\n",
      "36\n",
      "45\n",
      "55\n"
     ]
    }
   ],
   "source": [
    "x = [1, 2, 3, 4, 5, 6, 7, 8, 9, 10]\n",
    "\n",
    "# =============== YOUR CODE GOES HERE =================\n",
    "sum = 0\n",
    "\n",
    "for i in x:\n",
    "    sum = sum + i\n",
    "    print (sum)\n",
    "    \n"
   ]
  },
  {
   "cell_type": "markdown",
   "id": "b95c0c59-be28-416f-b79b-8218652d5a63",
   "metadata": {},
   "source": [
    "## The `range` function"
   ]
  },
  {
   "cell_type": "markdown",
   "id": "e428107f-32ff-4196-aaba-d2af2b2c5dda",
   "metadata": {},
   "source": [
    "In the previous exercise you iterated over tthe integeres from 1 to 10. This was done by creating a list that contains all these integers. This is not very convenient because each time you need a for-loop over integers you first need to create ae.g. a list with all those integers. Therefore Python has a buil-in function to do this: `range()`. The basic synatx is: \n",
    "- `range(stop)` : gives the integers 0, 1, 2, ..., stop-1\n",
    "- `range(start, stop)` : gives the integers start, start + 1, start + 2, ..., stop-1\n",
    "- `range(start, stop, step)` : gives the integers start, start + step, start + 2*step, ..., stop-1\n",
    "\n",
    "Note that (as is often the case in python) the stop value is not included"
   ]
  },
  {
   "cell_type": "code",
   "execution_count": 37,
   "id": "17e9bf9c-cc0d-43df-b15e-34cc99902abb",
   "metadata": {},
   "outputs": [
    {
     "name": "stdout",
     "output_type": "stream",
     "text": [
      "1\n",
      "2\n",
      "3\n",
      "4\n",
      "5\n",
      "6\n",
      "7\n",
      "8\n",
      "9\n",
      "10\n",
      "11\n",
      "12\n",
      "13\n",
      "14\n",
      "15\n",
      "16\n",
      "17\n",
      "18\n",
      "19\n",
      "20\n",
      "21\n",
      "22\n",
      "23\n",
      "24\n"
     ]
    }
   ],
   "source": [
    "# example printing even numbers upto 24\n",
    "for i in range(2, 25, 2):\n",
    "    print(i)"
   ]
  },
  {
   "cell_type": "markdown",
   "id": "064b15a2-8769-4758-9d1b-3c8928573b1e",
   "metadata": {},
   "source": [
    "---\n",
    "**Assignment 8.2**\n",
    "\n",
    "Write a Python program that calculates the factorial of a given positive integer. The factorial of a non-negative integer $n$, denoted as $n!$, is the product of all positive integers less than or equal to $n$. For example, 5! is equal to $5 \\times 4 \\times 3 \\times 2 \\times 1=120$.\n",
    "\n",
    "Your program should do the following:\n",
    "\n",
    "- Prompt the user to enter a positive integer.\n",
    "- Use a for loop to calculate the factorial of the entered integer.\n",
    "- Print the factorial of the entered integer.\n",
    "\n",
    "Here's a sample output of how your program should work:\n",
    "\n",
    "```\n",
    "Enter a positive integer: 5\n",
    "The factorial of 5 is 120\n"
   ]
  },
  {
   "cell_type": "code",
   "execution_count": 44,
   "id": "c1822bdf-ec72-423a-b2eb-7fe78c0c4f2f",
   "metadata": {},
   "outputs": [
    {
     "name": "stdout",
     "output_type": "stream",
     "text": [
      "120\n"
     ]
    }
   ],
   "source": [
    "\n",
    "# read input from user\n",
    "userinput = input('Enter a positive integer: ')\n",
    "n = int(userinput)  # convert string type to integer\n",
    "\n",
    "# =============== YOUR CODE GOES HERE =================\n",
    "\n",
    "for i in range(1, n):\n",
    "    n = n*i\n",
    "\n",
    "print(n)"
   ]
  },
  {
   "cell_type": "markdown",
   "id": "9a35bd05-add6-4925-a785-4dc4a72ca7e4",
   "metadata": {},
   "source": [
    "## The `enumerate` and `zip` function"
   ]
  },
  {
   "cell_type": "markdown",
   "id": "8c1c04c2-7fe0-4a11-b03c-1aa8f9317aed",
   "metadata": {},
   "source": [
    "The `enumerate()` and `zip()` functions can be very useful in for-loops. \n",
    "\n",
    "- `enumerate()` is used whenever you need a counter in your loop\n",
    "- `zip()` is used whenever you need to iterate over two (or more) sequences simultaneously.\n",
    "\n",
    "The example below shows how to use these functions in a for-loop."
   ]
  },
  {
   "cell_type": "code",
   "execution_count": 94,
   "id": "d7728fe7-4898-4d52-9e1a-786a828f977d",
   "metadata": {},
   "outputs": [
    {
     "name": "stdout",
     "output_type": "stream",
     "text": [
      "Index= 0  :  apple\n",
      "Index= 1  :  banana\n",
      "Index= 2  :  cherry\n"
     ]
    }
   ],
   "source": [
    "# example of using enumerate()\n",
    "\n",
    "fruits = ['apple', 'banana', 'cherry']\n",
    "\n",
    "for index, fruit in enumerate(fruits):\n",
    "    print('Index=', index, ' : ', fruit)\n"
   ]
  },
  {
   "cell_type": "code",
   "execution_count": 46,
   "id": "1791fa5e-b7ec-49b5-b5b9-12907559a5bd",
   "metadata": {},
   "outputs": [
    {
     "name": "stdout",
     "output_type": "stream",
     "text": [
      "Alice 85\n",
      "Bob 92\n",
      "Carol 78\n"
     ]
    }
   ],
   "source": [
    "# example of using zip()\n",
    "names = ['Alice', 'Bob', 'Carol']\n",
    "scores = [85, 92, 78]\n",
    "\n",
    "for name, score in zip(names, scores):\n",
    "    print(name, score)"
   ]
  },
  {
   "cell_type": "markdown",
   "id": "be32200a-e2e5-4fb0-aaab-a6f76a010b95",
   "metadata": {},
   "source": [
    "---\n",
    "**Assignment 8.3**\n",
    "\n",
    "Given are three lists:\n",
    "- `names` : the names of the planets in our solarsystem\n",
    "- `diameters` :  the diameters of the planets (relative to the earth)\n",
    "- `masses` : the masses of the planets (relative to the earth)\n",
    "\n",
    "Write a script that prints the name of the planets and it's density (relative to the earth).\n",
    "\n",
    "The output should look like this:\n",
    "```\n",
    "mercury 1.0679598568841235\n",
    "Venus 0.947733826202973\n",
    "Earth 1.0\n",
    "Mars 0.730563193556847\n",
    "Jupiter 0.22568062734882377\n",
    "Saturn 0.11279682787752919\n",
    "Uranus 0.22599892805136587\n",
    "Neptune 0.29292871923119557\n",
    "```\n"
   ]
  },
  {
   "cell_type": "code",
   "execution_count": 3,
   "id": "dd5cf7dd-46a5-46e2-9a5c-221b2f129b94",
   "metadata": {},
   "outputs": [
    {
     "name": "stdout",
     "output_type": "stream",
     "text": [
      "mercury 1.0679598568841235\n",
      "Venus 0.947733826202973\n",
      "Earth 1.0\n",
      "Mars 0.730563193556847\n",
      "Jupiter 0.22568062734882377\n",
      "Saturn 0.11279682787752919\n",
      "Uranus 0.22599892805136587\n",
      "Neptune 0.29292871923119557\n"
     ]
    }
   ],
   "source": [
    "# data for the planets\n",
    "names = ['mercury', 'Venus', 'Earth', 'Mars', 'Jupiter', 'Saturn', 'Uranus', 'Neptune']\n",
    "diameters = [0.383, 0.949, 1.000, 0.532, 11.209, 9.449, 4.007, 3.883]  # relative to earth\n",
    "masses = [0.06, 0.81, 1.00, 0.11, 317.83, 95.16, 14.54, 17.15]  # relative to earth\n",
    "\n",
    "# =============== YOUR CODE GOES HERE =================\n",
    "import numpy as np\n",
    "volume = [i**3 for i in diameters]\n",
    "density = [(a / b) for a, b in zip(masses, volume)] \n",
    "\n",
    "for name, density in zip(names,density):\n",
    "    print(name,density)\n",
    "\n",
    "\n",
    "# for name, diameter, mass in zip(names, diameters, masses):\n",
    "#     densit = mass / (diameter**3)\n",
    "#     print(name, densit)"
   ]
  }
 ],
 "metadata": {
  "kernelspec": {
   "display_name": "Python 3 (ipykernel)",
   "language": "python",
   "name": "python3"
  },
  "language_info": {
   "codemirror_mode": {
    "name": "ipython",
    "version": 3
   },
   "file_extension": ".py",
   "mimetype": "text/x-python",
   "name": "python",
   "nbconvert_exporter": "python",
   "pygments_lexer": "ipython3",
   "version": "3.10.9"
  }
 },
 "nbformat": 4,
 "nbformat_minor": 5
}
