{
 "cells": [
  {
   "cell_type": "markdown",
   "id": "04365e4f-e5b7-4b8e-a7e1-adc9cb668caa",
   "metadata": {},
   "source": [
    "# NOTEBOOK 11 More on ndarrays\n",
    "---"
   ]
  },
  {
   "cell_type": "markdown",
   "id": "1e2d852e-5af7-42d9-a822-3663181f40d8",
   "metadata": {},
   "source": [
    "## Multidimensional arrays"
   ]
  },
  {
   "cell_type": "markdown",
   "id": "1e8292e4-7610-46a4-b095-795bb3707cbc",
   "metadata": {},
   "source": [
    "You already worked with numpy arrays. So far only with 1 dimensional (1D) arrays. For example to create an array with zeros of length 10 we use:\n"
   ]
  },
  {
   "cell_type": "code",
   "execution_count": null,
   "id": "9b33555b-cc22-4642-80e8-220161617e6b",
   "metadata": {},
   "outputs": [],
   "source": [
    "import numpy as np\n",
    "\n",
    "a = np.zeros(10)\n",
    "print(a)"
   ]
  },
  {
   "cell_type": "markdown",
   "id": "bd003c29-ea2a-4433-9c0d-569493b429d0",
   "metadata": {},
   "source": [
    "In the same way we can alse define multidimensional arrays. To create a 2D array with 5 rows and 4 columns filled with zeros you use:"
   ]
  },
  {
   "cell_type": "code",
   "execution_count": null,
   "id": "73d1f7a1-5a39-4002-9505-a3e673b3edad",
   "metadata": {},
   "outputs": [],
   "source": [
    "a = np.zeros((5, 4))\n",
    "print(a)"
   ]
  },
  {
   "cell_type": "markdown",
   "id": "a981566b-26cc-4147-a03f-6284e7eeebdc",
   "metadata": {},
   "source": [
    "Important to note is that you first specify the number of rows (numpy refers to this as axis 0) and then the number of columns (axis 1). This is used also in indexing and slicing. If we want to change the value at the third row (index 2) and first column (index 0) you need to specify first the index of the row followed by a comma and then the index of the column:"
   ]
  },
  {
   "cell_type": "code",
   "execution_count": null,
   "id": "152471c9-594c-46ee-844f-3e51c646165b",
   "metadata": {},
   "outputs": [],
   "source": [
    "a[2, 0] = 42\n",
    "print(a)"
   ]
  },
  {
   "cell_type": "markdown",
   "id": "38339668-a2e2-4ef3-b6a6-00e61be2b06a",
   "metadata": {},
   "source": [
    "You can check the shape of the array by using the array's attribute `shape`:"
   ]
  },
  {
   "cell_type": "code",
   "execution_count": null,
   "id": "fbc44dfc-938b-4068-bb95-7773d4a2c8c5",
   "metadata": {},
   "outputs": [],
   "source": [
    "a.shape"
   ]
  },
  {
   "cell_type": "markdown",
   "id": "a03a3d37-81ec-4f98-93e6-369585b40c39",
   "metadata": {},
   "source": [
    "Slicing works in a similar way. You can for example slice a row from a 2D array by specifying the index of the row and use a semicolon `:` to indicate all columns:  \n",
    "`row = a[2,:]`  \n",
    "The result is a 1D array: \n",
    "`[42.  0.  0.  0.]`\n"
   ]
  },
  {
   "cell_type": "markdown",
   "id": "064b15a2-8769-4758-9d1b-3c8928573b1e",
   "metadata": {},
   "source": [
    "---\n",
    "**Assignment 10.1**\n",
    "\n",
    "Write code that:\n",
    "- Defines a 2D numpy array `enen` of 3 rows and 2 columns filled with ones using `np.ones()`.\n",
    "- Defines a 2D numpy array `ran` of 3 rows and 2 columns filled with random integers between 1 and 10. Use the help function of `rng.integers()` to see how you can specify the shape. \n",
    "- Defines a 2D numpy array `ran_and_enen` of 3 rows and 2 columns in which each item is the sum of the corresponding items in `ran` and `enen`.\n",
    "- Defines an array `mycol` that equals the first column of `ran_and_enen`. Use slicing!\n",
    "- Defines a 2D array `myslice` that contains the first and third row of `ran_and_enen`. Use slicing!\n"
   ]
  },
  {
   "cell_type": "code",
   "execution_count": null,
   "outputs": [],
   "source": [],
   "metadata": {
    "collapsed": false
   },
   "id": "99f5caaf73f63dc5"
  },
  {
   "cell_type": "code",
   "execution_count": 375,
   "id": "c1822bdf-ec72-423a-b2eb-7fe78c0c4f2f",
   "metadata": {
    "ExecuteTime": {
     "end_time": "2023-10-04T13:54:01.738695100Z",
     "start_time": "2023-10-04T13:54:01.687925800Z"
    }
   },
   "outputs": [
    {
     "name": "stdout",
     "output_type": "stream",
     "text": [
      "[[1. 1.]\n",
      " [1. 1.]\n",
      " [1. 1.]]\n",
      "[[3 5]\n",
      " [9 2]\n",
      " [9 9]]\n",
      "[[ 4.  6.]\n",
      " [10.  3.]\n",
      " [10. 10.]]\n",
      "[ 4. 10. 10.]\n",
      "[[ 4.  6.]\n",
      " [10. 10.]]\n"
     ]
    }
   ],
   "source": [
    "# =============== YOUR CODE GOES HERE =================\n",
    "import numpy as np\n",
    "rng = np.random.default_rng()\n",
    "\n",
    "enen = np.ones((3,2))\n",
    "ran = rng.integers(10, size=(3,2))\n",
    "ran_and_enen = enen + ran\n",
    "mycol = ran_and_enen[:,0]\n",
    "myslice = np.concatenate(([[ran_and_enen[0,:]], [ran_and_enen[2,:]]]))\n",
    "\n",
    "\n",
    "print(enen)\n",
    "print(ran)\n",
    "print(ran_and_enen)\n",
    "print(mycol)\n",
    "print(myslice)\n",
    "\n"
   ]
  },
  {
   "cell_type": "markdown",
   "id": "2887ff1f-3f99-4872-b9df-41e69946dde9",
   "metadata": {},
   "source": [
    "## Reshape arrays"
   ]
  },
  {
   "cell_type": "markdown",
   "id": "3b7113c1-be87-476a-b795-a679a76c7b77",
   "metadata": {},
   "source": [
    "It is also possible to change the shape of an array using the method `reshape()`. To see how this works check out the following example:"
   ]
  },
  {
   "cell_type": "code",
   "execution_count": null,
   "id": "b2d10fee-c7ca-4e48-9a32-e4c7f355b542",
   "metadata": {},
   "outputs": [],
   "source": [
    "\n",
    "# change the shape to 2 rows and 10 columns\n",
    "a.reshape(2, 10)"
   ]
  },
  {
   "cell_type": "markdown",
   "id": "015d2056-0fcb-4532-b2a2-a22fdfd80cb6",
   "metadata": {},
   "source": [
    "Obviously the number of items cannot change:"
   ]
  },
  {
   "cell_type": "code",
   "execution_count": null,
   "id": "50617f04-7957-4dcf-8a39-107ed86b87d7",
   "metadata": {},
   "outputs": [],
   "source": [
    "a.reshape(3, 7)"
   ]
  },
  {
   "cell_type": "markdown",
   "id": "4918de41-c0ea-45de-ae43-1722d235db0e",
   "metadata": {},
   "source": [
    "You can also use the placeholder `-1` to let python figure out the number the size of one of the axis:"
   ]
  },
  {
   "cell_type": "code",
   "execution_count": null,
   "id": "436beeea-5624-4b5e-aa26-7b18bf7df634",
   "metadata": {},
   "outputs": [],
   "source": [
    "a.reshape(10,-1)"
   ]
  },
  {
   "cell_type": "markdown",
   "id": "694cd362-91a4-40a5-8469-eeac4091c34e",
   "metadata": {},
   "source": [
    "---\n",
    "**Assignment 10.2**\n",
    "\n",
    "Write code that:\n",
    "- Creates a 1D NumPy array of numbers from 1 to 36 and reshape it into a $6\\times 6$ 2D array\n",
    "- Reshape the array into a 2D array with 12 columns using the -1 placeholder for automatic calculation of the size of the other dimension.\n"
   ]
  },
  {
   "cell_type": "code",
   "execution_count": null,
   "id": "fe75281e-4774-4a50-98f4-7c1e81eb83d2",
   "metadata": {},
   "outputs": [],
   "source": [
    "# =============== YOUR CODE GOES HERE =================\n",
    "array = np.array(range(1,37))\n",
    "six = array.reshape(6,6)\n",
    "twelve = array.reshape(-1,12)"
   ]
  },
  {
   "cell_type": "markdown",
   "id": "6ece95d8-4adf-43a2-9459-e145f69d665d",
   "metadata": {},
   "source": [
    "## Operations on multidimensional arrays"
   ]
  },
  {
   "cell_type": "markdown",
   "id": "8d0fade0-0e7d-4538-8c41-3b5ca59eafe5",
   "metadata": {},
   "source": [
    "Calculations with multidimensional arrays are just like 1D arrays element wise. E.g. adding a number to an array add that number to all elements: "
   ]
  },
  {
   "cell_type": "code",
   "execution_count": null,
   "id": "22b2b0cc-ded7-4095-882d-4d6bbb3acf67",
   "metadata": {},
   "outputs": [],
   "source": [
    "a = np.zeros((3,2))\n",
    "a = a + np.pi\n",
    "print(a)"
   ]
  },
  {
   "cell_type": "markdown",
   "id": "6d66bca0-f775-40e1-9473-b63a9697fc8c",
   "metadata": {},
   "source": [
    "Instead of adding a number you can also add (or any other computation) arrays. If they have the same shape this is done item-wise:"
   ]
  },
  {
   "cell_type": "code",
   "execution_count": null,
   "id": "f1aa135b-a167-4e1f-803f-711079620497",
   "metadata": {
    "tags": []
   },
   "outputs": [],
   "source": [
    "a = np.ones((3, 2))\n",
    "b = np.ones((3, 2))\n",
    "a + b"
   ]
  },
  {
   "cell_type": "markdown",
   "id": "be35dffc-1770-49f1-8b0e-2d96ffd44606",
   "metadata": {},
   "source": [
    "Functions that you are already familiar with (like `np.sum()`, `np.mean()`, `np.std()`, etc) also work on multidimensional arrays. However you need to specify on what axis the function works. For example take the function `np.sum`: "
   ]
  },
  {
   "cell_type": "code",
   "execution_count": null,
   "id": "af8b31ae-d536-4a71-9c97-6b5b9e851f2c",
   "metadata": {},
   "outputs": [],
   "source": [
    "# create a 2D ndarray using a nested list of shape (2,4)\n",
    "a = np.array([[1,2,3,4],[5,6,7,8]])\n",
    "print(a)\n",
    "\n",
    "# three options to use sum:\n",
    "sum_all = np.sum(a)\n",
    "sum_cols = np.sum(a, axis=0)\n",
    "sum_rows = np.sum(a, axis=1)\n",
    "\n",
    "print('np.sum(a) gives: ', sum_all)\n",
    "print('np.sum(a, axis=0) gives: ', sum_cols)\n",
    "print('np.sum(a, axis=1) gives: ', sum_rows)"
   ]
  },
  {
   "cell_type": "markdown",
   "id": "13b395d4-b906-457b-9aca-13fd20d87391",
   "metadata": {},
   "source": [
    "---\n",
    "**Assignment 10.3**\n",
    "\n",
    "Given the following numpy array `xy`: \n",
    "$$ \\begin{bmatrix}\n",
    "        4 & 3 & 8 & 44 & 15\\\\ \n",
    "        11 & 22 & -3 & 84 & 5\n",
    "        \\end{bmatrix} $$\n",
    "        \n",
    "write code that:\n",
    "\n",
    "- Defines the array `xy`\n",
    "- Prints the number of items and the number of rows and columns of `xy` to the console using the appropriate numpy functions.\n",
    "- Computes the mean of all elements of the array\n",
    "- Creates arrays with the means of the columns and the means of the rows\n",
    "- sorts each row of the array (check out the docs on `xy.sort()`)\n",
    "        "
   ]
  },
  {
   "cell_type": "code",
   "execution_count": 311,
   "outputs": [
    {
     "name": "stdout",
     "output_type": "stream",
     "text": [
      "[[  3   4   8  15  44]\n",
      " [ -3   5  11  84 222]]\n"
     ]
    }
   ],
   "source": [
    "# =============== YOUR CODE GOES HERE =================\n",
    "xy = np.array([[4,3,8,44,15],[11,222,-3,84,5]])\n",
    "size = (xy.size)\n",
    "rows = (np.shape(xy)[0])\n",
    "columns = (np.shape(xy)[1])\n",
    "mean = (np.mean(xy))\n",
    "\n",
    "rows_mean = np.array((np.mean(xy, axis= 1))) # Row\n",
    "columns_mean = np.array((np.mean(xy, axis= 0))) # Column\n",
    "total_mean = np.concatenate((rows_mean, columns_mean))\n",
    "total_mean_sorted = np.sort(xy, axis=1)\n",
    "\n",
    "print (total_mean_sorted)"
   ],
   "metadata": {
    "collapsed": false,
    "ExecuteTime": {
     "end_time": "2023-10-04T13:37:52.112565400Z",
     "start_time": "2023-10-04T13:37:52.081259600Z"
    }
   },
   "id": "9c250b6e875c660d"
  },
  {
   "cell_type": "markdown",
   "id": "a5032e8d-b479-4b3b-937a-621ffe48ac4a",
   "metadata": {},
   "source": [
    "## Concatenating arrays"
   ]
  },
  {
   "cell_type": "markdown",
   "id": "55702505-8181-4e15-90c7-1e3993c43cc4",
   "metadata": {},
   "source": [
    "Concatenating arrays means that you combine 2 or more arrays into one array. We show three numpy functions that can handle most (if not all) situations that might occur. Given two array `x` and `y`:\n",
    "- `np.hstack((x, y))` combines arrays `x` and `y` columnwise (horizontally)\n",
    "- `np.vstack((x, y))` combines arrays `x` and `y` rowwise (vertically)\n",
    "- `np.column_stack((x, y))` combines arrays `x` and `y` columnwise, usefull if you have 1D arrays because `hstack` would result in a 1D array."
   ]
  },
  {
   "cell_type": "markdown",
   "id": "c939c0a9-f02c-4696-bfe7-a9ed0bbbac04",
   "metadata": {},
   "source": [
    "---\n",
    "**Assignment 10.4**\n",
    "\n",
    "Given the following numpy arrays:\n",
    "\n",
    "`x = np.array[1, 2, 3])`  \n",
    "`y = np.array([4, 5, 6])` \n",
    "\n",
    "write code that applies the three function discussed above and check the result.      "
   ]
  },
  {
   "cell_type": "code",
   "execution_count": 292,
   "id": "ae40d1e3-3b9c-403c-9d3c-b1cc8ba07fc4",
   "metadata": {
    "ExecuteTime": {
     "end_time": "2023-10-04T13:29:27.392952100Z",
     "start_time": "2023-10-04T13:29:27.364717600Z"
    }
   },
   "outputs": [
    {
     "name": "stdout",
     "output_type": "stream",
     "text": [
      "(array([1, 2, 3, 4, 5, 6]), array([[1, 2, 3],\n",
      "       [4, 5, 6]]), array([[1, 4],\n",
      "       [2, 5],\n",
      "       [3, 6]]))\n"
     ]
    }
   ],
   "source": [
    "# =============== YOUR CODE GOES HERE =================\n",
    "x = np.array([1, 2, 3])\n",
    "y = np.array([4, 5, 6])\n",
    "\n",
    "def lol(x, y):\n",
    "    i = np.hstack((x, y))\n",
    "    j = np.vstack((x, y)) \n",
    "    k = np.column_stack((x, y))\n",
    "    return i,j,k\n",
    "print(lol(x,y))"
   ]
  },
  {
   "cell_type": "markdown",
   "id": "1c2b73cc-a307-42c0-866d-ffd2884b4b2f",
   "metadata": {},
   "source": [
    "---\n",
    "**Assignment 10.5**\n",
    "\n",
    "Give an example of concatenating two 2D arrays that have a different shape using:\n",
    "- `np.hstack()`\n",
    "- `np.vstack()`"
   ]
  },
  {
   "cell_type": "code",
   "execution_count": 306,
   "id": "04037426-3d53-4578-a2fa-bd3e6e358879",
   "metadata": {
    "ExecuteTime": {
     "end_time": "2023-10-04T13:36:41.988403500Z",
     "start_time": "2023-10-04T13:36:41.957143400Z"
    }
   },
   "outputs": [
    {
     "ename": "ValueError",
     "evalue": "all the input array dimensions for the concatenation axis must match exactly, but along dimension 0, the array at index 0 has size 2 and the array at index 1 has size 3",
     "output_type": "error",
     "traceback": [
      "\u001B[1;31m---------------------------------------------------------------------------\u001B[0m",
      "\u001B[1;31mValueError\u001B[0m                                Traceback (most recent call last)",
      "Cell \u001B[1;32mIn[306], line 9\u001B[0m\n\u001B[0;32m      6\u001B[0m array3 \u001B[38;5;241m=\u001B[39m np\u001B[38;5;241m.\u001B[39marray(([[\u001B[38;5;241m1\u001B[39m,\u001B[38;5;241m2\u001B[39m],[\u001B[38;5;241m3\u001B[39m,\u001B[38;5;241m4\u001B[39m]]))\n\u001B[0;32m      7\u001B[0m array4 \u001B[38;5;241m=\u001B[39m np\u001B[38;5;241m.\u001B[39marray(([[\u001B[38;5;241m5\u001B[39m,\u001B[38;5;241m6\u001B[39m],[\u001B[38;5;241m7\u001B[39m,\u001B[38;5;241m89\u001B[39m]]))\n\u001B[1;32m----> 9\u001B[0m \u001B[43mnp\u001B[49m\u001B[38;5;241;43m.\u001B[39;49m\u001B[43mhstack\u001B[49m\u001B[43m(\u001B[49m\u001B[43m(\u001B[49m\u001B[43marray1\u001B[49m\u001B[43m,\u001B[49m\u001B[43m \u001B[49m\u001B[43marray2\u001B[49m\u001B[43m)\u001B[49m\u001B[43m)\u001B[49m\n",
      "File \u001B[1;32m<__array_function__ internals>:180\u001B[0m, in \u001B[0;36mhstack\u001B[1;34m(*args, **kwargs)\u001B[0m\n",
      "File \u001B[1;32mC:\\tools\\Anaconda3\\lib\\site-packages\\numpy\\core\\shape_base.py:345\u001B[0m, in \u001B[0;36mhstack\u001B[1;34m(tup)\u001B[0m\n\u001B[0;32m    343\u001B[0m     \u001B[38;5;28;01mreturn\u001B[39;00m _nx\u001B[38;5;241m.\u001B[39mconcatenate(arrs, \u001B[38;5;241m0\u001B[39m)\n\u001B[0;32m    344\u001B[0m \u001B[38;5;28;01melse\u001B[39;00m:\n\u001B[1;32m--> 345\u001B[0m     \u001B[38;5;28;01mreturn\u001B[39;00m \u001B[43m_nx\u001B[49m\u001B[38;5;241;43m.\u001B[39;49m\u001B[43mconcatenate\u001B[49m\u001B[43m(\u001B[49m\u001B[43marrs\u001B[49m\u001B[43m,\u001B[49m\u001B[43m \u001B[49m\u001B[38;5;241;43m1\u001B[39;49m\u001B[43m)\u001B[49m\n",
      "File \u001B[1;32m<__array_function__ internals>:180\u001B[0m, in \u001B[0;36mconcatenate\u001B[1;34m(*args, **kwargs)\u001B[0m\n",
      "\u001B[1;31mValueError\u001B[0m: all the input array dimensions for the concatenation axis must match exactly, but along dimension 0, the array at index 0 has size 2 and the array at index 1 has size 3"
     ]
    }
   ],
   "source": [
    "# =============== YOUR CODE GOES HERE =================\n",
    "array1 = np.array(([[1,2],[3,4]]))\n",
    "array2 = np.array(([[5,6],[7,8],[9,10]]))\n",
    "np.vstack((array1, array2))\n",
    "\n",
    "array3 = np.array(([[1,2],[3,4]]))\n",
    "array4 = np.array(([[5,6],[7,89]]))\n",
    "\n",
    "np.hstack((array3, array4))"
   ]
  },
  {
   "cell_type": "markdown",
   "id": "7b2b7d97-3fe2-4c33-b5aa-621c48fadc66",
   "metadata": {},
   "source": [
    "## Import and export arrays to disk"
   ]
  },
  {
   "cell_type": "markdown",
   "id": "18917a0a-ddd6-4752-a199-9c593a90de2e",
   "metadata": {},
   "source": [
    "Saving you data to disk is important. Especially computation heavy dataanalysis you do not want to repeat each time you need the result. Fortunately numpy has 2 function that let you conveniently store the dat to a file. The functions to do this are:\n",
    "-  `np.savetxt()`, saves an array to disk in a human readible format.\n",
    "-  `np.loadtxt()`, loads a file that was saved earlier into a ndarray."
   ]
  },
  {
   "cell_type": "markdown",
   "id": "51dad2f2-5d16-4db3-8547-e38fb0381b07",
   "metadata": {},
   "source": [
    "---\n",
    "**Assignment 10.6**\n",
    "\n",
    "Check the documentation on `np.savetxt`.  \n",
    "Write a script that:\n",
    "- creates a 1D numpy array `x` filled with 100 equally spaced values between $-4\\pi$ and $4\\pi$\n",
    "- creates a 1D array `y` that is filled with the sinc() of the first array\n",
    "- creates a 2D array `sinc` of two columns containing the values `x` and `y` as columns\n",
    "- stores `sinc` to file using a comma as a delimiter\n",
    "- check the file (in notepad or jupyterlab)"
   ]
  },
  {
   "cell_type": "code",
   "execution_count": 299,
   "id": "f41d9eaf-1611-4b4d-a602-fa3163a804b9",
   "metadata": {
    "ExecuteTime": {
     "end_time": "2023-10-04T13:34:47.587542200Z",
     "start_time": "2023-10-04T13:34:47.541643700Z"
    }
   },
   "outputs": [
    {
     "data": {
      "text/plain": "array([[-1.25663706e+01,  2.47816557e-02],\n       [-1.23125045e+01,  2.14958313e-02],\n       [-1.20586385e+01,  4.83531937e-03],\n       [-1.18047724e+01, -1.55205046e-02],\n       [-1.15509063e+01, -2.72054764e-02],\n       [-1.12970402e+01, -2.26402046e-02],\n       [-1.10431742e+01, -3.89760388e-03],\n       [-1.07893081e+01,  1.81328234e-02],\n       [-1.05354420e+01,  3.00261524e-02],\n       [-1.02815760e+01,  2.39519240e-02],\n       [-1.00277099e+01,  2.75984238e-03],\n       [-9.77384381e+00, -2.12407263e-02],\n       [-9.51997774e+00, -3.33701591e-02],\n       [-9.26611167e+00, -2.54884277e-02],\n       [-9.01224559e+00, -1.35843743e-03],\n       [-8.75837952e+00,  2.50133671e-02],\n       [-8.50451345e+00,  3.74245852e-02],\n       [-8.25064737e+00,  2.73355974e-02],\n       [-7.99678130e+00, -4.02492576e-04],\n       [-7.74291523e+00, -2.97087854e-02],\n       [-7.48904915e+00, -4.24782274e-02],\n       [-7.23518308e+00, -2.96277110e-02],\n       [-6.98131701e+00,  2.67460518e-03],\n       [-6.72745093e+00,  3.57409997e-02],\n       [-6.47358486e+00,  4.90013623e-02],\n       [-6.21971879e+00,  3.25869398e-02],\n       [-5.96585272e+00, -5.71281710e-03],\n       [-5.71198664e+00, -4.38186658e-02],\n       [-5.45812057e+00, -5.78145637e-02],\n       [-5.20425450e+00, -3.66090864e-02],\n       [-4.95038842e+00,  9.98122851e-03],\n       [-4.69652235e+00,  5.52636162e-02],\n       [-4.44265628e+00,  7.04890425e-02],\n       [-4.18879020e+00,  4.24740317e-02],\n       [-3.93492413e+00, -1.64230589e-02],\n       [-3.68105806e+00, -7.28566357e-02],\n       [-3.42719199e+00, -9.04586980e-02],\n       [-3.17332591e+00, -5.19602384e-02],\n       [-2.91945984e+00,  2.72939276e-02],\n       [-2.66559377e+00,  1.03616438e-01],\n       [-2.41172769e+00,  1.26941562e-01],\n       [-2.15786162e+00,  7.01943227e-02],\n       [-1.90399555e+00, -4.96616305e-02],\n       [-1.65012947e+00, -1.71839474e-01],\n       [-1.39626340e+00, -2.15972994e-01],\n       [-1.14239733e+00, -1.20531673e-01],\n       [-8.88531256e-01,  1.22904387e-01],\n       [-6.34665183e-01,  4.57321912e-01],\n       [-3.80799110e-01,  7.77970008e-01],\n       [-1.26933037e-01,  9.73706759e-01],\n       [ 1.26933037e-01,  9.73706759e-01],\n       [ 3.80799110e-01,  7.77970008e-01],\n       [ 6.34665183e-01,  4.57321912e-01],\n       [ 8.88531256e-01,  1.22904387e-01],\n       [ 1.14239733e+00, -1.20531673e-01],\n       [ 1.39626340e+00, -2.15972994e-01],\n       [ 1.65012947e+00, -1.71839474e-01],\n       [ 1.90399555e+00, -4.96616305e-02],\n       [ 2.15786162e+00,  7.01943227e-02],\n       [ 2.41172769e+00,  1.26941562e-01],\n       [ 2.66559377e+00,  1.03616438e-01],\n       [ 2.91945984e+00,  2.72939276e-02],\n       [ 3.17332591e+00, -5.19602384e-02],\n       [ 3.42719199e+00, -9.04586980e-02],\n       [ 3.68105806e+00, -7.28566357e-02],\n       [ 3.93492413e+00, -1.64230589e-02],\n       [ 4.18879020e+00,  4.24740317e-02],\n       [ 4.44265628e+00,  7.04890425e-02],\n       [ 4.69652235e+00,  5.52636162e-02],\n       [ 4.95038842e+00,  9.98122851e-03],\n       [ 5.20425450e+00, -3.66090864e-02],\n       [ 5.45812057e+00, -5.78145637e-02],\n       [ 5.71198664e+00, -4.38186658e-02],\n       [ 5.96585272e+00, -5.71281710e-03],\n       [ 6.21971879e+00,  3.25869398e-02],\n       [ 6.47358486e+00,  4.90013623e-02],\n       [ 6.72745093e+00,  3.57409997e-02],\n       [ 6.98131701e+00,  2.67460518e-03],\n       [ 7.23518308e+00, -2.96277110e-02],\n       [ 7.48904915e+00, -4.24782274e-02],\n       [ 7.74291523e+00, -2.97087854e-02],\n       [ 7.99678130e+00, -4.02492576e-04],\n       [ 8.25064737e+00,  2.73355974e-02],\n       [ 8.50451345e+00,  3.74245852e-02],\n       [ 8.75837952e+00,  2.50133671e-02],\n       [ 9.01224559e+00, -1.35843743e-03],\n       [ 9.26611167e+00, -2.54884277e-02],\n       [ 9.51997774e+00, -3.33701591e-02],\n       [ 9.77384381e+00, -2.12407263e-02],\n       [ 1.00277099e+01,  2.75984238e-03],\n       [ 1.02815760e+01,  2.39519240e-02],\n       [ 1.05354420e+01,  3.00261524e-02],\n       [ 1.07893081e+01,  1.81328234e-02],\n       [ 1.10431742e+01, -3.89760388e-03],\n       [ 1.12970402e+01, -2.26402046e-02],\n       [ 1.15509063e+01, -2.72054764e-02],\n       [ 1.18047724e+01, -1.55205046e-02],\n       [ 1.20586385e+01,  4.83531937e-03],\n       [ 1.23125045e+01,  2.14958313e-02],\n       [ 1.25663706e+01,  2.47816557e-02]])"
     },
     "execution_count": 299,
     "metadata": {},
     "output_type": "execute_result"
    }
   ],
   "source": [
    "# =============== YOUR CODE GOES HERE =================\n",
    "x = np.linspace(-4*np.pi, 4*np.pi, num = 100)\n",
    "y = np.sinc(x)\n",
    "x_y = np.column_stack((x, y))\n",
    "np.savetxt('file.out', x_y, delimiter=',')\n",
    "x_y"
   ]
  },
  {
   "cell_type": "markdown",
   "id": "a6ade6f9-442b-40bb-bb7c-2a670d48d274",
   "metadata": {},
   "source": [
    "---\n",
    "**Assignment 10.7**\n",
    "\n",
    "Check the documentation on `np.loadtxt`.  \n",
    "Write a script that:\n",
    "- loads the data in the stored file to an array called `restored_data` (check out the shape of the resulting array)\n",
    "- slices the array into two arrays `xdata` and `ydata` \n",
    "- make a plot of `xdata` on the x-axis and `ydata` on the y-axis."
   ]
  },
  {
   "cell_type": "code",
   "execution_count": 300,
   "id": "72c20c4f-8d1b-4c41-9ed7-294d2dbfd4d1",
   "metadata": {
    "ExecuteTime": {
     "end_time": "2023-10-04T13:34:54.127825300Z",
     "start_time": "2023-10-04T13:34:53.892491200Z"
    }
   },
   "outputs": [
    {
     "data": {
      "text/plain": "[<matplotlib.lines.Line2D at 0x1d89ddd2320>]"
     },
     "execution_count": 300,
     "metadata": {},
     "output_type": "execute_result"
    },
    {
     "data": {
      "text/plain": "<Figure size 640x480 with 1 Axes>",
      "image/png": "[encoded data removed]"
     },
     "metadata": {},
     "output_type": "display_data"
    }
   ],
   "source": [
    "# =============== YOUR CODE GOES HERE =================\n",
    "from matplotlib import pyplot\n",
    "restored_data = np.loadtxt('file.out', delimiter=\",\")\n",
    "x_data = restored_data[:,0]\n",
    "y_data = restored_data[:,1]\n",
    "# x_data = restored_data[0,:]\n",
    "pyplot.plot(x_data, y_data)"
   ]
  },
  {
   "cell_type": "code",
   "execution_count": null,
   "id": "a02077eb-e180-493c-a566-5e710491f40e",
   "metadata": {},
   "outputs": [],
   "source": []
  }
 ],
 "metadata": {
  "kernelspec": {
   "display_name": "Python 3 (ipykernel)",
   "language": "python",
   "name": "python3"
  },
  "language_info": {
   "codemirror_mode": {
    "name": "ipython",
    "version": 3
   },
   "file_extension": ".py",
   "mimetype": "text/x-python",
   "name": "python",
   "nbconvert_exporter": "python",
   "pygments_lexer": "ipython3",
   "version": "3.9.17"
  }
 },
 "nbformat": 4,
 "nbformat_minor": 5
}
