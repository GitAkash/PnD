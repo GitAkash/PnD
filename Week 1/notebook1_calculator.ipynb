{
 "cells": [
  {
   "cell_type": "markdown",
   "id": "04365e4f-e5b7-4b8e-a7e1-adc9cb668caa",
   "metadata": {},
   "source": [
    "# NOTEBOOK 1 Python as a calculator\n",
    "---"
   ]
  },
  {
   "cell_type": "markdown",
   "id": "1e2d852e-5af7-42d9-a822-3663181f40d8",
   "metadata": {},
   "source": [
    "## BASIC CALCULATIONS"
   ]
  },
  {
   "cell_type": "markdown",
   "id": "1e8292e4-7610-46a4-b095-795bb3707cbc",
   "metadata": {},
   "source": [
    "Python can be used as a normal calculator to directly make computations.\n",
    "The basic expressions are:\n",
    "|expression|description|result|\n",
    "|---|---|---|\n",
    "|5 + 2| sum |7|\n",
    "|5 - 2| difference |3|\n",
    "|5 * 2| product | 10 |\n",
    "|5 / 2| division| 2.5 |\n",
    "|5 // 2| floor division| 2 |\n",
    "|5 % 2| remainder | 1|\n",
    "|5**2| power | 25|\n"
   ]
  },
  {
   "cell_type": "code",
   "execution_count": 14,
   "id": "9b33555b-cc22-4642-80e8-220161617e6b",
   "metadata": {},
   "outputs": [
    {
     "name": "stdout",
     "output_type": "stream",
     "text": [
      "9\n"
     ]
    }
   ],
   "source": [
    "# example\n",
    "print(3**2)"
   ]
  },
  {
   "cell_type": "markdown",
   "id": "064b15a2-8769-4758-9d1b-3c8928573b1e",
   "metadata": {},
   "source": [
    "---\n",
    "**Assignment**\n",
    "\n",
    "Compute the following:\n",
    "Use the `print()` statement to show the result of the following expressions.\n"
   ]
  },
  {
   "cell_type": "markdown",
   "id": "03b65ca0-e40a-4f4f-af75-9fd17a1b9770",
   "metadata": {},
   "source": [
    "- $3 + 4$\n",
    "- $3 / 5$\n",
    "- $2^4$\n",
    "- $\\sqrt{100}$\n",
    "- $3 \\times \\frac{14 - 3}{5}$\n",
    "- $4 (2 - \\sqrt{5} )$"
   ]
  },
  {
   "cell_type": "code",
   "execution_count": 15,
   "id": "c1822bdf-ec72-423a-b2eb-7fe78c0c4f2f",
   "metadata": {},
   "outputs": [
    {
     "name": "stdout",
     "output_type": "stream",
     "text": [
      "7\n",
      "0.6\n",
      "16\n",
      "10.0\n",
      "6.6000000000000005\n",
      "-0.9442719099991592\n"
     ]
    }
   ],
   "source": [
    "# =============== YOUR CODE GOES HERE =================\n",
    "import math\n",
    "\n",
    "print(3+4)\n",
    "print(3/5)\n",
    "print(2**4)\n",
    "print(math.sqrt(100))\n",
    "print(3*((14-3)/(5)))\n",
    "print(4*(2-math.sqrt(5)))"
   ]
  },
  {
   "cell_type": "markdown",
   "id": "f2360b53-e47a-4a49-9749-570422bdfd71",
   "metadata": {},
   "source": [
    "## MORE ADVANCED MATHEMATICAL FUNCTIONS"
   ]
  },
  {
   "cell_type": "markdown",
   "id": "6561c5d5-68bb-476b-b30f-ddeb2021f0b8",
   "metadata": {},
   "source": [
    "More advanced mathematical expressions/functions require the import of packages. For math the Pyhton package ```numpy``` is commonly used. An example is shown below:"
   ]
  },
  {
   "cell_type": "code",
   "execution_count": 16,
   "id": "7d16cdde-3804-4c2a-bc7f-354ed705ed8c",
   "metadata": {},
   "outputs": [
    {
     "name": "stdout",
     "output_type": "stream",
     "text": [
      "0.8414709848078965\n"
     ]
    }
   ],
   "source": [
    "# import the package numpy and give it a short name np\n",
    "import numpy as np\n",
    "\n",
    "# use of the sine function of numpy to compute the sine of an angle\n",
    "print(np.sin(1))\n"
   ]
  },
  {
   "cell_type": "markdown",
   "id": "761ccf15-9c8a-46e9-abaa-5f320b6b9da5",
   "metadata": {},
   "source": [
    "The numpy package has many mathematical functions. Just to name a few:\n",
    "- $\\sin(x)$ : ```np.sin(x)```\n",
    "- $\\cos(x)$ : ```np.cos(x)```\n",
    "- $\\tan(x)$ : ```np.tan(x)```\n",
    "- $e^x$ : ```np.exp(x)```\n",
    "-\n",
    "-\n",
    "-\n",
    "\n",
    "To list all available functions check out: https://numpy.org/doc/stable/reference/routines.math.html.\n",
    "\n",
    "Numpy also defines a few commonly used mathematical constants:\n",
    "- $e$ : ```np.e```\n",
    "- $\\pi$ : ```np.pi```"
   ]
  },
  {
   "cell_type": "markdown",
   "id": "c1223c98-91ac-4b4a-907e-9f863c33e7b8",
   "metadata": {},
   "source": [
    "---\n",
    "**Assignment**\n",
    "\n",
    "Compute the following expressions:\n",
    "- $\\large\\tan(\\pi/4)$\n",
    "\n",
    "- $\\large\\sin(45^\\circ)$\n",
    "\n",
    "- $\\large\\log_{10}(10)$\n",
    "\n",
    "- $\\large\\frac{\\ln(\\pi)}{\\sin(\\pi/4)}\\sqrt{e^{5.6}}$"
   ]
  },
  {
   "cell_type": "code",
   "execution_count": 21,
   "id": "1f387b3f-4755-40b2-9c99-612755ed1874",
   "metadata": {},
   "outputs": [
    {
     "name": "stdout",
     "output_type": "stream",
     "text": [
      "0.9999999999999999\n",
      "0.7071067811865476\n",
      "1.0\n",
      "26.622115813290915\n"
     ]
    }
   ],
   "source": [
    "# =============== YOUR CODE GOES HERE =================\n",
    "import numpy as np\n",
    "\n",
    "print(np.tan((np.pi)/4))\n",
    "print(np.sin((np.pi*45)/180))\n",
    "print(np.log10(10))\n",
    "print(((np.log(np.pi))/(np.sin(np.pi/4)))*(np.sqrt(np.e**5.6)))\n",
    "\n",
    "\n",
    "\n"
   ]
  },
  {
   "cell_type": "markdown",
   "id": "73efedb6-0036-4b30-b926-18bbe26c9a31",
   "metadata": {},
   "source": [
    "---\n",
    "**Assignment**\n",
    "\n",
    "Make your own expression and calculate the result. The expression should use at least two math functions from numpy that are not mentioned/used above."
   ]
  },
  {
   "cell_type": "code",
   "execution_count": 22,
   "id": "d1df2e86-19a7-4bba-97d0-ab76b8ac1d6b",
   "metadata": {},
   "outputs": [
    {
     "data": {
      "text/plain": [
       "22.0"
      ]
     },
     "execution_count": 22,
     "metadata": {},
     "output_type": "execute_result"
    }
   ],
   "source": [
    "# =============== YOUR CODE GOES HERE =================\n",
    "np.multiply(np.sum([0.5,2.0,3.0]),4)\n"
   ]
  },
  {
   "cell_type": "markdown",
   "id": "fd361c74-22a9-4c35-9b8a-352905a4153f",
   "metadata": {},
   "source": [
    "## SCIENTIFIC NOTATION"
   ]
  },
  {
   "cell_type": "markdown",
   "id": "bd695ce7-bd5c-4bb4-be09-1bfa4357d0d0",
   "metadata": {},
   "source": [
    "In python you can use scientific notation to specify *floating point* numbers. Powers of 10 are denoted with `E` or `e` (exponent). For example if you want to specify Avogadro's constant you can use: `6.02214076E23` or `6.02214076e23`"
   ]
  },
  {
   "cell_type": "markdown",
   "id": "dfe4c9cb-66ce-4acb-9654-5f04dea76c0b",
   "metadata": {},
   "source": [
    "---\n",
    "**Assignment**\n",
    "\n",
    "Use scientific notation to print the charge of an electron"
   ]
  },
  {
   "cell_type": "code",
   "execution_count": 23,
   "id": "39a46920-b959-4d59-8883-7746e42bbdbb",
   "metadata": {},
   "outputs": [
    {
     "name": "stdout",
     "output_type": "stream",
     "text": [
      "1.60217646e+19\n"
     ]
    }
   ],
   "source": [
    "# =============== YOUR CODE GOES HERE =================\n",
    "print (1.60217646e19)\n"
   ]
  }
 ],
 "metadata": {
  "kernelspec": {
   "display_name": "Python 3 (ipykernel)",
   "language": "python",
   "name": "python3"
  },
  "language_info": {
   "codemirror_mode": {
    "name": "ipython",
    "version": 3
   },
   "file_extension": ".py",
   "mimetype": "text/x-python",
   "name": "python",
   "nbconvert_exporter": "python",
   "pygments_lexer": "ipython3",
   "version": "3.10.9"
  }
 },
 "nbformat": 4,
 "nbformat_minor": 5
}
