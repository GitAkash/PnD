{
 "cells": [
  {
   "cell_type": "markdown",
   "id": "04365e4f-e5b7-4b8e-a7e1-adc9cb668caa",
   "metadata": {},
   "source": [
    "# NOTEBOOK 6 More on sequences\n",
    "---"
   ]
  },
  {
   "cell_type": "markdown",
   "id": "4c1f0af7-3b3d-4306-8c25-986103cdcac6",
   "metadata": {},
   "source": [
    "## INDEXING AND SLICING"
   ]
  },
  {
   "cell_type": "markdown",
   "id": "1e8292e4-7610-46a4-b095-795bb3707cbc",
   "metadata": {},
   "source": [
    "Sequence types (e.g. list, tuple, string, numpy array) can store multiple values. For example:  \n",
    "\n",
    "`myarray = np.array([1, 5, 2, 42])`  \n",
    "\n",
    "Here the numpy array `x` contains 4 integers. You can use **indexing** to select 1 or more values from the array. You do that by using square brackets and an index pointing at the position of the value in the array. Below you see a few examples. Note that indexing starts at 0, which means that the first value in an array is at index 0 (and not 1). The basic syntax is:\n",
    "\n",
    "`item_at_index = mysequence[index]`\n"
   ]
  },
  {
   "cell_type": "code",
   "execution_count": 1,
   "id": "9b33555b-cc22-4642-80e8-220161617e6b",
   "metadata": {
    "ExecuteTime": {
     "end_time": "2023-09-25T08:11:23.270071700Z",
     "start_time": "2023-09-25T08:11:22.973041600Z"
    }
   },
   "outputs": [
    {
     "name": "stdout",
     "output_type": "stream",
     "text": [
      "item at index 0 is: 1\n",
      "item at index 1 is: 5\n",
      "item at index 3 is: 42\n",
      "item at index -1 is: 42\n"
     ]
    }
   ],
   "source": [
    "# example\n",
    "import numpy as np\n",
    "\n",
    "x = np.array([1, 5, 2, 42])\n",
    "item0 = x[0]  # the first element\n",
    "item1 = x[1]  # the second element\n",
    "item3 = x[3]  # the fourth and last element\n",
    "item_minus1 = x[-1]  # the last element (think of it as counting backward in the list starting at index 0)\n",
    "\n",
    "# BTW you can use f-strings to print variables in a nice way\n",
    "print(f'item at index 0 is: {item0}')\n",
    "print(f'item at index 1 is: {item1}')\n",
    "print(f'item at index 3 is: {item3}')\n",
    "print(f'item at index -1 is: {item_minus1}')"
   ]
  },
  {
   "cell_type": "code",
   "execution_count": 8,
   "id": "de9542a6-3d92-4464-9dfb-61fe955431ff",
   "metadata": {
    "ExecuteTime": {
     "end_time": "2023-09-25T08:16:40.900208Z",
     "start_time": "2023-09-25T08:16:40.218320600Z"
    }
   },
   "outputs": [
    {
     "ename": "IndexError",
     "evalue": "index 6 is out of bounds for axis 0 with size 4",
     "output_type": "error",
     "traceback": [
      "\u001B[1;31m---------------------------------------------------------------------------\u001B[0m",
      "\u001B[1;31mIndexError\u001B[0m                                Traceback (most recent call last)",
      "Cell \u001B[1;32mIn[8], line 2\u001B[0m\n\u001B[0;32m      1\u001B[0m \u001B[38;5;66;03m# you get an error if the index is too large for the length of the array\u001B[39;00m\n\u001B[1;32m----> 2\u001B[0m \u001B[38;5;28mprint\u001B[39m(\u001B[43mx\u001B[49m\u001B[43m[\u001B[49m\u001B[38;5;241;43m6\u001B[39;49m\u001B[43m]\u001B[49m)\n",
      "\u001B[1;31mIndexError\u001B[0m: index 6 is out of bounds for axis 0 with size 4"
     ]
    }
   ],
   "source": [
    "# you get an error if the index is too large for the length of the array\n",
    "print(x[6])"
   ]
  },
  {
   "cell_type": "markdown",
   "id": "2c0409cb-391a-424d-a4cd-f6f90d9612dc",
   "metadata": {},
   "source": [
    "You can select multiple values. This is called **slicing**. The basic syntax is: \n",
    "\n",
    "`mysequence[start:stop]`\n",
    "\n",
    "with `start` the start index (inclusive) and `stop` the stop index (exclusive). The result is a new sequence (of the same type as `mysequence`) containing the items of `mysequence` at index start, start+1, start+2,..., stop-1. \n",
    "You can also defince a step (or stride):\n",
    "\n",
    "`mysequence[start:stop:stride]`\n",
    "\n",
    "which selects items at index start, start+stride, start+2*stride, ..., stop-1. \n",
    "Let's look at a few examples.\n"
   ]
  },
  {
   "cell_type": "code",
   "execution_count": 2,
   "id": "88a88559-dc77-4ff4-9b53-757ec4c0d73c",
   "metadata": {
    "ExecuteTime": {
     "end_time": "2023-09-25T08:11:27.597556600Z",
     "start_time": "2023-09-25T08:11:27.559391500Z"
    }
   },
   "outputs": [
    {
     "name": "stdout",
     "output_type": "stream",
     "text": [
      "[1, 2, 3, 4, 5]\n"
     ]
    }
   ],
   "source": [
    "mylist = [1, 2, 3, 4, 5, 6, 7, 8, 9, 10]\n",
    "\n",
    "newlist = mylist[0:5]  # stop index is exclusive so you get values at index 0, 1, 2, 3, 4\n",
    "print(newlist)"
   ]
  },
  {
   "cell_type": "code",
   "execution_count": 4,
   "id": "d5890798-bcdf-4b68-b48a-997ca33909e9",
   "metadata": {},
   "outputs": [
    {
     "name": "stdout",
     "output_type": "stream",
     "text": [
      "[4, 5]\n"
     ]
    }
   ],
   "source": [
    "newlist = mylist[3:5]  # stop index is exclusive so you get values at index 3, 4\n",
    "print(newlist)"
   ]
  },
  {
   "cell_type": "code",
   "execution_count": 5,
   "id": "fa57f077-3b89-4a99-bf89-8f58653173e7",
   "metadata": {},
   "outputs": [
    {
     "name": "stdout",
     "output_type": "stream",
     "text": [
      "[4, 5, 6, 7, 8, 9, 10]\n"
     ]
    }
   ],
   "source": [
    "newlist = mylist[3:]  # if you do not specify a stop index it takes all items from start index to the last item\n",
    "print(newlist)"
   ]
  },
  {
   "cell_type": "code",
   "execution_count": 6,
   "id": "fe37b8c4-8aa4-4d89-a553-28f67cd4091b",
   "metadata": {
    "tags": []
   },
   "outputs": [
    {
     "name": "stdout",
     "output_type": "stream",
     "text": [
      "[1, 2, 3]\n"
     ]
    }
   ],
   "source": [
    "newlist = mylist[:3]  # if you do not specify a start index it takes start=0\n",
    "print(newlist)"
   ]
  },
  {
   "cell_type": "code",
   "execution_count": 12,
   "id": "98820fdc-e51c-4365-bbca-0a46f87bb19d",
   "metadata": {
    "tags": []
   },
   "outputs": [
    {
     "name": "stdout",
     "output_type": "stream",
     "text": [
      "[2, 4, 6, 8, 10]\n"
     ]
    }
   ],
   "source": [
    "newlist = mylist[1:11:2]  # take a stride (or step) of 2\n",
    "print(newlist)"
   ]
  },
  {
   "cell_type": "markdown",
   "id": "064b15a2-8769-4758-9d1b-3c8928573b1e",
   "metadata": {},
   "source": [
    "---\n",
    "**Assignment 6.1**\n",
    "\n",
    "A measurement is performed in which we measure two quantities $x$ and $y$ at various times $t$. Unfortunately the data in the numpy array defined in the cell below is a bit mixed up. The values in the arrays are: $[t_0, x_0, y_0, t_1, x_1,y_1,t_2, x_2, y_2, \\cdots, \\text{etc}]$. Write code that creates three numpy arrays `t`, `x` and `y` that contain the data of $t$, $x$ and $y$ respectively. Make use of slicing!"
   ]
  },
  {
   "cell_type": "code",
   "execution_count": 119,
   "id": "c1822bdf-ec72-423a-b2eb-7fe78c0c4f2f",
   "metadata": {},
   "outputs": [
    {
     "name": "stdout",
     "output_type": "stream",
     "text": [
      "[ 0.  1.  2.  3.  4.  5.  6.  7.  8.  9. 10.]\n",
      "[ 0.  1.  8. 13. 18. 35. 50. 50. 61. 62. 79.]\n",
      "[0.05 0.07 0.15 0.16 0.17 0.39 0.41 0.52 0.56 0.73 0.99]\n"
     ]
    }
   ],
   "source": [
    "data = np.array([0, 0, 0.05, 1, 1, 0.07, 2, 8, 0.15, 3, 13, 0.16, 4, 18, 0.17, 5, 35, 0.39, 6, 50, 0.41, 7, 50, 0.52, 8,61, 0.56, 9, 62, 0.73, 10, 79, 0.99])\n",
    "\n",
    "# =============== YOUR CODE GOES HERE =================\n",
    "\n",
    "array_t = data[0::3]\n",
    "array_x = data[1::3]\n",
    "array_y = data[2::3]\n",
    "print(array_t)\n",
    "print(array_x)\n",
    "print(array_y)"
   ]
  },
  {
   "cell_type": "markdown",
   "id": "4c42cc56-0ea4-4b9f-aa8d-f6e37ed1ca84",
   "metadata": {},
   "source": [
    "---\n",
    "**Assignment 6.2**\n",
    "\n",
    "Use slicing to define the variables `firstname` and `lastname` that contain the first-, and lastname respectively of the defined string."
   ]
  },
  {
   "cell_type": "code",
   "execution_count": 3,
   "id": "e57398ca-11de-4da1-849e-0ab3600599c2",
   "metadata": {
    "ExecuteTime": {
     "end_time": "2023-09-25T08:11:30.862807600Z",
     "start_time": "2023-09-25T08:11:30.733810600Z"
    }
   },
   "outputs": [
    {
     "name": "stdout",
     "output_type": "stream",
     "text": [
      "Albert\n",
      "Einstein\n"
     ]
    }
   ],
   "source": [
    "name = 'Albert Einstein'\n",
    "\n",
    "# =============== YOUR CODE GOES HERE =================\n",
    "firstname = name[:6]\n",
    "lastname = name[7:]\n",
    "\n",
    "print(firstname)\n",
    "print(lastname)"
   ]
  },
  {
   "cell_type": "markdown",
   "id": "31a330d0-b41a-4707-9344-379c9bf030eb",
   "metadata": {},
   "source": [
    "The concept of indexing and slicing cannot only be used to get values from the sequence. It can in exactly the same way be used to set values in the sequence. A few examples:"
   ]
  },
  {
   "cell_type": "code",
   "execution_count": 27,
   "id": "f0fa7ed5-1c17-4278-ac78-2055362a9821",
   "metadata": {},
   "outputs": [
    {
     "name": "stdout",
     "output_type": "stream",
     "text": [
      "Before: ['eggs', 'bacon', 'spam']\n",
      "After: ['eggs', 'spam', 'spam']\n"
     ]
    }
   ],
   "source": [
    "# example\n",
    "\n",
    "mylist = ['eggs', 'bacon', 'spam']\n",
    "print(f'Before: {mylist}')\n",
    "\n",
    "mylist[1] = 'spam'  # set the second item of the sequence\n",
    "print(f'After: {mylist}')\n"
   ]
  },
  {
   "cell_type": "code",
   "execution_count": 7,
   "id": "a00722bf-f50c-4c81-ae32-b2b941a12a46",
   "metadata": {
    "ExecuteTime": {
     "end_time": "2023-09-25T08:11:43.541573600Z",
     "start_time": "2023-09-25T08:11:43.509301200Z"
    }
   },
   "outputs": [
    {
     "name": "stdout",
     "output_type": "stream",
     "text": [
      "Before: ['eggs', 'bacon', 'spam']\n",
      "After: ['bacon', 'spam', 'spam']\n"
     ]
    }
   ],
   "source": [
    "# example\n",
    "\n",
    "mylist = ['eggs', 'bacon', 'spam']\n",
    "print(f'Before: {mylist}')\n",
    "\n",
    "mylist[:2] = mylist[1:]   # what happens here?\n",
    "print(f'After: {mylist}')"
   ]
  },
  {
   "cell_type": "markdown",
   "id": "d06dea1b-abf0-4e93-9f73-7e17b50d046a",
   "metadata": {},
   "source": [
    "---\n",
    "**Assignment 6.3**\n",
    "\n",
    "- Define an array `data` that contains 100 random numbers between 0 and 100 from a uniform distribution.\n",
    "- Use slicing to multiply the first 50 items of `data` by -1. \n",
    "\n",
    "If you did this correctly, the first 50 items of `data` are negative."
   ]
  },
  {
   "cell_type": "code",
   "execution_count": 6,
   "id": "c3382561-531f-4fb1-90d2-b9a3bed8d02d",
   "metadata": {
    "ExecuteTime": {
     "end_time": "2023-09-25T08:11:40.672610700Z",
     "start_time": "2023-09-25T08:11:40.604013500Z"
    }
   },
   "outputs": [
    {
     "name": "stdout",
     "output_type": "stream",
     "text": [
      "[-82.93910705 -46.57349084 -52.00904746 -96.01694911 -63.32132477\n",
      " -95.48905049  -7.64742172  -8.30265699 -37.16384728 -19.18416369\n",
      " -62.35800417 -38.35199748 -80.8384658  -61.75218295 -79.01135751\n",
      " -34.41421786 -57.06354132 -18.60000542 -22.14606983 -98.7485884\n",
      " -57.23814361 -63.77139331 -52.71985033 -77.38202117 -34.69202954\n",
      " -95.49774929 -48.41276629 -78.03800376 -74.5397725  -44.51665707\n",
      " -98.39566342 -97.87215126 -41.72960657 -11.09043577 -14.53133962\n",
      " -39.49443605 -37.73050957 -10.89472938 -88.8026356  -26.2006231\n",
      " -90.69610042 -51.82268466 -91.66548071 -75.87326629  -5.23696802\n",
      " -19.54333906 -88.31123254 -66.07511735 -73.78806587 -96.74624281\n",
      "  17.59517526  11.56894635   5.85560739  62.19449467  62.15799532\n",
      "   0.73760724   1.90703132  46.62462504  41.18641953  29.854568\n",
      "  43.6834393    3.59660575  32.29451478  42.31443376  78.51660215\n",
      "  16.22908914  80.77384983  17.98591055  59.45488822  36.58227226\n",
      "  59.76071277  14.03904233  67.90118572  65.88528266  99.16449112\n",
      "  78.0188614    6.42487798  56.11881083  42.93295814  92.65502263\n",
      "  72.79391464  31.21133148  40.95778553  32.88504477  92.42451932\n",
      "  52.2923624   93.56884269  40.55716946  16.03617205  73.31193882\n",
      "  37.23896762  57.34869567  43.91316612  35.2554367   28.5465675\n",
      "  30.76672971  16.28758268  14.58591525  48.18482565  39.78014037]\n"
     ]
    }
   ],
   "source": [
    "# =============== YOUR CODE GOES HERE =================\n",
    "rng = np.random.default_rng()\n",
    "data = rng.uniform(low=0,high=100, size=100)\n",
    "\n",
    "data[:50] = data[:50]*-1\n",
    "\n",
    "print(data)"
   ]
  },
  {
   "cell_type": "markdown",
   "id": "31fc7b43-d75f-4040-aa32-200641fa1e4c",
   "metadata": {},
   "source": [
    "---\n",
    "**Assignment 6.4**\n",
    "\n",
    "Given is an array `data` that contains positions of a particle over time that experiences Brownian motion along one direction (random walk). The positions are taken at a time interval $\\Delta t = 1$ ms.\n",
    "From this data we want to determine the diffusion coefficient. The diffusion coefficient $D$ is given by:\n",
    "\n",
    "$$D = \\frac{<(\\Delta x)^2>}{2 \\Delta t}$$\n",
    "\n",
    "In this equation $<\\Delta x>$ is the average of all squared displacements in timestep $\\Delta t$. If we take $\\Delta t$ to be equal to 1 ms we find that $<\\Delta x>$ is given by:\n",
    "\n",
    "$$\\frac{(data[1] - data[0])^2 + (data[2] - data[1])^2 + (data[3] - data[2])^2 + , \\text{etc}}{n} $$\n",
    "\n",
    "with $n$ the number of differences we computed.\n",
    "\n",
    "Write code that computes the diffusion coefficient of the particle."
   ]
  },
  {
   "cell_type": "code",
   "execution_count": 5,
   "id": "179d7642-e5c6-463c-b804-4506123891f7",
   "metadata": {
    "ExecuteTime": {
     "end_time": "2023-09-25T08:11:37.676879400Z",
     "start_time": "2023-09-25T08:11:37.642816400Z"
    }
   },
   "outputs": [
    {
     "name": "stdout",
     "output_type": "stream",
     "text": [
      "1.0\n",
      "500.0\n"
     ]
    }
   ],
   "source": [
    "data = np.array([0, 1, 2, 1, 0, -1, -2, -3, -4, -3, -4, -5, -4, -3, -4, -5, -4, -5, -4, -3, -4, -5, -4, -5, -4, -5, -6, -5, -6, -7, -6, -7, -8, -9, -10, \n",
    "                 -11, -12, -11, -12, -11, -10, -9, -10, -11, -12, -11, -10, -11, -10, -11, -10, -9, -10, -11, -10, -11, -10, -11, -10, -9, -10, -9, -10, \n",
    "                 -9, -8, -9, -8, -7, -6, -7, -6, -7, -6, -7, -8, -7, -6, -5, -4, -3, -2, -3, -4, -5, -6, -5, -4, -5, -4, -5, -4, -3, -4, -5, -6, -7, -8, \n",
    "                 -7, -8, -7, -8, -7, -6, -7, -6, -7, -6, -7, -6, -5, -6, -5, -4, -5, -6, -5, -6, -5, -6, -7, -6, -7, -8, -9, -10, -11, -12, -13, -12, -11, \n",
    "                 -10, -9, -10, -9, -8, -9, -10, -11, -10, -9, -10, -9, -10, -9, -8, -9, -10, -9, -10, -9, -8, -7, -8, -9, -8, -7, -6, -5, -6, -5, -4, -3, \n",
    "                 -4, -3, -2, -3, -4, -5, -4, -3, -4, -5, -6, -5, -6, -7, -6, -7, -6, -7, -6, -7, -6, -7, -8, -7, -6, -7, -8, -7, -6, -5, -6, -5, -4, -3, \n",
    "                 -4, -5, -4, -3, -2, -1, -2, -1, -2, -3, -2, -1, 0, 1, 0, 1, 0, -1, -2, -1, 0, -1, -2, -1, 0, -1, 0, 1, 0, -1, -2, -1, 0, 1, 0, -1, 0, -1, \n",
    "                 -2, -3, -4, -5, -6, -5, -4, -3, -4, -5, -6, -7, -8, -9, -10, -11, -10]) # positions in micrometers\n",
    "\n",
    "# =============== YOUR CODE GOES HERE =================\n",
    "datafrom1=data[1::]\n",
    "datatillmin1=data[:-1]\n",
    "\n",
    "difference = (datafrom1 - datatillmin1)\n",
    "dx = np.sum((difference)**2)/len(difference)\n",
    "\n",
    "dt = 0.001\n",
    "\n",
    "print(dx)\n",
    "\n",
    "D = (dx**2)/(2*dt)\n",
    "\n",
    "print(D)"
   ]
  },
  {
   "cell_type": "code",
   "execution_count": null,
   "id": "8415473e",
   "metadata": {},
   "outputs": [],
   "source": []
  }
 ],
 "metadata": {
  "kernelspec": {
   "display_name": "Python 3 (ipykernel)",
   "language": "python",
   "name": "python3"
  },
  "language_info": {
   "codemirror_mode": {
    "name": "ipython",
    "version": 3
   },
   "file_extension": ".py",
   "mimetype": "text/x-python",
   "name": "python",
   "nbconvert_exporter": "python",
   "pygments_lexer": "ipython3",
   "version": "3.10.9"
  }
 },
 "nbformat": 4,
 "nbformat_minor": 5
}
