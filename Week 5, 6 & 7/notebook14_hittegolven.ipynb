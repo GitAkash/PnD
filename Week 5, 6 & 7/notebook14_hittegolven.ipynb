{
 "cells": [
  {
   "cell_type": "markdown",
   "id": "d07f3de7-6e0a-42f5-a9b4-8a0622a58501",
   "metadata": {},
   "source": [
    "# NOTEBOOK 14 Hittegolven\n",
    "---"
   ]
  },
  {
   "cell_type": "markdown",
   "id": "a598527b-c450-4136-8298-0b9adfee612f",
   "metadata": {},
   "source": [
    "Op canvas staat een csv bestand `minmaxtemperatuur.csv` met daarin de minimale en maximale temperatuur per dag over het jaar 2020 zoals gemeten in het meetstation Twente. De file bestaat uit vier kolommen met getallen. De eerste kolom geeft de maand (1 t/m 12), de tweede kolom geeft de dag binnen de maand, de derde kolom is de minimale temperatuur die gemeten is op die dag en de vierde kolom is de maximale temperatuur die op die dag gemeten is. De temperaturen zijn in graden Celsius. In deze opdracht maak je een plot van de gegevens in de file.  \n",
    "\n",
    "\n"
   ]
  },
  {
   "cell_type": "markdown",
   "id": "1626f241-40a1-45a5-8564-ad789b4d29e4",
   "metadata": {},
   "source": [
    "---\n",
    "**Assignment 14.1**\n",
    "\n",
    "Schrijf code die:\n",
    "\n",
    "- de data van de file inleest in een 2D numpy array.\n",
    "- een lijnplot maakt met op de x-as de tijd (in dagen van 1 t/m 366) en op de y-as de minimale (blauw) en maximale (rood) temperatuur.\n",
    "- een geschikte legend aan de plot toevoegt.\n",
    "- geschikte as-labels aan de figuur toevoegt.\n"
   ]
  },
  {
   "cell_type": "code",
   "execution_count": null,
   "outputs": [],
   "source": [
    "# =============== YOUR CODE GOES HERE =================\n",
    "import pandas as pd\n",
    "\n",
    "df = pd.read_csv('minmaxtemperatuur.csv')\n",
    "df['Dagen'] = range(1, len(df)+1)\n",
    "df.plot(x='Dagen', y='Tmin Tmax'.split(), ylabel = 'Temperatuur in graden C')"
   ],
   "metadata": {
    "collapsed": false,
    "is_executing": true
   },
   "id": "497af25f6971c692"
  },
  {
   "cell_type": "markdown",
   "source": [
    "---\n",
    "**Assignment 14.2**\n",
    "\n",
    "Schrijf code die: \n",
    "\n",
    "- Het aantal zomerse dagen bepaalt (dagen waarbij de maximale temperatuur minimaal 25.0 graden Celcius is)\n",
    "\n",
    "- Het aantal tropische dagen bepaalt (dagen waarbij de maximale temperatuur minimaal 30.0 graden Celcius is)"
   ],
   "metadata": {
    "collapsed": false
   },
   "id": "512bc43f-f24c-49ad-a78c-aefe0aaa570a"
  },
  {
   "cell_type": "code",
   "execution_count": null,
   "id": "93f22cf1-0b57-4766-b982-bdf044141167",
   "metadata": {
    "tags": [],
    "is_executing": true
   },
   "outputs": [],
   "source": [
    "# =============== YOUR CODE GOES HERE =================\n",
    "import pandas as pd\n",
    "\n",
    "df = pd.read_csv('minmaxtemperatuur.csv')\n",
    "TropischeDagen = len(df.loc[df['Tmax'] > 30])\n",
    "ZomerseDagen = len(df.loc[df['Tmax'] > 25]) - TropischeDagen\n",
    "\n",
    "print(f\"Aantal Zomerse dagen: {ZomerseDagen}\\nAantal Tropische dagen: {TropischeDagen}\")"
   ]
  },
  {
   "cell_type": "markdown",
   "id": "fca7363a-84a0-4dd4-b549-9e0dcb453118",
   "metadata": {},
   "source": [
    "---\n",
    "**Assignment 14.3**\n",
    "\n",
    "Schrijf code die bepaalt op welke dagen er sprake was van een hittegolf. Een hittegolf is een serie van minstens 5 zomerse dagen, waarvan er zeker 3 tropisch zijn. Tussen twee verschillende hittegolven zit altijd minimaal één dag waarbij de maximale temperatuur lager is dan 25 graden Celsius. Het script moet alle! hittegolven van 2020 printen naar de console waarbij zowel de eerste dag, de laatste dag en de duur van de hittegolf wordt weergegeven.\n"
   ]
  },
  {
   "cell_type": "code",
   "execution_count": 65,
   "id": "f2b6d38c-a2c8-4ff6-bfa4-986f10af4be0",
   "metadata": {
    "tags": [],
    "ExecuteTime": {
     "end_time": "2023-10-14T12:31:17.196889Z",
     "start_time": "2023-10-14T12:31:17.103284700Z"
    }
   },
   "outputs": [
    {
     "name": "stdout",
     "output_type": "stream",
     "text": [
      "Periode: 1 (van dag 218 tot 229) \n",
      "Lengte: 12 dagen \n",
      "Eerste dagnummer:  218, (28.7°C)\n",
      "Laatste dagnummer: 229, (31.3°C)\n",
      "Warmste dagnummer: 221, (34.7°C) \n"
     ]
    }
   ],
   "source": [
    "# =============== YOUR CODE GOES HERE =================\n",
    "import numpy as np\n",
    "\n",
    "t_max = df['Tmax']\n",
    "day_temp = np.empty([1,2])\n",
    "\n",
    "#Zoek door alle dagen in een reeks van 5:\n",
    "for i in range(len(t_max) - 5):\n",
    "    sliced = (t_max[i:i + 5])              \n",
    "#Check of de dagen allemaal meer dan 30 graden zijn:    \n",
    "    if all(i >= 25 for i in sliced):\n",
    "        count = 0\n",
    "        for dagtemp in sliced:\n",
    "            if dagtemp > 30:\n",
    "                count += 1\n",
    "                if count >= 3:\n",
    "                    dagnummers = sliced.index+1\n",
    "                    hitte = sliced\n",
    "#Al deze dagen bij elkaar in een index\n",
    "                    for index, (dag, temp) in enumerate(zip(dagnummers, hitte)):\n",
    "                        day_temp = np.unique(np.vstack((day_temp, np.array((dag, temp)))), axis = 0)\n",
    "\n",
    "#Split al deze dagen in verschillende perioden als het verschil tussen deze dagen groter is dan 1:\n",
    "periodes = np.split(day_temp, np.where(np.diff([subarray[0] for subarray in day_temp])>1)[0] + 1)\n",
    "periodes.pop(-1)\n",
    "\n",
    "\n",
    "#Output:\n",
    "for periodenummer, periode in enumerate(periodes):\n",
    "    Dagnummers = ([subarray[0] for subarray in periode])\n",
    "    Temps = ([subarray[1] for subarray in periode])\n",
    "    print(\n",
    "        f\"Periode: {periodenummer+1} (van dag {int(Dagnummers[0])} tot {int(Dagnummers[-1])}) \\n\"\n",
    "        f\"Lengte: {len(periode)} dagen \\n\"\n",
    "        f\"Eerste dagnummer:  {int(Dagnummers[0])}, ({(Temps[0])}°C)\\n\"\n",
    "        f\"Laatste dagnummer: {int(Dagnummers[-1])}, ({(Temps[-1])}°C)\\n\"\n",
    "        f\"Warmste dagnummer: {int(Dagnummers[Temps.index(np.max(Temps))])}, ({np.max(Temps)}°C) \\n\"\n",
    "        )\n",
    "        "
   ]
  },
  {
   "cell_type": "markdown",
   "id": "656cb867-58e6-4a25-8e1d-95b58e4524e0",
   "metadata": {},
   "source": [
    "---\n",
    "**Assignment 14.4**\n",
    "\n",
    "- Bereken voor elke maand het gemiddelde van de maximale temperaturen. \n",
    "- Maak een barplot (check website van matplotlib) met op de x-as het nummer van de maand (of de naam van de maand als dat lukt) en op de y-as het gemiddelde van de maximale temperatuur van de betreffende maand.\n"
   ]
  },
  {
   "cell_type": "code",
   "execution_count": 5,
   "id": "db944f0a-1f4f-427d-a838-168782b2ba17",
   "metadata": {
    "ExecuteTime": {
     "end_time": "2023-10-12T14:48:06.761877800Z",
     "start_time": "2023-10-12T14:48:06.515731700Z"
    }
   },
   "outputs": [
    {
     "data": {
      "text/plain": "<Figure size 640x480 with 1 Axes>",
      "image/png": "[encoded data removed]"
     },
     "metadata": {},
     "output_type": "display_data"
    }
   ],
   "source": [
    "# =============== YOUR CODE GOES HERE =================\n",
    "import pandas as pd\n",
    "import numpy as np\n",
    "import matplotlib.pyplot as plt\n",
    "\n",
    "Januari = df.loc[df['Maand'] == 1]\n",
    "Februari = df.loc[df['Maand'] == 2] \n",
    "Maart = df.loc[df['Maand'] == 3] \n",
    "April = df.loc[df['Maand'] == 4] \n",
    "Mei = df.loc[df['Maand'] == 5] \n",
    "Juni = df.loc[df['Maand'] == 6] \n",
    "Juli = df.loc[df['Maand'] == 7] \n",
    "Augustus = df.loc[df['Maand'] == 8] \n",
    "September = df.loc[df['Maand'] == 9] \n",
    "Oktober = df.loc[df['Maand'] == 10] \n",
    "November = df.loc[df['Maand'] == 11] \n",
    "December = df.loc[df['Maand'] == 12] \n",
    "\n",
    "Gemiddelde_Temp = []\n",
    "Maand = [Januari, Februari, Maart, April, Mei, Juni, Juli, Augustus, September, Oktober, November, December]\n",
    "Maandje = [\"Januari\", \"Februari\", \"Maart\", \"April\", \"Mei\", \"Juni\", \"Juli\", \"Augustus\", \"September\", \"Oktober\", \"November\", \"December\"]\n",
    "    \n",
    "for i in Maand:\n",
    "    Gemiddelde_Tmax = i['Tmax'].mean()\n",
    "    Gemiddelde_Temp.append(Gemiddelde_Tmax)  \n",
    "\n",
    "for temp, maandnaam in zip (Gemiddelde_Temp, Maandje):\n",
    "    plt.xlabel(\"Gemiddelde Temperatuur per maand in C\")\n",
    "    plt.barh(maandnaam, temp)\n",
    "\n",
    "plt.show()"
   ]
  }
 ],
 "metadata": {
  "kernelspec": {
   "display_name": "Python",
   "language": "python",
   "name": "python3"
  },
  "language_info": {
   "codemirror_mode": {
    "name": "ipython",
    "version": 3
   },
   "file_extension": ".py",
   "mimetype": "text/x-python",
   "name": "python",
   "nbconvert_exporter": "python",
   "pygments_lexer": "ipython3",
   "version": "3.8.10"
  }
 },
 "nbformat": 4,
 "nbformat_minor": 5
}
