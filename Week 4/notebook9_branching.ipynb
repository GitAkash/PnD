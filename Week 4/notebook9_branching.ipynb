{
 "cells": [
  {
   "cell_type": "markdown",
   "id": "04365e4f-e5b7-4b8e-a7e1-adc9cb668caa",
   "metadata": {},
   "source": [
    "# NOTEBOOK 9 Branching\n",
    "---"
   ]
  },
  {
   "cell_type": "markdown",
   "id": "615ac21f-0e13-423c-8ebb-641a8f6dc280",
   "metadata": {},
   "source": [
    "So far the code we have dealt with was executed line by line in the same order as they appear in the script. But sometimes you need to execute some code only when a certain condition is met and some other code when this condition is not satisfied. For example if we need to write a script that checks if a number (e.g. a pincode) is equal to some secret number and prints the result to the console, then, depending on the values of the numbers different pieces of code should be executed (e.g. print 'correct' if they are the same and 'wrong' if they are not equal). This behaviour is called branching. In order to apply brancing we require *Booleans* and their use in *logical expressions*."
   ]
  },
  {
   "cell_type": "markdown",
   "id": "1e2d852e-5af7-42d9-a822-3663181f40d8",
   "metadata": {},
   "source": [
    "## Booleans & Logical Experessions"
   ]
  },
  {
   "cell_type": "markdown",
   "id": "1e8292e4-7610-46a4-b095-795bb3707cbc",
   "metadata": {},
   "source": [
    "Branching relies on the use of the Boolean type. A Boolean can hold only two values: `True` or `False`. You can define them simply by using an assignment: ` = True` or `c = False`. Boolean are mostly used in *logical expressions*. A logical expression is any expression that evaluates to a Boolean: either `True` or `False`. A very common logical expression is a comparison. For example `3 > 2`, where `>` means larger than, evaluates to a Boolean with value `True`:"
   ]
  },
  {
   "cell_type": "code",
   "execution_count": 1,
   "id": "d90ebd95-1292-4735-9fa5-f43cf74b705a",
   "metadata": {
    "ExecuteTime": {
     "end_time": "2023-09-25T20:04:35.161534700Z",
     "start_time": "2023-09-25T20:04:35.145916600Z"
    }
   },
   "outputs": [
    {
     "data": {
      "text/plain": [
       "True"
      ]
     },
     "execution_count": 1,
     "metadata": {},
     "output_type": "execute_result"
    }
   ],
   "source": [
    "3 > 2"
   ]
  },
  {
   "cell_type": "markdown",
   "id": "de20861e-b320-4aef-8a84-aebb31626ebc",
   "metadata": {},
   "source": [
    "In the table below you find an overview of a few common logical expressions in Python. A special, but very useful operator is the Python operator `in`. This operator allows to check if an item is present in a sequence (e.g. a list). In this tabel `a` and `b` are variables of any type and variable `z` is a sequence type.\n",
    "\n",
    "| Logical Expression | Description |\n",
    "|---|---|\n",
    "| `a < b` | `True` when a smaller than b| \n",
    "| `a > b` | `True` when a larger than b|\n",
    "| `a <= b` | `True` when a smaller or equal than b|\n",
    "| `a >= b` | `True` when a larger or equal than b|\n",
    "| `a == b` | `True` when a is equal to b|\n",
    "| `a != b` | `True` when a is not equal to b|\n",
    "| `a in z` | `True` when a is equal to any of the items in sequence z|\n",
    "\n",
    "Please be aware that you cannot you any combinations of variables in these logical expressions. It would for example not make any sense to compare an integer with a string.\n",
    "\n",
    "\n"
   ]
  },
  {
   "cell_type": "markdown",
   "id": "064b15a2-8769-4758-9d1b-3c8928573b1e",
   "metadata": {},
   "source": [
    "---\n",
    "**Assignment 9.1**\n",
    "\n",
    "Use Python to evaluate the following expressions:\n",
    "\n",
    "- Is 10 larger than $\\pi^2$?\n",
    "- Is -3 smaller than -4\n",
    "- Is 3 an element of the list `[1, 2, 3, 4, 5, 6]`\n",
    "- Is the vowel `y` in the word `Python`?\n",
    "-  Is `\"cat\"` equal to `\"dog\"`"
   ]
  },
  {
   "cell_type": "code",
   "execution_count": 5,
   "id": "c1822bdf-ec72-423a-b2eb-7fe78c0c4f2f",
   "metadata": {
    "ExecuteTime": {
     "end_time": "2023-09-28T12:12:53.466274Z",
     "start_time": "2023-09-28T12:12:53.293989400Z"
    }
   },
   "outputs": [
    {
     "name": "stdout",
     "output_type": "stream",
     "text": [
      "True\n",
      "False\n",
      "True\n",
      "True\n",
      "False\n"
     ]
    }
   ],
   "source": [
    "# =============== YOUR CODE GOES HERE =================\n",
    "import numpy as np\n",
    "\n",
    "print (10 > np.pi**2)\n",
    "print (-3 < -4)\n",
    "print (3 in [1, 2, 3, 4, 5, 6])\n",
    "print ('y' in 'Python')\n",
    "print ('cat' == 'dog')\n"
   ]
  },
  {
   "cell_type": "markdown",
   "id": "eaa95015-3221-45be-97a1-74902f88879d",
   "metadata": {},
   "source": [
    "Python also allows you to perform logical operations on booleans using the operators `and`, `or` and `not`. \n",
    "\n",
    "| Logical Expression in Python | Description | Corresponding math notation |\n",
    "| --- | --- | --- |\n",
    "| `c and d` | `True` when both `c` and `d` are `True`| $c \\land d$ |\n",
    "| `c or d` | `True` when either `c` or `d` (or both) are `True`|  $c \\lor d$\n",
    "| `not c` | `True` when `c` equals `False` and vicaversa |  $\\lnot c$\n",
    "\n",
    "In this table `c` and `d` are booleans."
   ]
  },
  {
   "cell_type": "markdown",
   "id": "3e9e4fa6-c278-4275-b8a5-8b513190652e",
   "metadata": {},
   "source": [
    "---\n",
    "**Assignment 9.2**\n",
    "\n",
    "Use the logical operators (`and`, `or`, `not`) to create expressions that evaluate to either `True` or `False`:\n",
    "- Is (5 larger than 3) $\\land$ (10 smaller than 7)?\n",
    "- Is (2 equal to 2) $\\lor$ (3 not equal to 3)?\n",
    "- Is (`True` and `False`) equal to `False`?"
   ]
  },
  {
   "cell_type": "code",
   "execution_count": 6,
   "id": "a1731452-5082-41ec-afea-d545cbaf0ad3",
   "metadata": {
    "ExecuteTime": {
     "end_time": "2023-09-28T12:13:04.513847500Z",
     "start_time": "2023-09-28T12:13:04.474460300Z"
    }
   },
   "outputs": [
    {
     "name": "stdout",
     "output_type": "stream",
     "text": [
      "False\n",
      "True\n",
      "True\n"
     ]
    }
   ],
   "source": [
    "# =============== YOUR CODE GOES HERE =================\n",
    "\n",
    "print (5 > 3 and 10 < 7)\n",
    "print (2 == 2 or 3 != 3)\n",
    "print ((True and False) == False)\n"
   ]
  },
  {
   "cell_type": "markdown",
   "id": "5a4c32c3-0f09-4741-9a6f-2423c0c16bde",
   "metadata": {},
   "source": [
    "---\n",
    "**Assignment 9.3**\n",
    "\n",
    "Write code that checks if a given year is a leap year. A leap year is divisible by 4, except for years divisible by 100 but not divisible by 400. For example, 2000 and 2400 are leap years, while 1800 and 1900 are not."
   ]
  },
  {
   "cell_type": "code",
   "execution_count": 5,
   "id": "f83c772f-f300-427b-9bc7-2d61efe2fdf5",
   "metadata": {
    "ExecuteTime": {
     "end_time": "2023-09-28T12:13:16.320780200Z",
     "start_time": "2023-09-28T12:13:16.275393500Z"
    }
   },
   "outputs": [
    {
     "name": "stdout",
     "output_type": "stream",
     "text": [
      "Fudge 1800 is not a leapyear\n"
     ]
    }
   ],
   "source": [
    "year = 1800\n",
    "\n",
    "# =============== YOUR CODE GOES HERE =================\n",
    "\n",
    "if (year % 100 != 0 and year % 4 == 0) or (year % 400 == 0):\n",
    "    print(f\"YES LETSGO {year} is A LEAPYEAR\")\n",
    "\n",
    "else:\n",
    "    print(f\"Fudge {year} is not a leapyear\")\n"
   ]
  },
  {
   "cell_type": "markdown",
   "id": "304b344d-6387-45c5-a4e0-fccdbcd8f1ee",
   "metadata": {},
   "source": [
    "## Conditional Statements"
   ]
  },
  {
   "cell_type": "markdown",
   "id": "6f2d86ca-2081-49f5-8397-79e127ab3d0c",
   "metadata": {},
   "source": [
    "To execute a block of code when a certain condition is met we use the `if` keyword followed by a logical expression, followed by a semicolon  `:`. Let's write some code that checks if an exam score is sufficient to pass a course: "
   ]
  },
  {
   "cell_type": "code",
   "execution_count": 18,
   "id": "eaf9b6ef-8963-4948-b45c-54ffe60d135d",
   "metadata": {
    "ExecuteTime": {
     "end_time": "2023-09-28T13:10:40.985204700Z",
     "start_time": "2023-09-28T13:10:40.953670100Z"
    }
   },
   "outputs": [
    {
     "name": "stdout",
     "output_type": "stream",
     "text": [
      "You passed the course\n",
      "Finsihed\n"
     ]
    }
   ],
   "source": [
    "score = 75  # points scored on an exam\n",
    "passing_score = 55  # minimum number of points to pass the course\n",
    "\n",
    "if score >= passing_score:\n",
    "    print('You passed the course')\n",
    "    \n",
    "print('Finsihed')    "
   ]
  },
  {
   "cell_type": "markdown",
   "id": "668fb817-a3f9-4901-a331-6292b2abdf17",
   "metadata": {},
   "source": [
    "As you see, the structure is very similar to that of a for-loop. The line with the `if` keyword is ended with a semicolon `:`. The block of code that is indented is executed when the condition is met. We can expand this code to yield also information for the case the condition is not met. For this you use the keyword `else`:"
   ]
  },
  {
   "cell_type": "code",
   "execution_count": 6,
   "id": "d62db356-3c5f-429a-b944-e7d41c864758",
   "metadata": {},
   "outputs": [
    {
     "name": "stdout",
     "output_type": "stream",
     "text": [
      "You did not pass the course\n",
      "Finsihed\n"
     ]
    }
   ],
   "source": [
    "score = 45  # points scored on an exam\n",
    "passing_score = 55  # minimum number of points to pass the course\n",
    "\n",
    "if score >= passing_score:\n",
    "    print('You passed the course')\n",
    "else:\n",
    "    print('You did not pass the course')\n",
    "    \n",
    "print('Finsihed')       "
   ]
  },
  {
   "cell_type": "markdown",
   "id": "790cbe72-b3ab-4372-9764-c8b1593f323c",
   "metadata": {},
   "source": [
    "Let's say we need a third option and that is that the student is allowed a retake if the score is above or equal to 45 points. In this case you can use the keyword `elif` (short for else if). See the example how it works. "
   ]
  },
  {
   "cell_type": "code",
   "execution_count": 7,
   "id": "72ed0a28-7978-4584-bfa7-381a26134419",
   "metadata": {},
   "outputs": [
    {
     "name": "stdout",
     "output_type": "stream",
     "text": [
      "You did not pass the course, but are allowed a retake\n",
      "Finsihed\n"
     ]
    }
   ],
   "source": [
    "score = 45  # points scored on an exam\n",
    "passing_score = 55  # minimum number of points to pass the course\n",
    "retake_score = 45  # minimum number of points to allow a retake\n",
    "\n",
    "if score >= passing_score:\n",
    "    print('You passed the course')\n",
    "elif score >= retake_score:\n",
    "    print('You did not pass the course, but are allowed a retake')\n",
    "else:\n",
    "    print('You did not pass the course')\n",
    "    \n",
    "print('Finsihed')      "
   ]
  },
  {
   "cell_type": "markdown",
   "id": "dc475cc8-20a3-4f1f-9dc1-8c3e61b6584b",
   "metadata": {},
   "source": [
    "---\n",
    "**Assignment 9.4**\n",
    "\n",
    "Write a program that categorizes a person's age based on the following criteria:\n",
    "\n",
    "- If the age is less than 18, print \"Minor.\"\n",
    "- If the age is between 18 and 64 (inclusive), print \"Adult.\"\n",
    "- If the age is 65 or older, print \"Senior.\""
   ]
  },
  {
   "cell_type": "code",
   "execution_count": 12,
   "id": "eb97884a-f6f9-442f-9783-6f29b9453eeb",
   "metadata": {
    "ExecuteTime": {
     "end_time": "2023-09-25T20:39:56.320898600Z",
     "start_time": "2023-09-25T20:39:56.305261500Z"
    }
   },
   "outputs": [
    {
     "name": "stdout",
     "output_type": "stream",
     "text": [
      "Minor.\n"
     ]
    }
   ],
   "source": [
    "# =============== YOUR CODE GOES HERE =================\n",
    "age = 10\n",
    "\n",
    "if age < 18:\n",
    "    print('Minor.')\n",
    "    \n",
    "elif age <= 64:\n",
    "    print(\"Adult.\")\n",
    "    \n",
    "else:\n",
    "    print(\"Senior.\")"
   ]
  },
  {
   "cell_type": "markdown",
   "id": "5e7b7c2d-b4f5-4c3d-a6e3-a9cb068575f4",
   "metadata": {},
   "source": [
    "---\n",
    "**Assignment 9.5**\n",
    "Given is a list of exam scores of 30 students. Write a script that determines how many students passed the exam. Use the keywords `if` and `for`.\n",
    "\n"
   ]
  },
  {
   "cell_type": "code",
   "execution_count": 23,
   "id": "828888c5-37f4-4723-98b4-d08518242f80",
   "metadata": {
    "ExecuteTime": {
     "end_time": "2023-09-25T21:57:18.453682500Z",
     "start_time": "2023-09-25T21:57:18.156969400Z"
    }
   },
   "outputs": [
    {
     "name": "stdout",
     "output_type": "stream",
     "text": [
      "24 mensen hebben de cursus gehaald! :)\n"
     ]
    }
   ],
   "source": [
    "scores = [83, 43, 66, 93, 92, 84, 88, 100, 82, 100, \n",
    "          100, 82, 92, 49, 54, 48, 100, 56, 100, 85, \n",
    "          97, 85, 100, 100, 79, 49, 100, 88, 52, 87]  # student scores on an exam\n",
    "passing_score = 55  # minimum number of points to pass the course\n",
    "\n",
    "# =============== YOUR CODE GOES HERE =================\n",
    "sum = 0\n",
    "\n",
    "for i in scores:\n",
    "    if i >= 55:\n",
    "        sum += 1\n",
    "\n",
    "print(f'{sum} mensen hebben de cursus gehaald! :)')\n"
   ]
  },
  {
   "cell_type": "code",
   "execution_count": null,
   "id": "2bcaba0b-fe39-4a03-8503-972dcea41069",
   "metadata": {},
   "outputs": [],
   "source": []
  }
 ],
 "metadata": {
  "kernelspec": {
   "display_name": "Python 3 (ipykernel)",
   "language": "python",
   "name": "python3"
  },
  "language_info": {
   "codemirror_mode": {
    "name": "ipython",
    "version": 3
   },
   "file_extension": ".py",
   "mimetype": "text/x-python",
   "name": "python",
   "nbconvert_exporter": "python",
   "pygments_lexer": "ipython3",
   "version": "3.10.9"
  }
 },
 "nbformat": 4,
 "nbformat_minor": 5
}
