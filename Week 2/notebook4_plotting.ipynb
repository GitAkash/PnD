{
 "cells": [
  {
   "cell_type": "markdown",
   "id": "41477f5d-7b8e-4b3d-8e62-3c5d7e35d233",
   "metadata": {},
   "source": [
    "# NOTEBOOK 4 Plotting data\n",
    "---"
   ]
  },
  {
   "cell_type": "markdown",
   "id": "6175abb6-eebc-4abc-93fc-2fc11507613e",
   "metadata": {},
   "source": [
    "It is often desired to plot data in order to:\n",
    "\n",
    "- facilitate the interpretation of measurement results (e.g. comparison of data)\n",
    "- comparison to theoretical models\n",
    "- to communicate results to others\n",
    "\n",
    "In this notebook the very basics of making a plot in Python is illustrated. Python itself does not have functions that allow us to plot data. Instead, we use the `pyplot` module, which is part of the larger `matplotlib` module. As an example we will plot some data on a voltage and current measurement. For this we use the `plot()` function. The bare minimum to call the plot function is to specify `x` and `y` data for the data points that need to be plotted."
   ]
  },
  {
   "cell_type": "code",
   "execution_count": null,
   "id": "8ae6c095-fb90-4ccc-8e91-760289b47257",
   "metadata": {},
   "outputs": [],
   "source": [
    "# import the required packages\n",
    "import numpy as np\n",
    "import matplotlib.pyplot as plt\n",
    "\n",
    "# define the data that we want tot plot\n",
    "current = np.array([0.009, 0.021, 0.030, 0.042, 0.048] , dtype = float)  # in A\n",
    "voltage = np.array([1, 2, 3, 4, 5], dtype = float)  # in Volt\n",
    "\n",
    "# create a new figure and axes to hold the plot\n",
    "fig, ax = plt.subplots()\n",
    "\n",
    "# create a plot with the data\n",
    "ax.plot(voltage, current)\n",
    "ax.set_xlabel('Voltage / V')  # set the label for the x-axis\n",
    "ax.set_ylabel('Current / A')  # set the label for the y-axis\n",
    "\n",
    "# show\n",
    "plt.show()"
   ]
  },
  {
   "cell_type": "markdown",
   "id": "f62c6f7a-9bb2-443f-b870-6fc28afe37c5",
   "metadata": {},
   "source": [
    "As you can see, the data is plotted as a solid line connecting the data points. This is the default of the `ax.plot()` function. Fortunately we can modify this to our liking. Because the data represents measurement it is common to represent them with markers with no connecting lines. The easiest way to define the way the data is plotted the using the so-called format string:\n",
    "\n",
    ">`'[marker][line][color]'`\n",
    "\n",
    "This string consists of 3 parts: one that defines the line style (e.g. solid or dashed); one that defines the color; and one that defines the marker symbol. For example the string `'o-r'` defines a solid line ('-') a red color ('r') and a circle sign as a marker ('o'). For now we want no line and a black marker (solid circle). The format string we need is `'ok'`, where the 'k' gives us the black color and 'o' gives the solid circle marker. Since we do not include the part for the line style no line will be plotted. We will adapt our script accordingly. In addition we include a dashed line that reflects a theoretical relation given a resistance of $100 \\Omega$. The resulting script is now:"
   ]
  },
  {
   "cell_type": "code",
   "execution_count": null,
   "id": "40d68279-4517-4136-8b15-630ee2621baa",
   "metadata": {},
   "outputs": [],
   "source": [
    "# import the required packages\n",
    "import numpy as np\n",
    "import matplotlib.pyplot as plt\n",
    "\n",
    "# define the data that we want tot plot\n",
    "current = np.array([0.009, 0.021, 0.030, 0.042, 0.048] , dtype = float)  # in A\n",
    "voltage = np.array([1, 2, 3, 4, 5], dtype = float)  # in Volt\n",
    "\n",
    "# theoretical model\n",
    "resistance = 100  # Ohm\n",
    "current_model = voltage / resistance\n",
    "\n",
    "# create a new figure to hold the plot\n",
    "fig, ax = plt.subplots()\n",
    "\n",
    "# create a plot with the data and the model\n",
    "ax.plot(voltage, current, 'ok', label='data')\n",
    "ax.plot(voltage, current_model, 'k--', label='model')\n",
    "ax.set_xlabel('Voltage / V')  # set the label for the x-axis\n",
    "ax.set_ylabel('Current / A')  # set the label for the y-axis\n",
    "ax.legend()\n",
    "\n",
    "# show\n",
    "plt.show()"
   ]
  },
  {
   "cell_type": "markdown",
   "id": "2153d916-cfac-43b6-b677-16ea2910b5d4",
   "metadata": {},
   "source": [
    "## Saving a figure"
   ]
  },
  {
   "cell_type": "markdown",
   "id": "51708b62-7fe3-40ed-b3f3-d17030b150fb",
   "metadata": {},
   "source": [
    "Figures can be stored on disk (either a .png or a .pdf) file. This can be usefull to include the figure in e.g. a MSWord or Latex document. You do this simply by:  \n",
    "\n",
    "`fig.savefig('myfig.png', dpi=300, bbox_inches='tight')`  a bitmap format\n",
    "\n",
    "or  \n",
    "\n",
    "`fig.savefig('myfig.pdf', dpi=300, bbox_inches='tight')`  a vector format"
   ]
  },
  {
   "cell_type": "code",
   "execution_count": null,
   "id": "40a6a6ac-0fd7-46a7-b306-6354db7ab989",
   "metadata": {
    "tags": []
   },
   "outputs": [],
   "source": [
    "fig.savefig('myfig.png', dpi=300, bbox_inches='tight')\n",
    "\n",
    "# In this case the figure is stored in the same folder as you notebook."
   ]
  },
  {
   "cell_type": "markdown",
   "id": "e7624b60-50ff-4885-a16f-cbec4a980e7d",
   "metadata": {},
   "source": [
    "---\n",
    "**Assigment**\n",
    "\n",
    "You are given code that creates a plot of an accelarating object. Please adapt the code such that:\n",
    "- The plot shows appropriate axis labels\n",
    "- The data is be plotted with red squares and have no connecting lines between them"
   ]
  },
  {
   "cell_type": "code",
   "execution_count": null,
   "id": "d62198e7-c4a1-4a6f-afd2-9cf8436b26e4",
   "metadata": {},
   "outputs": [],
   "source": [
    "# =============== YOUR CODE GOES HERE =================\n",
    "import numpy as np\n",
    "import matplotlib.pyplot as plt\n",
    "\n",
    "# data of the object\n",
    "time = np.linspace(0, 2.25, 9) #units s\n",
    "velocity = np.array([0, 2.7, 5.0, 6.7, 7.8, 8.55, 9.0, 9.24, 9.38])  #units m/s\n",
    "\n",
    "fig, ax = plt.subplots()\n",
    "ax.plot(time, velocity)\n",
    "plt.show()"
   ]
  },
  {
   "cell_type": "markdown",
   "id": "c91c00ed-6585-4cbd-a59d-5893a39cde12",
   "metadata": {},
   "source": [
    "---\n",
    "**Assigment**\n",
    "\n",
    "Given the data of the previous assigment, create a new plot that shows the kinetic energy of the object over time (take the mass of the object $m=112$ kg). Store the figure as a .png file."
   ]
  },
  {
   "cell_type": "code",
   "execution_count": null,
   "id": "e7bf5599-172c-4133-b992-97965707c38a",
   "metadata": {},
   "outputs": [],
   "source": [
    "# =============== YOUR CODE GOES HERE =================\n",
    "\n"
   ]
  },
  {
   "cell_type": "markdown",
   "id": "51948cc3-b8ff-4885-8049-5a1d2799fd01",
   "metadata": {},
   "source": [
    "Matplotlib has many options. Various different plots like lineplots, scatterplots, histograms, contourplots, errorbarplots, etc. Please check out the official website if you need som specific plot: [https://matplotlib.org/](https://matplotlib.org/). Especially the example section is very inspiring: [https://matplotlib.org/stable/plot_types/index.html](https://matplotlib.org/stable/plot_types/index.html)"
   ]
  },
  {
   "cell_type": "markdown",
   "id": "ea4af8e3-7142-4603-808b-0f38c851836f",
   "metadata": {},
   "source": [
    "---\n",
    "**Assigment**\n",
    "\n",
    "Check out the matplotlib website on how to make histograms. Then write code that makes an histogram of the computed focal distances of notebook 3.\n",
    "Copy the code from the assignment of notebook 3 on the focal distances. Make a histogram of the 400 computed focal distances.Take appropriate number of bins."
   ]
  },
  {
   "cell_type": "code",
   "execution_count": null,
   "id": "bcca4455-45eb-4bd6-b75f-83ef93cd3a39",
   "metadata": {},
   "outputs": [],
   "source": [
    "# =============== YOUR CODE GOES HERE =================\n",
    "\n",
    "\n"
   ]
  }
 ],
 "metadata": {
  "kernelspec": {
   "display_name": "Python 3 (ipykernel)",
   "language": "python",
   "name": "python3"
  },
  "language_info": {
   "codemirror_mode": {
    "name": "ipython",
    "version": 3
   },
   "file_extension": ".py",
   "mimetype": "text/x-python",
   "name": "python",
   "nbconvert_exporter": "python",
   "pygments_lexer": "ipython3",
   "version": "3.11.4"
  },
  "toc-autonumbering": false,
  "toc-showcode": false
 },
 "nbformat": 4,
 "nbformat_minor": 5
}
