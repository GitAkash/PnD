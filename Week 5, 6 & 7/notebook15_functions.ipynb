{
 "cells": [
  {
   "cell_type": "markdown",
   "id": "04365e4f-e5b7-4b8e-a7e1-adc9cb668caa",
   "metadata": {},
   "source": [
    "# NOTEBOOK 15 Functions\n",
    "---"
   ]
  },
  {
   "cell_type": "markdown",
   "id": "1e2d852e-5af7-42d9-a822-3663181f40d8",
   "metadata": {},
   "source": [
    "## Introduction"
   ]
  },
  {
   "cell_type": "markdown",
   "id": "1e8292e4-7610-46a4-b095-795bb3707cbc",
   "metadata": {},
   "source": [
    "Functions are a fundamental concept in Python and many other programming languages. They are blocks of organized, reusable code that perform a specific task. Functions help make your code more modular, readable, and maintainable by allowing you to break it down into smaller, self-contained units.\n",
    "\n",
    "In Python, functions are defined using the def keyword, followed by the function name and a set of parentheses. You can also specify parameters (inputs) within these parentheses. Here's a simple example:\n"
   ]
  },
  {
   "cell_type": "code",
   "execution_count": 1,
   "id": "9b33555b-cc22-4642-80e8-220161617e6b",
   "metadata": {
    "ExecuteTime": {
     "end_time": "2023-10-11T12:35:59.771322800Z",
     "start_time": "2023-10-11T12:35:59.750259900Z"
    }
   },
   "outputs": [
    {
     "name": "stdout",
     "output_type": "stream",
     "text": [
      "Hello Alice!\n"
     ]
    }
   ],
   "source": [
    "# define the function\n",
    "def greet(name):\n",
    "    \"\"\"This function greets the person passed in as a parameter.\"\"\"\n",
    "    print(f'Hello {name}!')\n",
    "\n",
    "# Calling the function\n",
    "greet('Alice')"
   ]
  },
  {
   "cell_type": "markdown",
   "id": "04aba1e8-de84-41e2-ad8b-c1046040d5e3",
   "metadata": {},
   "source": [
    "In this example, we've defined a function called `greet` that takes a single parameter (called an *argument*): `name`. When we call the `greet` function with the argument `'Alice'`, it prints out a greeting message to the console.\n",
    "\n",
    "Functions can also return values using the return statement. For instance:"
   ]
  },
  {
   "cell_type": "code",
   "execution_count": null,
   "id": "f3df9bdb-2f67-4bc4-8fa2-406991b464cd",
   "metadata": {},
   "outputs": [],
   "source": [
    "def minus(x, y):\n",
    "    \"\"\"This function subtracts x and y and returns the result.\"\"\"\n",
    "    result = x - y\n",
    "    return result\n",
    "\n",
    "# Calling the function and storing the result\n",
    "difference = minus(3, 5)\n",
    "print(difference)  # Output: -2"
   ]
  },
  {
   "cell_type": "markdown",
   "id": "9743309a-1792-4eb4-ba72-2d4b70452231",
   "metadata": {},
   "source": [
    "In this case, the `minus` function takes two arguments, `x` and `y`, subtracts them, and returns the result, which is then stored in the `difference` variable.\n",
    "\n",
    "Functions can be called multiple times, making it easy to reuse code and avoid duplicating logic. They are an essential building block for organizing and structuring Python programs, and you'll encounter them frequently when writing Python code.\n"
   ]
  },
  {
   "cell_type": "markdown",
   "id": "064b15a2-8769-4758-9d1b-3c8928573b1e",
   "metadata": {},
   "source": [
    "---\n",
    "**Assignment 15.1**\n",
    "\n",
    "Write a function with the name `f_gravity` with arguments `m1`, `m2` and `r` that returns the gravitational force between two masses with mass $m_1$ and $m_2$ that are a distance $r$ apart:\n",
    "\n",
    "$$F_{gravity} = G\\frac{m1 m2}{r^2}$$\n",
    "\n",
    "Also include a line of code that calls the function to compute the force between the earth and the moon. Use $m_{earth} = 5.97 \\times 10^{24}$ kg; $m_{moon} = 7.34 \\times 10^{22}$ kg; $r = 3.84 \\times 10^{8}$ m; $G = 6.67 \\times 10^{-11}$ Nm$^2$ kg$^{-2}$."
   ]
  },
  {
   "cell_type": "code",
   "execution_count": 4,
   "id": "c1822bdf-ec72-423a-b2eb-7fe78c0c4f2f",
   "metadata": {
    "ExecuteTime": {
     "end_time": "2023-10-11T12:38:39.212459200Z",
     "start_time": "2023-10-11T12:38:39.130426Z"
    }
   },
   "outputs": [
    {
     "data": {
      "text/plain": "1.334e-10"
     },
     "execution_count": 4,
     "metadata": {},
     "output_type": "execute_result"
    }
   ],
   "source": [
    "# =============== YOUR CODE GOES HERE =================\n",
    "m_earth = 5.97e+24\n",
    "m_moon = 7.34e+22\n",
    "r = 3.84e+8\n",
    "G = 6.67e-11\n",
    "\n",
    "def f_gravity(m1,m2,r):\n",
    "    result = G*((m1*m2)/(r**2))\n",
    "    return result    \n",
    "\n"
   ]
  },
  {
   "cell_type": "markdown",
   "id": "446e72f0-5200-4daa-b519-72173f3fbef9",
   "metadata": {},
   "source": [
    "## keyword arguments"
   ]
  },
  {
   "cell_type": "markdown",
   "id": "6c94a706-7d1d-4298-8ade-3263f28234e2",
   "metadata": {},
   "source": [
    "In Python, functions can accept arguments in multiple ways. In the previous example the arguments were passed *by position*, the first value (3) in `minus(3, 5)` is passed to argument `x` and the second (5) to the second argument `y`. If you would call the function with values 3 and 5 in reverse order the result would be 2 rather than -2:"
   ]
  },
  {
   "cell_type": "code",
   "execution_count": 5,
   "id": "ca3aca34-6376-4de3-9de8-fab061ac4516",
   "metadata": {
    "ExecuteTime": {
     "end_time": "2023-10-11T12:38:47.381319Z",
     "start_time": "2023-10-11T12:38:46.833062600Z"
    }
   },
   "outputs": [
    {
     "ename": "NameError",
     "evalue": "name 'minus' is not defined",
     "output_type": "error",
     "traceback": [
      "\u001B[1;31m---------------------------------------------------------------------------\u001B[0m",
      "\u001B[1;31mNameError\u001B[0m                                 Traceback (most recent call last)",
      "Cell \u001B[1;32mIn[5], line 1\u001B[0m\n\u001B[1;32m----> 1\u001B[0m difference \u001B[38;5;241m=\u001B[39m \u001B[43mminus\u001B[49m(\u001B[38;5;241m5\u001B[39m, \u001B[38;5;241m3\u001B[39m)\n\u001B[0;32m      2\u001B[0m \u001B[38;5;28mprint\u001B[39m(difference)\n",
      "\u001B[1;31mNameError\u001B[0m: name 'minus' is not defined"
     ]
    }
   ],
   "source": [
    "difference = minus(5, 3)\n",
    "print(difference)  # Output: 2"
   ]
  },
  {
   "cell_type": "markdown",
   "id": "9419bb46-2bb5-4477-820f-e743491fe06b",
   "metadata": {},
   "source": [
    "This means that the position of arguments in a function call is important. You can however also use keyword arguments. Keyword arguments allow you to pass values to a function by specifying the parameter names explicitly, which can make your code more readable and provide greater flexibility. In this case the order in which you specify the arguments is not important:"
   ]
  },
  {
   "cell_type": "code",
   "execution_count": 6,
   "id": "f6baec60-4842-4d4e-9944-b82c83baa1a1",
   "metadata": {
    "ExecuteTime": {
     "end_time": "2023-10-11T12:38:49.469781400Z",
     "start_time": "2023-10-11T12:38:49.445784400Z"
    }
   },
   "outputs": [
    {
     "ename": "NameError",
     "evalue": "name 'minus' is not defined",
     "output_type": "error",
     "traceback": [
      "\u001B[1;31m---------------------------------------------------------------------------\u001B[0m",
      "\u001B[1;31mNameError\u001B[0m                                 Traceback (most recent call last)",
      "Cell \u001B[1;32mIn[6], line 1\u001B[0m\n\u001B[1;32m----> 1\u001B[0m difference \u001B[38;5;241m=\u001B[39m \u001B[43mminus\u001B[49m(x\u001B[38;5;241m=\u001B[39m\u001B[38;5;241m5\u001B[39m, y\u001B[38;5;241m=\u001B[39m\u001B[38;5;241m3\u001B[39m)\n\u001B[0;32m      2\u001B[0m \u001B[38;5;28mprint\u001B[39m(difference)  \u001B[38;5;66;03m# Output: 2\u001B[39;00m\n\u001B[0;32m      4\u001B[0m difference \u001B[38;5;241m=\u001B[39m minus(y\u001B[38;5;241m=\u001B[39m\u001B[38;5;241m3\u001B[39m, x\u001B[38;5;241m=\u001B[39m\u001B[38;5;241m5\u001B[39m)\n",
      "\u001B[1;31mNameError\u001B[0m: name 'minus' is not defined"
     ]
    }
   ],
   "source": [
    "difference = minus(x=5, y=3)\n",
    "print(difference)  # Output: 2\n",
    "\n",
    "difference = minus(y=3, x=5)\n",
    "print(difference)  # Output: 2"
   ]
  },
  {
   "cell_type": "markdown",
   "id": "194cad28-ad48-4e29-bfb4-0a21edc01309",
   "metadata": {},
   "source": [
    "Be carrefull when you mix positional and keyword arguments. This is not allowed if positional arguments follow keyword arguments:"
   ]
  },
  {
   "cell_type": "code",
   "execution_count": 7,
   "id": "f2defe53-dee4-4451-bee7-dafc291916cd",
   "metadata": {
    "ExecuteTime": {
     "end_time": "2023-10-11T12:38:53.313327900Z",
     "start_time": "2023-10-11T12:38:53.304329400Z"
    }
   },
   "outputs": [
    {
     "ename": "SyntaxError",
     "evalue": "positional argument follows keyword argument (507038311.py, line 6)",
     "output_type": "error",
     "traceback": [
      "\u001B[1;36m  Cell \u001B[1;32mIn[7], line 6\u001B[1;36m\u001B[0m\n\u001B[1;33m    difference = minus(x=5, 3)\u001B[0m\n\u001B[1;37m                             ^\u001B[0m\n\u001B[1;31mSyntaxError\u001B[0m\u001B[1;31m:\u001B[0m positional argument follows keyword argument\n"
     ]
    }
   ],
   "source": [
    "# this works\n",
    "difference = minus(5, y=3)\n",
    "print(difference)  # 5 is assigned to x by position. Output: 2\n",
    "\n",
    "# this throws an error because a positional argument (3) follows a keyword argument (x=5)\n",
    "difference = minus(x=5, 3)\n"
   ]
  },
  {
   "cell_type": "markdown",
   "id": "e2b1162d-dbc8-4d39-bdb5-2c28884a27e1",
   "metadata": {},
   "source": [
    "---\n",
    "**Assignment 15.2**\n",
    "\n",
    "Write a function `solve_quadratic(...)` that solves the quadratic equation $ax^2 + bx + c = 0$. The function should return both! solutions of $x$. \n",
    "\n",
    "NOTE: if a function needs to return more than one variable (e.g. `x1` and `x2`) you can use the return statement as follows:\n",
    "\n",
    "```\n",
    "def foo():\n",
    "    x1 = 5\n",
    "    x2 = 3\n",
    "    return x1, x2\n",
    "```\n",
    "\n",
    "Example for `solve_quadratic()`:\n",
    "\n",
    "```\n",
    "x1, x2 = solve_quadratic(1, 1, -6):\n",
    "print(x1, x2)\n",
    "\n",
    "# gives: 2.0, -3.0\n",
    "```"
   ]
  },
  {
   "cell_type": "code",
   "execution_count": 22,
   "id": "24ce5aa7-8bca-4c3c-83cd-d959150d65e5",
   "metadata": {
    "ExecuteTime": {
     "end_time": "2023-10-11T12:44:17.066462300Z",
     "start_time": "2023-10-11T12:44:17.055470800Z"
    }
   },
   "outputs": [
    {
     "data": {
      "text/plain": "(-1.3944487245360109, -8.60555127546399)"
     },
     "execution_count": 22,
     "metadata": {},
     "output_type": "execute_result"
    }
   ],
   "source": [
    "# =============== YOUR CODE GOES HERE =================\n",
    "import numpy as np\n",
    "\n",
    "def solve_quadratic(a,b,c):\n",
    "    D = b**2 - 4 * a * c\n",
    "    x1 = (-b + np.sqrt(D)) / (2 * a)\n",
    "    x2 = (-b - np.sqrt(D))/(2*a)\n",
    "    \n",
    "    # solver = np.roots([a,b,c])\n",
    "    return x1, x2\n",
    "\n",
    "solve_quadratic(1, 10, 12)"
   ]
  },
  {
   "cell_type": "markdown",
   "id": "74e40028-d1fe-4e4d-b49e-6cee4f266ec6",
   "metadata": {},
   "source": [
    "## Default arguments"
   ]
  },
  {
   "cell_type": "markdown",
   "id": "c7a1b450-e3c7-4251-9d34-d19df7b16846",
   "metadata": {},
   "source": [
    "In Python, it's possible to assign default values to function arguments. When the function is invoked without specifying a particular argument, that argument will automatically take on its default value. Check out the example below to see how this works."
   ]
  },
  {
   "cell_type": "code",
   "execution_count": 12,
   "id": "071f11fc-ef3e-44f6-94c3-c814cbc97c7b",
   "metadata": {
    "ExecuteTime": {
     "end_time": "2023-10-11T12:41:47.070252700Z",
     "start_time": "2023-10-11T12:41:47.059182Z"
    }
   },
   "outputs": [
    {
     "name": "stdout",
     "output_type": "stream",
     "text": [
      "The frequency without damping is 1.1152412441867832 Hz\n",
      "The frequency is with damping is 0.5792314122915463 Hz\n"
     ]
    }
   ],
   "source": [
    "from numpy import pi\n",
    "\n",
    "def oscillator(mass, springconstant, damping=0):\n",
    "    \"\"\"computes the frequency of a damped oscillator\"\"\"\n",
    "    freq = 1/(2*pi) * (springconstant/mass - (1/4)*(damping/mass)**2)**0.5\n",
    "    return freq\n",
    "\n",
    "m = 0.835  # kg\n",
    "k = 41  # N/m\n",
    "g = 10  # Ns/m\n",
    "\n",
    "# call the function without specifying the damping implies the default value for the damping (=0).\n",
    "frequency = oscillator(m, k)\n",
    "print(f'The frequency without damping is {frequency} Hz')\n",
    "\n",
    "# call the function with specifying the damping ignores the default value for the damping (=0).\n",
    "frequency = oscillator(m, k, g)\n",
    "print(f'The frequency is with damping is {frequency} Hz')\n"
   ]
  },
  {
   "cell_type": "markdown",
   "id": "53ea10d7-c7b6-4d5c-a80a-42898d451eb9",
   "metadata": {},
   "source": [
    "In this example, we have a `oscillator` function that calculates the frequency of a damped harmonic oscillator. However in the function definition we specify the argument `damping` as a default value: `damping=0`. This means that if a call to the function does not specify a value for the damping it takes the default value 0. "
   ]
  },
  {
   "cell_type": "markdown",
   "id": "3f17e116-10bf-4bb9-ac4e-30dc61df3db5",
   "metadata": {},
   "source": [
    "Keyword arguments are especially useful when a function has a large number of arguments, and you want to provide values for only a subset of them. You can skip values for parameters with default values and only specify the ones you need:"
   ]
  },
  {
   "cell_type": "markdown",
   "id": "fc71c131-0bed-4cba-89e6-2ba0d9351d6e",
   "metadata": {},
   "source": [
    "---\n",
    "**Assignment 15.3**\n",
    "\n",
    "Copy your function from assignment 15.2 in de codeblock below and modify the function such that the arguments `b` and `c` are optional with default value 0.  \n",
    "\n",
    "Add some code that executes the function to show different options for passing arguments:\n",
    "- values for `a`, `b` and `c`\n",
    "- only a values for `a`\n",
    "- only values for `a` and `c`"
   ]
  },
  {
   "cell_type": "code",
   "execution_count": 43,
   "id": "4688d925-8fae-4e92-a6f4-cc1d62073c77",
   "metadata": {
    "ExecuteTime": {
     "end_time": "2023-10-11T12:54:27.389863700Z",
     "start_time": "2023-10-11T12:54:27.358665400Z"
    }
   },
   "outputs": [
    {
     "data": {
      "text/plain": "18"
     },
     "execution_count": 43,
     "metadata": {},
     "output_type": "execute_result"
    }
   ],
   "source": [
    "# =============== YOUR CODE GOES HERE =================\n",
    "import numpy as np\n",
    "def solve_quadratic(a,c=0,b=0):\n",
    "    \n",
    "    if b == 0 and c == 0:\n",
    "        x = a*(3**2)\n",
    "        return x\n",
    "    \n",
    "    elif b == 0 and c != 0:\n",
    "        x = a*(3**2)+b*3\n",
    "        return x\n",
    "        \n",
    "        \n",
    "        D = b**2 - 4 * a * c\n",
    "        x = (-b + np.sqrt(D))/(2*a)\n",
    "        x2 = (-b - np.sqrt(D))/(2*a)\n",
    "    \n",
    "    \n",
    "    # solver = np.roots([a,b,c])\n",
    "        return x, x2\n",
    "\n",
    "\n",
    "solve_quadratic(2,3)\n"
   ]
  },
  {
   "cell_type": "markdown",
   "id": "3cf87770-5bdc-46ff-a673-65f69ab3c819",
   "metadata": {},
   "source": [
    "## Namespace and scope"
   ]
  },
  {
   "cell_type": "markdown",
   "id": "ff089528-15de-4435-a3e8-27c0c4b2c401",
   "metadata": {},
   "source": [
    "In Python, **namespace** and **scope** are related concepts that determine where variables, functions, and other identifiers are accessible and how they interact with each other. Understanding these concepts is crucial for writing clean and maintainable code. Let's first look at what a namespace is.\n",
    "\n",
    "As the word suggests, a **namespace** contains names. In this case it is a collection of all names of variables, functions, etc. You can see the content of the namespace using the `dir()` command. When you execute this command you can see all variables that you have assigned earlier including some other stuff such as 'In', 'Out', '__builtin__', ect. What it means is that all these names are known to Python. Any other name that you use without first defining it will throw an error."
   ]
  },
  {
   "cell_type": "code",
   "execution_count": 13,
   "id": "b6f30cb5-dd22-44db-868a-02949b5ee109",
   "metadata": {
    "ExecuteTime": {
     "end_time": "2023-10-11T12:42:18.881631600Z",
     "start_time": "2023-10-11T12:42:18.841231800Z"
    }
   },
   "outputs": [
    {
     "data": {
      "text/plain": "['G',\n 'In',\n 'Out',\n '_',\n '_10',\n '_4',\n '_9',\n '__',\n '___',\n '__builtin__',\n '__builtins__',\n '__doc__',\n '__loader__',\n '__name__',\n '__package__',\n '__spec__',\n '_dh',\n '_i',\n '_i1',\n '_i10',\n '_i11',\n '_i12',\n '_i13',\n '_i2',\n '_i3',\n '_i4',\n '_i5',\n '_i6',\n '_i7',\n '_i8',\n '_i9',\n '_ih',\n '_ii',\n '_iii',\n '_oh',\n '_pydevd_bundle',\n 'exit',\n 'f_gravity',\n 'frequency',\n 'g',\n 'get_ipython',\n 'greet',\n 'k',\n 'm',\n 'm_earth',\n 'm_moon',\n 'np',\n 'open',\n 'oscillator',\n 'pi',\n 'pydev_jupyter_vars',\n 'quit',\n 'r',\n 'remove_imported_pydev_package',\n 'solve_quadratic',\n 'sys']"
     },
     "execution_count": 13,
     "metadata": {},
     "output_type": "execute_result"
    }
   ],
   "source": [
    "dir()"
   ]
  },
  {
   "cell_type": "markdown",
   "id": "b9f82ec1-5266-4b42-94a8-7ce1a723691e",
   "metadata": {},
   "source": [
    "The output of the `dir()` command in the cell above shows the **global** namespace. But in Python you also have local namespaces. Each function (when executed) creates its own local namespace. Check out this example:"
   ]
  },
  {
   "cell_type": "code",
   "execution_count": 44,
   "id": "a656ab09-bcfd-41bd-a2d6-f863250ed4a3",
   "metadata": {
    "ExecuteTime": {
     "end_time": "2023-10-11T12:54:44.065245Z",
     "start_time": "2023-10-11T12:54:44.042194700Z"
    }
   },
   "outputs": [
    {
     "name": "stdout",
     "output_type": "stream",
     "text": [
      "The local namespace of foo:  ['x']\n"
     ]
    },
    {
     "data": {
      "text/plain": "2"
     },
     "execution_count": 44,
     "metadata": {},
     "output_type": "execute_result"
    }
   ],
   "source": [
    "def foo():\n",
    "    x = 2\n",
    "    print('The local namespace of foo: ',dir())\n",
    "    return x\n",
    "\n",
    "foo()"
   ]
  },
  {
   "cell_type": "markdown",
   "id": "7ad363ff-c168-4867-8271-b9cc208c74b1",
   "metadata": {},
   "source": [
    "When we exectute `dir()` to see the namespace we see that only `x` is in the namespace. The namespace is **local**. This is very convenient because our local variabel `x` will not interfere with variables that have the same name but are defined in other namespaces:"
   ]
  },
  {
   "cell_type": "code",
   "execution_count": 45,
   "id": "513e52b0-95f3-44e8-aa16-4fe48d928896",
   "metadata": {
    "ExecuteTime": {
     "end_time": "2023-10-11T12:54:46.050926800Z",
     "start_time": "2023-10-11T12:54:46.029542600Z"
    }
   },
   "outputs": [
    {
     "name": "stdout",
     "output_type": "stream",
     "text": [
      "Inside function x= 2\n",
      "Outside function x= 5\n"
     ]
    }
   ],
   "source": [
    "x = 5  # variable defined in the global namespace\n",
    "\n",
    "def foo():\n",
    "    x = 2  # variable defined in the local namespace\n",
    "    print('Inside function x=', x)\n",
    "    return x\n",
    "\n",
    "foo()\n",
    "print('Outside function x=', x)"
   ]
  },
  {
   "cell_type": "markdown",
   "id": "7499504b-1720-4767-b936-a34608691bef",
   "metadata": {},
   "source": [
    "Although `x` was assigned the value 5 in the function `foo`, the globally defined `x` did not change value because its in a different namespace!"
   ]
  },
  {
   "cell_type": "markdown",
   "id": "8710b215-0fea-42c4-b2ad-76e9ca43a527",
   "metadata": {},
   "source": [
    "Next look at **scope**. The scope refers to the part of the code where a particular namespace is accessible. If Python encounters a variable name it searches for this name in the various namespaces. It searches in a defined order following the **LEGB** rule. \n",
    "- **L**ocal: the namespace of the current function\n",
    "- **E**nclosing: the namespace of any enclosing function (i.e. if the function was defined in another function)\n",
    "- **G**lobal: the namespace of the main script/code\n",
    "- **B**uilt-in: names of Python's built-in names (such as `True`, `False`, `abs`, `print`, `range`, etc)\n",
    "\n",
    "The example below shows the different situations. Carefully inspect what is going on!"
   ]
  },
  {
   "cell_type": "code",
   "execution_count": 46,
   "id": "246a1a77-8ecd-4b81-897d-2f6a273392b8",
   "metadata": {
    "ExecuteTime": {
     "end_time": "2023-10-11T12:54:49.090468800Z",
     "start_time": "2023-10-11T12:54:49.054915200Z"
    }
   },
   "outputs": [
    {
     "name": "stdout",
     "output_type": "stream",
     "text": [
      "In main code a= 1\n",
      "In main code b= 2\n",
      "Inside foo a= 1\n",
      "Inside foo b= 3\n",
      "Inside bar a= 4\n",
      "Inside bar b= 3\n"
     ]
    }
   ],
   "source": [
    "a = 1  # defined in main script: global namespace\n",
    "b = 2\n",
    "\n",
    "def foo():\n",
    "\n",
    "    b = 3  # defined in function foo: local namespace of foo\n",
    "    \n",
    "    def bar():\n",
    "        a = 4\n",
    "        print('Inside bar a=', a)  # a is local to bar(). so a is taken from lobal namespace of bar\n",
    "        print('Inside bar b=', b)  # b is not local to bar(). Python looks in enclosing function foo() where b is defined\n",
    "    \n",
    "    print('Inside foo a=', a)  # a is not locally defined but global so it uses a from the global namespace\n",
    "    print('Inside foo b=', b)  # b is locally defined so b from local namespace\n",
    "    bar()\n",
    "\n",
    "print('In main code a=', a)  # from global namespace\n",
    "print('In main code b=', b)  # from global namespace\n",
    "foo()"
   ]
  },
  {
   "cell_type": "markdown",
   "id": "2e63be4b-6d9d-4fe2-9e89-879beb7de6fa",
   "metadata": {},
   "source": [
    "---\n",
    "**Assignment 15.4**\n",
    "\n",
    "Execute the following code block. Explain for each printed result (8 in total) why the values of the parameters are as they are and specify if they ar local and/or global."
   ]
  },
  {
   "cell_type": "code",
   "execution_count": 49,
   "id": "b9761aa9-caf6-4e7c-b444-d4ae2eafb05e",
   "metadata": {
    "ExecuteTime": {
     "end_time": "2023-10-11T13:03:22.442288100Z",
     "start_time": "2023-10-11T13:03:22.405909700Z"
    }
   },
   "outputs": [
    {
     "name": "stdout",
     "output_type": "stream",
     "text": [
      "1. inside square:a=5, b=5, c=7\n",
      "2. after square: a=3; b=5; c=7\n",
      "3. inside foo:a=6, b=5, c=7\n",
      "4. after foo: a=3; b=5; c=7\n",
      "5. inside inside_bar:a=9, b=11, c=7\n",
      "6. inside bar:a=9, b=5, c=7\n",
      "7. after bar: a=3; b=5; c=7\n",
      "8. sq is not known here!\n"
     ]
    }
   ],
   "source": [
    "# define parameters\n",
    "a = 3\n",
    "b = 5\n",
    "c = 7\n",
    "\n",
    "# define functions\n",
    "def square(a):\n",
    "    sq = a * a\n",
    "    print(f'1. inside square:a={a}, b={b}, c={c}')\n",
    "    return sq\n",
    "\n",
    "\n",
    "def foo(d):\n",
    "    a = 2 * d\n",
    "    print(f'3. inside foo:a={a}, b={b}, c={c}')\n",
    "    return a\n",
    "\n",
    "\n",
    "def bar(d):\n",
    "    a = 9\n",
    "\n",
    "    def inside_bar():\n",
    "        b = 11\n",
    "        print(f'5. inside inside_bar:a={a}, b={b}, c={c}')\n",
    "\n",
    "    inside_bar()\n",
    "    print(f'6. inside bar:a={a}, b={b}, c={c}')\n",
    "    return b\n",
    "\n",
    "\n",
    "# run functions and print parameters\n",
    "square(b)\n",
    "print(f'2. after square: a={a}; b={b}; c={c}')\n",
    "foo(a)\n",
    "print(f'4. after foo: a={a}; b={b}; c={c}')\n",
    "bar(a)\n",
    "print(f'7. after bar: a={a}; b={b}; c={c}')\n",
    "\n",
    "try:\n",
    "    print({sq})\n",
    "except:\n",
    "    print('8. sq is not known here!')"
   ]
  },
  {
   "cell_type": "markdown",
   "id": "df3e9f1f-eb72-45af-89be-60e9713ecce2",
   "metadata": {},
   "source": [
    "Type you answer here (double click te edit):\n",
    "\n",
    "1. a b en c zijn allemaal global gepakt en in de functie wordt b gestpot welke 5 is\n",
    "2. ze zijn alleen in function veranderd global is zelfde\n",
    "3. a wordt aan binnenkant maal 2 gedaan, de rest wordt niet aangetast\n",
    "4. ze zijn alleen binnen de functie veranderd\n",
    "5. a wordt in bar gedefined en b wordt in inside_bar gedefined\n",
    "6. a wordt binnen de functie bar gedefined\n",
    "7. we zitten nu weer buiten de functie en dus returnen de values van de global\n",
    "8. square wordt niet global gesolved."
   ]
  },
  {
   "cell_type": "code",
   "execution_count": null,
   "id": "a8e50336-7e13-4ab9-becd-886e3ebf33b7",
   "metadata": {},
   "outputs": [],
   "source": []
  }
 ],
 "metadata": {
  "kernelspec": {
   "display_name": "Python 3 (ipykernel)",
   "language": "python",
   "name": "python3"
  },
  "language_info": {
   "codemirror_mode": {
    "name": "ipython",
    "version": 3
   },
   "file_extension": ".py",
   "mimetype": "text/x-python",
   "name": "python",
   "nbconvert_exporter": "python",
   "pygments_lexer": "ipython3",
   "version": "3.9.17"
  }
 },
 "nbformat": 4,
 "nbformat_minor": 5
}
