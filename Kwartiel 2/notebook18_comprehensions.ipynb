{
 "cells": [
  {
   "cell_type": "markdown",
   "id": "04365e4f-e5b7-4b8e-a7e1-adc9cb668caa",
   "metadata": {},
   "source": [
    "# NOTEBOOK 18 Some more syntax\n",
    "---"
   ]
  },
  {
   "cell_type": "markdown",
   "id": "1e2d852e-5af7-42d9-a822-3663181f40d8",
   "metadata": {},
   "source": [
    "## Comprehensions"
   ]
  },
  {
   "cell_type": "markdown",
   "id": "1e8292e4-7610-46a4-b095-795bb3707cbc",
   "metadata": {},
   "source": [
    "In Python, comprehensions are concise and readable ways to create sequences (lists, sets, dictionaries) by applying an expression to each item in an iterable (e.g., a list or range) or another iterable sequence. Comprehensions provide a more compact and Pythonic way to generate new sequences based on existing ones, compared to traditional loops.\n",
    "\n",
    "You can use comprehensions for difference sequence types like lists and tuples. List comprehensions are used to create lists. They follow the syntax:\n",
    "\n",
    "```\n",
    "new_list = [expression for item in iterable if condition]\n",
    "\n",
    "```\n",
    "\n",
    "Here's a simple example:"
   ]
  },
  {
   "cell_type": "code",
   "execution_count": 1,
   "id": "9b33555b-cc22-4642-80e8-220161617e6b",
   "metadata": {
    "ExecuteTime": {
     "end_time": "2023-11-15T12:46:37.962277382Z",
     "start_time": "2023-11-15T12:46:37.960891851Z"
    }
   },
   "outputs": [
    {
     "name": "stdout",
     "output_type": "stream",
     "text": [
      "[1, 4, 9, 16, 25]\n"
     ]
    }
   ],
   "source": [
    "# example\n",
    "numbers = [1, 2, 3, 4, 5]\n",
    "squares = [x**2 for x in numbers]\n",
    "\n",
    "print(squares)"
   ]
  },
  {
   "cell_type": "markdown",
   "id": "5b43b900-f08e-443d-8b71-1d5804dc339e",
   "metadata": {},
   "source": [
    "For each item (refered to as `x`) in `numbers` the square is computed and added to the list. Actually it is a ery compact notation of the traditional for-loop that would look like:"
   ]
  },
  {
   "cell_type": "code",
   "execution_count": 27,
   "id": "e04b73a6-3bfe-42b5-8d91-110f8d43eb74",
   "metadata": {},
   "outputs": [
    {
     "name": "stdout",
     "output_type": "stream",
     "text": [
      "[1, 2, 3, 4, 5]\n"
     ]
    }
   ],
   "source": [
    "numbers = [1, 2, 3, 4, 5]\n",
    "squares = []\n",
    "for x in numbers:\n",
    "    squares.append(x)\n",
    "    \n",
    "print(squares)\n"
   ]
  },
  {
   "cell_type": "markdown",
   "id": "56c41f89-a454-4a77-b780-9b195f14d591",
   "metadata": {},
   "source": [
    "You can also use conditional statements in a comprehension. An example is shown here where we want to remove all non vowels from a sentence:"
   ]
  },
  {
   "cell_type": "code",
   "execution_count": 28,
   "id": "af1807ab-253e-420c-b312-0613dc818912",
   "metadata": {},
   "outputs": [
    {
     "name": "stdout",
     "output_type": "stream",
     "text": [
      "prgrmmng n pthn s fn\n"
     ]
    }
   ],
   "source": [
    "sentence = 'programming in python is fun'\n",
    "\n",
    "# filter the vowels from the string using a comprehension\n",
    "nonvowels = [char for char in sentence if char not in 'aeiouy']\n",
    "\n",
    "newsentence = ''.join(nonvowels)  # method to convert list to string\n",
    "print(newsentence)"
   ]
  },
  {
   "cell_type": "markdown",
   "id": "d5fe2e8c-27a8-404f-abde-3d9dbb794eef",
   "metadata": {},
   "source": [
    "We can even use an `if`-`else` construct:"
   ]
  },
  {
   "cell_type": "code",
   "execution_count": 29,
   "id": "67724b37-40d3-4d4c-ba50-fae8e7a3791b",
   "metadata": {},
   "outputs": [
    {
     "name": "stdout",
     "output_type": "stream",
     "text": [
      "pr_gr_mm_ng _n p_th_n _s f_n\n"
     ]
    }
   ],
   "source": [
    "sentence = 'programming in python is fun'\n",
    "\n",
    "# replace vowels from the string with an underscore\n",
    "nonvowels = [char if char not in 'aeiouy' else '_'for char in sentence]\n",
    "\n",
    "newsentence = ''.join(nonvowels)  # method to convert list to string\n",
    "print(newsentence)"
   ]
  },
  {
   "cell_type": "markdown",
   "id": "064b15a2-8769-4758-9d1b-3c8928573b1e",
   "metadata": {},
   "source": [
    "---\n",
    "**Assignment 1**\n",
    "\n",
    "\n",
    "- Use list comprehensions to create a list `x` that contains all integers from 0 to 100\n",
    "- Use list comprehensions to create a new list `y` that contains the squares of `x`   \n",
    "- Use list comprehensions to create a new list `z` that contains the sum of the elements of `x` and `y`. E.g. `[0, 2, 6, 12, etc]`.\n",
    "- Given is a list with marks : `marks = [7, 5, 8, 3, 2, 9, 8, 6, 4, 10, 1]`. Use list comprehensions to create a new list `passed` that contains all marks of 6 and higher."
   ]
  },
  {
   "cell_type": "code",
   "execution_count": 2,
   "id": "c1822bdf-ec72-423a-b2eb-7fe78c0c4f2f",
   "metadata": {
    "ExecuteTime": {
     "end_time": "2023-11-15T13:11:17.313536016Z",
     "start_time": "2023-11-15T13:11:17.247444023Z"
    }
   },
   "outputs": [
    {
     "name": "stdout",
     "output_type": "stream",
     "text": [
      "[0, 2, 6, 12, 20, 30, 42, 56, 72, 90, 110, 132, 156, 182, 210, 240, 272, 306, 342, 380, 420, 462, 506, 552, 600, 650, 702, 756, 812, 870, 930, 992, 1056, 1122, 1190, 1260, 1332, 1406, 1482, 1560, 1640, 1722, 1806, 1892, 1980, 2070, 2162, 2256, 2352, 2450, 2550, 2652, 2756, 2862, 2970, 3080, 3192, 3306, 3422, 3540, 3660, 3782, 3906, 4032, 4160, 4290, 4422, 4556, 4692, 4830, 4970, 5112, 5256, 5402, 5550, 5700, 5852, 6006, 6162, 6320, 6480, 6642, 6806, 6972, 7140, 7310, 7482, 7656, 7832, 8010, 8190, 8372, 8556, 8742, 8930, 9120, 9312, 9506, 9702, 9900, 10100]\n"
     ]
    }
   ],
   "source": [
    "# =============== YOUR CODE GOES HERE =================\n",
    "import numpy as np\n",
    "x = [i for i in range(0,101)]\n",
    "y = [i**2 for i in x]\n",
    "z = [x+y for x,y in zip(x,y)]\n",
    "\n",
    "print(z)\n",
    "marks = [7, 5, 8, 3, 2, 9, 8, 6, 4, 10, 1]\n",
    "passed = [i for i in marks if i>=6]"
   ]
  },
  {
   "cell_type": "markdown",
   "id": "594f3551-478e-44f1-8ae2-de787e3cb4ed",
   "metadata": {},
   "source": [
    "## Strings"
   ]
  },
  {
   "cell_type": "markdown",
   "id": "d64bcdc3-a813-4bbe-97f1-cd9343f6f1c6",
   "metadata": {},
   "source": [
    "Already in chapter 1 we discussed the string type to store text. A string can simply be defined by using single `'text'` or double `\"text\"` quotation marks.\n"
   ]
  },
  {
   "cell_type": "code",
   "execution_count": 31,
   "id": "c233918b-d183-468b-a188-c7b0cd41800c",
   "metadata": {},
   "outputs": [
    {
     "data": {
      "text/plain": [
       "str"
      ]
     },
     "execution_count": 31,
     "metadata": {},
     "output_type": "execute_result"
    }
   ],
   "source": [
    "name  = 'Frodo'\n",
    "type(name)"
   ]
  },
  {
   "cell_type": "markdown",
   "id": "905a2c08-decf-441b-ad0e-a25800a52838",
   "metadata": {},
   "source": [
    "You can convert another type to a string using the function `str()`."
   ]
  },
  {
   "cell_type": "code",
   "execution_count": 32,
   "id": "8b4e38aa-3f47-4a53-9117-0defa6e1d274",
   "metadata": {
    "tags": []
   },
   "outputs": [
    {
     "data": {
      "text/plain": [
       "'33'"
      ]
     },
     "execution_count": 32,
     "metadata": {},
     "output_type": "execute_result"
    }
   ],
   "source": [
    "age  =  33  # an integer\n",
    "str(age)  # convert to string"
   ]
  },
  {
   "cell_type": "markdown",
   "id": "bc3b5e74-6806-4f4d-bcbe-ea2eb2a87ff1",
   "metadata": {},
   "source": [
    "To concatenate (add) strings you simply use + just as with lists:"
   ]
  },
  {
   "cell_type": "code",
   "execution_count": 33,
   "id": "2e87a604-99cd-4980-99ac-0bfec18ae6b0",
   "metadata": {},
   "outputs": [
    {
     "data": {
      "text/plain": [
       "'Frodo Baggins'"
      ]
     },
     "execution_count": 33,
     "metadata": {},
     "output_type": "execute_result"
    }
   ],
   "source": [
    "lastname = 'Baggins'\n",
    "fullname = name + ' ' + lastname\n",
    "fullname"
   ]
  },
  {
   "cell_type": "markdown",
   "id": "a38e26a9-ea53-472b-8cf7-0add1a51c4bd",
   "metadata": {},
   "source": [
    "A string is actually a sequence type just like a list, where the items are the individual characters that make up the string. That means that you can treat it in many ways the same. For example indexing and slicing work identical:\n"
   ]
  },
  {
   "cell_type": "code",
   "execution_count": 34,
   "id": "c380d571-115b-4f83-b4e7-aa498bf4c83f",
   "metadata": {},
   "outputs": [
    {
     "name": "stdout",
     "output_type": "stream",
     "text": [
      "d\n",
      "Baggins\n"
     ]
    }
   ],
   "source": [
    "print(fullname[3])\n",
    "print(fullname[6:])"
   ]
  },
  {
   "cell_type": "markdown",
   "id": "92d405d0-70af-4265-b0d6-032aa305eaa8",
   "metadata": {},
   "source": [
    "There is however an important difference: strings are immutable (i.e. they cannot be changed after they are defined). If you try, you get an error:\n"
   ]
  },
  {
   "cell_type": "code",
   "execution_count": 35,
   "id": "9e34c519-3c1b-4784-aada-09d87ebea410",
   "metadata": {},
   "outputs": [
    {
     "ename": "TypeError",
     "evalue": "'str' object does not support item assignment",
     "output_type": "error",
     "traceback": [
      "\u001B[1;31m---------------------------------------------------------------------------\u001B[0m",
      "\u001B[1;31mTypeError\u001B[0m                                 Traceback (most recent call last)",
      "Cell \u001B[1;32mIn[35], line 1\u001B[0m\n\u001B[1;32m----> 1\u001B[0m fullname[\u001B[38;5;241m0\u001B[39m] \u001B[38;5;241m=\u001B[39m \u001B[38;5;124m'\u001B[39m\u001B[38;5;124mf\u001B[39m\u001B[38;5;124m'\u001B[39m\n",
      "\u001B[1;31mTypeError\u001B[0m: 'str' object does not support item assignment"
     ]
    }
   ],
   "source": [
    "fullname[0] = 'f'"
   ]
  },
  {
   "cell_type": "markdown",
   "id": "cbe25d43-a046-4fcd-8958-ae801c1792cc",
   "metadata": {},
   "source": [
    "In boolean expression you can use the \\pythoninline{in} keyword to check if an element is present in the string. In contrast to list you can also use this to check if a substring is present.\n"
   ]
  },
  {
   "cell_type": "code",
   "execution_count": 36,
   "id": "080a0faa-0d76-4344-b0cf-416472380315",
   "metadata": {},
   "outputs": [
    {
     "data": {
      "text/plain": [
       "True"
      ]
     },
     "execution_count": 36,
     "metadata": {},
     "output_type": "execute_result"
    }
   ],
   "source": [
    "'F' in fullname"
   ]
  },
  {
   "cell_type": "markdown",
   "id": "d4ba5dd2-b9da-4755-8b42-47f58d474e0f",
   "metadata": {},
   "source": [
    ", and in for loops you can iterate over the characters in a string just like in a list:\n"
   ]
  },
  {
   "cell_type": "code",
   "execution_count": 37,
   "id": "c079fc04-9a3f-48ca-8460-427a5b264f2a",
   "metadata": {
    "tags": []
   },
   "outputs": [
    {
     "name": "stdout",
     "output_type": "stream",
     "text": [
      "F\n",
      "r\n",
      "o\n",
      "d\n",
      "o\n",
      " \n",
      "B\n",
      "a\n",
      "g\n",
      "g\n",
      "i\n",
      "n\n",
      "s\n"
     ]
    }
   ],
   "source": [
    "for char in fullname:\n",
    "    print(char)"
   ]
  },
  {
   "cell_type": "markdown",
   "id": "04384aa9-86ac-4b0e-8f87-b16fd9307e30",
   "metadata": {},
   "source": [
    "Finally it is good to check all the methods that are available. There are many methods available for you to try.\n"
   ]
  },
  {
   "cell_type": "code",
   "execution_count": 38,
   "id": "eacc7159-5cb8-4ca9-b179-80b767e11ec8",
   "metadata": {},
   "outputs": [
    {
     "name": "stdout",
     "output_type": "stream",
     "text": [
      "['__add__', '__class__', '__contains__', '__delattr__', '__dir__', '__doc__', '__eq__', '__format__', '__ge__', '__getattribute__', '__getitem__', '__getnewargs__', '__gt__', '__hash__', '__init__', '__init_subclass__', '__iter__', '__le__', '__len__', '__lt__', '__mod__', '__mul__', '__ne__', '__new__', '__reduce__', '__reduce_ex__', '__repr__', '__rmod__', '__rmul__', '__setattr__', '__sizeof__', '__str__', '__subclasshook__', 'capitalize', 'casefold', 'center', 'count', 'encode', 'endswith', 'expandtabs', 'find', 'format', 'format_map', 'index', 'isalnum', 'isalpha', 'isascii', 'isdecimal', 'isdigit', 'isidentifier', 'islower', 'isnumeric', 'isprintable', 'isspace', 'istitle', 'isupper', 'join', 'ljust', 'lower', 'lstrip', 'maketrans', 'partition', 'removeprefix', 'removesuffix', 'replace', 'rfind', 'rindex', 'rjust', 'rpartition', 'rsplit', 'rstrip', 'split', 'splitlines', 'startswith', 'strip', 'swapcase', 'title', 'translate', 'upper', 'zfill']\n"
     ]
    }
   ],
   "source": [
    "print(dir(fullname))"
   ]
  },
  {
   "cell_type": "markdown",
   "id": "5092ce5f-ee42-494b-9260-7b166edc31f8",
   "metadata": {},
   "source": [
    "---\n",
    "**Assignment 2**\n",
    "\n",
    "Given a string `s` that contains plain text (e.g. `s = 'Python'`): \n",
    "\n",
    "- write a single line of code that creates a new string with all characters swapped case (so lowercase becomes uppercase and vice versa). Hint check the available string methods.\n",
    "    \n",
    "- write a single line of code that creates a new string with all characters reversed. So 'Python' becomes 'nohtyP'. Hint make use of slicing!\n",
    "    \n",
    "- create a function `palindrome(word)` that returns `True` if `word` is a palindrome (if you reverse the word you get the same word again), otherwise `False`. The function should be case-insensitive (i.e. it should not matter if there are capitals in the word).    "
   ]
  },
  {
   "cell_type": "code",
   "execution_count": 85,
   "id": "3d7cbb59-89be-4e87-ae1c-765602937a11",
   "metadata": {
    "ExecuteTime": {
     "end_time": "2023-11-14T21:23:45.715258911Z",
     "start_time": "2023-11-14T21:23:45.673313689Z"
    }
   },
   "outputs": [
    {
     "name": "stdout",
     "output_type": "stream",
     "text": [
      "True\n"
     ]
    }
   ],
   "source": [
    "# =============== YOUR CODE GOES HERE =================\n",
    "SwapCase = s.swapcase()\n",
    "Reversed = s[::-1]\n",
    "\n",
    "def palindrome(x):\n",
    "    if str(x.upper())[::-1] == str(x.upper()):\n",
    "        return True"
   ]
  },
  {
   "cell_type": "code",
   "execution_count": null,
   "id": "fcf58cfa-304f-4ed8-ba3b-b643d0c4bfad",
   "metadata": {},
   "outputs": [],
   "source": []
  }
 ],
 "metadata": {
  "kernelspec": {
   "display_name": "Python 3 (ipykernel)",
   "language": "python",
   "name": "python3"
  },
  "language_info": {
   "codemirror_mode": {
    "name": "ipython",
    "version": 3
   },
   "file_extension": ".py",
   "mimetype": "text/x-python",
   "name": "python",
   "nbconvert_exporter": "python",
   "pygments_lexer": "ipython3",
   "version": "3.9.17"
  }
 },
 "nbformat": 4,
 "nbformat_minor": 5
}
