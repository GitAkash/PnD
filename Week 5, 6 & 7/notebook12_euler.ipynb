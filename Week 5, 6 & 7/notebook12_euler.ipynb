{
 "cells": [
  {
   "cell_type": "markdown",
   "id": "04365e4f-e5b7-4b8e-a7e1-adc9cb668caa",
   "metadata": {},
   "source": [
    "# NOTEBOOK 12 Euler's method for solving differential equations\n",
    "---"
   ]
  },
  {
   "cell_type": "markdown",
   "id": "1e2d852e-5af7-42d9-a822-3663181f40d8",
   "metadata": {},
   "source": [
    "## Theoretical introduction to Euler's method"
   ]
  },
  {
   "cell_type": "markdown",
   "id": "1e8292e4-7610-46a4-b095-795bb3707cbc",
   "metadata": {},
   "source": [
    "Many physical processes are of such complexity that the final state of the system can not (easily) be analytically calculated from the initial state of the system. As an example we consider the vertical drop of an object that experiences drag. From a certain height $h$ we drop an object of a given mass $m$. Because of the air, the ball will experience a drag force $F_w$ that depends on the velocity of the ball according to: \n",
    "\n",
    "$$ F_w = k \\rho v^2 $$\n",
    "\n",
    ", with $\\rho$ the air density and $k$ some constant depending on the cross-sectional surface and drag coefficient of the object and $v$ the velocity. In addition to the drag force we have of course the gravitational force $F_g = mg$, with $g$ the gravitational acceleration. With this we can write down the differential equation that needs to be solved:\n",
    "\n",
    "$$ m \\frac{d^2h}{dt^2} = F_g + F_w$$\n",
    "\n",
    "and since the velocity $v$ is the time derivative of $h$ with respect to $t$ we can rewrite this second order differential equation as two first order equations for reasons that will become clear soon:\n",
    "\n",
    "$$ \\begin{cases}\n",
    " & \\frac{dv}{dt} = a = \\frac{1}{m}(F_w+F_g) \\\\ \n",
    " & \\frac{dh}{dt} = v\n",
    "\\end{cases} $$\n",
    "\n",
    ", with $a$ the acceleration of the object. Solving the equations is relatively straight forward in simple cases, but quickly becomes impossible if things become more complicated (e.g. if the drag force depends on the velocity and/or height). In order to still be able to solve the problem we make use of a numeric approach: *Euler's method*. \n",
    "\n",
    "In Euler's method changes in parameters (like position, velocity and acceleration) are evaluated for very small steps in time (e.g. 1/100 or 1/1000 of a second). During these steps we assume that the forces are constant. This allows to calculate for each time step the change in acceleration, change in velocity and change in position. Because of the many steps that need to be evaluated, typically this calculation is done by a computer. \n",
    "\n",
    "Based on the two differential equations we can write Euler's process as:\n",
    "\n",
    "$$ \\begin{cases}\n",
    " & v(t+\\Delta t) = v(t) + a(t) \\Delta t\\\\ \n",
    " & h(t+\\Delta t) = h(t) + v(t) \\Delta t\n",
    "\\end{cases} $$\n",
    "\n",
    "So, given some initial values for $v$ and $h$ we can compute the change in velocity as $a(t) \\Delta t$ and just add it to the current velocity to get the velocity $v(t+\\Delta t)$ at the next time step. Same for the height.  \n",
    "\n",
    ">Note: Euler's method is simple, but not very efficient in terms of computational time. Normally quite small time steps are required to obtain enough accuracy. There exist more efficient algorithms to numerically solve differential equations. You will learn those later in the bachelor program.\n",
    "\n"
   ]
  },
  {
   "cell_type": "markdown",
   "id": "41f22065-d536-451e-9cf6-7a9a532f9dd5",
   "metadata": {},
   "source": [
    "## A Python implementation to get you started"
   ]
  },
  {
   "cell_type": "markdown",
   "id": "2ac2c979-92d6-4c2a-b99e-7dacbe31679a",
   "metadata": {},
   "source": [
    "To get you started a working implementation of Euler's method is provided that considers the problem of a falling object in a gravitational field with drag."
   ]
  },
  {
   "cell_type": "code",
   "execution_count": 92,
   "id": "9b33555b-cc22-4642-80e8-220161617e6b",
   "metadata": {
    "ExecuteTime": {
     "end_time": "2023-10-04T14:35:41.785597Z",
     "start_time": "2023-10-04T14:35:41.723579800Z"
    }
   },
   "outputs": [],
   "source": [
    "\"\"\"\n",
    "script to calculate a vertical drop with drag using Euler's method\n",
    "Note that the implementation is written for clarity of Euler's method\n",
    "and not for optimized execution speed!\n",
    "\"\"\"\n",
    "\n",
    "m = 10            # mass [kg]\n",
    "g = -9.81         # gravitational accelaration [kg/m/s2]\n",
    "k = 15.0          # constant related to drag [m2]\n",
    "rho = 1.29        # air density [kg/m3]  \n",
    "\n",
    "h0 = 40           # initial height [m]\n",
    "v0 = 0            # initial velocity [m/s]\n",
    "t0 = 0            # start time [s]\n",
    "dt = 0.001        # time increments [s]\n",
    "\n",
    "heights = [h0]    # init list for storing heights with start height\n",
    "times = [t0]      # init list for storing timesteps with start time\n",
    "velocities = [v0] # init list for storing velocities with start v\n",
    "\n",
    "\n",
    "# perform Euler steps \n",
    "v, h, t = v0, h0, t0  # start with the initial parameters\n",
    "while True:\n",
    "    # compute the acceleration a\n",
    "    Fz = m * g                # gravity\n",
    "    Fw = k * rho * v**2       # drag\n",
    "    Fres = Fz + Fw               \n",
    "    a = Fres / m                 \n",
    "    \n",
    "    # update parameters using Euler's method\n",
    "    h = h + v * dt\n",
    "    v = v + a * dt    \n",
    "    t = t + dt\n",
    "    \n",
    "    # check if we hit the surface\n",
    "    if h <= 0:               \n",
    "        break\n",
    "    \n",
    "    # store data for later analysis\n",
    "    velocities.append(v)  \n",
    "    heights.append(h)     \n",
    "    times.append(t)         \n",
    "    "
   ]
  },
  {
   "cell_type": "markdown",
   "id": "b15bf512-1388-4573-ab46-5ce9ee8961c6",
   "metadata": {},
   "source": [
    "The python script that performs the Euler method consists of four parts:\n",
    "\n",
    "- Initialization of the variables (setting the start values). Note that also a list is defined that is used to store the values during the Euler steps. In this way the information (height, velocity) is not lost.\n",
    "- A loop to run over all required time steps. Because we want to simulate until the object drops on the floor, we use a `while` loop because we do not know how many Euler steps are required.\n",
    "- In the loop we calculate the acceleration and use that to update the values for the velocity and height. In addition we keep track of the time, which is not required for the Euler steps (only depends on the time step) but is convenient if you want to plot e.g. height or velocity versus time. \n",
    "- In the loop we check each time if the object already hit the ground. If so the `break` command is used to escape the loop. \n",
    "\n",
    "Finally, in each cycle of the loop the updated parameters are stored at the end of the lists.\n"
   ]
  },
  {
   "cell_type": "markdown",
   "id": "064b15a2-8769-4758-9d1b-3c8928573b1e",
   "metadata": {},
   "source": [
    "---\n",
    "**Assignment 11.1**\n",
    "\n",
    "Try to understand the code above. Write code to plot the result in a figure with 2 subplots. The left plots height versus time, while the right plots velocity versus time."
   ]
  },
  {
   "cell_type": "code",
   "execution_count": 93,
   "id": "c1822bdf-ec72-423a-b2eb-7fe78c0c4f2f",
   "metadata": {
    "ExecuteTime": {
     "end_time": "2023-10-04T14:35:44.658678Z",
     "start_time": "2023-10-04T14:35:44.193969Z"
    }
   },
   "outputs": [
    {
     "data": {
      "text/plain": "Text(0, 0.5, 'velocity in m/s')"
     },
     "execution_count": 93,
     "metadata": {},
     "output_type": "execute_result"
    },
    {
     "data": {
      "text/plain": "<Figure size 640x480 with 2 Axes>",
      "image/png": "[encoded data removed]"
     },
     "metadata": {},
     "output_type": "display_data"
    }
   ],
   "source": [
    "# =============== YOUR CODE GOES HERE =================\n",
    "import matplotlib.pyplot as plt\n",
    "\n",
    "fig, axs = plt.subplots(2)\n",
    "\n",
    "axs[0].plot(times, heights)\n",
    "axs[0].set_xlabel(\"time in s\")\n",
    "axs[0].set_ylabel(\"height in m\")\n",
    "axs[1].plot(times, velocities)\n",
    "axs[1].set_xlabel(\"time in s\")\n",
    "axs[1].set_ylabel(\"velocity in m/s\")"
   ]
  },
  {
   "cell_type": "markdown",
   "id": "482fa9af-efc8-416d-85bc-2dd5467b2ade",
   "metadata": {},
   "source": [
    "---\n",
    "**Assignment 11.2**\n",
    "\n",
    "SANTA FE - October 14, 2012. The Austrian skydiver Felix Baumgartner set a world record by jumping from a height of about 39 km. He jumped from a space-capsule suspended from a balloon filled with Helium. During his free fall, Baumgartner reached a top speed of somewhere between 1300 and 1400 km/h. At a height of 500 m he opened his parachute and landed safely on the ground with a speed of 12 km/h.\n",
    "\n",
    "See this youtube video for an impression: https://www.youtube.com/watch?v=Hz2F_S3Tl0Y"
   ]
  },
  {
   "cell_type": "markdown",
   "id": "d5af7206-b3d1-47d0-be84-b854b5701b72",
   "metadata": {},
   "source": [
    "You will investigate the jump using the Euler method. You can make the following assumptions:\n",
    "\n",
    "- The gravitational constant is 9.81 m/s $^2$\n",
    "\n",
    "- The mass of Baumgartner is constant and equal to 250 kg (including all his equipment)\n",
    "\n",
    "- The drag force is given by $F_w = k\\rho v^2$, with $v$ is the velocity of Baumgartner, and $\\rho$ the density of air\n",
    "\n",
    "- The density of air is height dependend: $\\rho(h)=1.29 \\times (0.5)^{h/5500}$ , implying that the density is reduced by a factor of two every 5.5 km. (The numbers in the equation are all in SI-units)\n",
    "\n",
    "- $k$ is a constant. For free fall $k=k_{free}=0.4 \\text{ m}^2$ and with the parachute opened we have $k = k_{parachute}$.\n",
    "\n",
    "- The parachute opens instantaneous. \n",
    "\n",
    "\n",
    "### Assignments:\n",
    "\n",
    "1. Take/copy the example code in the code cell below and adapt the parameters to that of Baumgartner's jump. At this point we do not yet consider the parachute.\n",
    "2. Determine the top speed reached during the free fall.\n",
    "3. At a certain height (specified in the text above) Baumgartner opens his parachute. Implement this in your code. Determine the best values for $k_{parachute}$ with a precision of 1 m$^2$ (include a plot of velocity and height as function of time of this situation in your results document). You can find this value by simply trying different values for $k_{parachute}$ and evaluate the result.\n",
    "4. Investigate how the time step `dt` influences the result of the simulation.\n"
   ]
  },
  {
   "cell_type": "code",
   "execution_count": 108,
   "id": "bdb14617-ea63-472a-8c33-ff13f9731643",
   "metadata": {
    "ExecuteTime": {
     "end_time": "2023-10-04T14:46:29.818520600Z",
     "start_time": "2023-10-04T14:46:17.733724700Z"
    }
   },
   "outputs": [
    {
     "name": "stderr",
     "output_type": "stream",
     "text": [
      "\n",
      "KeyboardInterrupt\n",
      "\n"
     ]
    }
   ],
   "source": [
    "# =============== PERFORM THE SIMULATION =================\n",
    "\n",
    "m = 250           # mass [kg]\n",
    "g = -9.81         # gravitational acceleration [kg/m/s2]\n",
    "k = 0.4          # constant related to drag [m2]\n",
    "kp = 13\n",
    "\n",
    "h0 = 39000           # initial height [m]\n",
    "v0 = 0            # initial velocity [m/s]\n",
    "t0 = 0            # start time [s]\n",
    "dt = 0.500        # time increments [s]\n",
    "\n",
    "heights = [h0]    # init list for storing heights with start height\n",
    "times = [t0]      # init list for storing timesteps with start time\n",
    "velocities = [v0] # init list for storing velocities with start v\n",
    "\n",
    "\n",
    "# perform Euler steps \n",
    "v, h, t = v0, h0, t0  # start with the initial parameters\n",
    "while True:\n",
    "    # compute the acceleration a\n",
    "    rho = 1.29 * 0.5 ** (h / 5500)        # air density [kg/m3]\n",
    "    Fz = m * g                # gravity\n",
    "    Fw = k * rho * v**2       # drag\n",
    "    Fres = Fz + Fw               \n",
    "    a = Fres / m                 \n",
    "    \n",
    "    # update parameters using Euler's method\n",
    "    h = h + v * dt\n",
    "    v = v + a * dt    \n",
    "    t = t + dt\n",
    "    \n",
    "    # maxi = 0\n",
    "    # if v > maxi:\n",
    "    #     maxi = v\n",
    "    #     print(maxi)\n",
    "        \n",
    "    # check if we hit the surface\n",
    "    if h <= 500:\n",
    "        k = kp\n",
    "        \n",
    "    if h <= 0:\n",
    "        break\n",
    "    \n",
    "    # store data for later analysis\n",
    "    velocities.append(v)  \n",
    "    heights.append(h)     \n",
    "    times.append(t) \n",
    "    \n",
    "print(min(velocities))\n",
    "print(velocities)\n",
    "# len(velocities)"
   ]
  },
  {
   "cell_type": "code",
   "execution_count": 109,
   "id": "99920585-e18a-4c6f-a967-dde8315275b2",
   "metadata": {
    "ExecuteTime": {
     "end_time": "2023-10-04T14:46:37.568332900Z",
     "start_time": "2023-10-04T14:46:31.659159400Z"
    }
   },
   "outputs": [
    {
     "data": {
      "text/plain": "Text(0, 0.5, 'velocity in m/s')"
     },
     "execution_count": 109,
     "metadata": {},
     "output_type": "execute_result"
    },
    {
     "data": {
      "text/plain": "<Figure size 640x480 with 2 Axes>",
      "image/png": "[encoded data removed]"
     },
     "metadata": {},
     "output_type": "display_data"
    }
   ],
   "source": [
    "# =============== PLOT THE RESULTS =================\n",
    "import matplotlib.pyplot as plt\n",
    "\n",
    "fig, axs = plt.subplots(2)\n",
    "\n",
    "axs[0].plot(times, heights)\n",
    "axs[0].set_xlabel(\"time in s\")\n",
    "axs[0].set_ylabel(\"height in m\")\n",
    "axs[1].plot(times, velocities)\n",
    "axs[1].set_xlabel(\"time in s\")\n",
    "axs[1].set_ylabel(\"velocity in m/s\")"
   ]
  },
  {
   "cell_type": "markdown",
   "id": "7bc987ed-958c-40aa-8110-4474588ea6c0",
   "metadata": {},
   "source": [
    "TYPE YOUR ANALYSIS OF THE SIMULATION IN THIS BOX:\n",
    "\n",
    "double click to type here\n",
    "\n",
    "2) top speed v = -378 m/s\n",
    "3) $k_{parachute}$ = 13\n",
    "4) hoe kleiner dt hoe accurater de meting, want je checkt dan meer tijdstappen."
   ]
  },
  {
   "cell_type": "code",
   "execution_count": null,
   "id": "5a124226-7d42-4574-8a57-a3a17d5dc981",
   "metadata": {},
   "outputs": [],
   "source": []
  }
 ],
 "metadata": {
  "kernelspec": {
   "display_name": "Python 3 (ipykernel)",
   "language": "python",
   "name": "python3"
  },
  "language_info": {
   "codemirror_mode": {
    "name": "ipython",
    "version": 3
   },
   "file_extension": ".py",
   "mimetype": "text/x-python",
   "name": "python",
   "nbconvert_exporter": "python",
   "pygments_lexer": "ipython3",
   "version": "3.9.17"
  }
 },
 "nbformat": 4,
 "nbformat_minor": 5
}
