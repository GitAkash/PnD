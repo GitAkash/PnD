{
 "cells": [
  {
   "cell_type": "markdown",
   "id": "04365e4f-e5b7-4b8e-a7e1-adc9cb668caa",
   "metadata": {},
   "source": [
    "# NOTEBOOK 20 Nesting\n",
    "---\n",
    "\n",
    "\n",
    "Nesting in Python refers to the practice of placing one or more code structures (such as loops, conditional statements, or functions) inside another. It involves the indentation of code blocks to indicate their hierarchical relationship. The most common use of nesting occurs with loops and conditional statements."
   ]
  },
  {
   "cell_type": "markdown",
   "id": "1e2d852e-5af7-42d9-a822-3663181f40d8",
   "metadata": {},
   "source": [
    "## Nested loops"
   ]
  },
  {
   "cell_type": "markdown",
   "id": "1e8292e4-7610-46a4-b095-795bb3707cbc",
   "metadata": {},
   "source": [
    "Nested loops involve placing one loop inside another, like this:\n"
   ]
  },
  {
   "cell_type": "code",
   "execution_count": 1,
   "id": "9b33555b-cc22-4642-80e8-220161617e6b",
   "metadata": {
    "ExecuteTime": {
     "end_time": "2023-11-15T12:46:42.428302654Z",
     "start_time": "2023-11-15T12:46:42.426944405Z"
    }
   },
   "outputs": [
    {
     "name": "stdout",
     "output_type": "stream",
     "text": [
      "0 0\n",
      "0 1\n",
      "1 0\n",
      "1 1\n",
      "2 0\n",
      "2 1\n"
     ]
    }
   ],
   "source": [
    "# example of nesting for-loops\n",
    "for i in range(3):\n",
    "    # inside outer loop\n",
    "    for j in range(2):\n",
    "        # inside inner loop\n",
    "        print(i, j)\n"
   ]
  },
  {
   "cell_type": "markdown",
   "id": "4bbeee29-8c33-4914-bedf-87546a45a98e",
   "metadata": {},
   "source": [
    "Here, the inner loop (with `j`) is nested within the outer loop (with `i`). The indentation levels help signify the scope of each loop."
   ]
  },
  {
   "cell_type": "markdown",
   "id": "236ee6e2-38f8-4acf-b718-ae13b607ea26",
   "metadata": {},
   "source": [
    "---\n",
    "**Assignment 1**\n",
    "\n",
    "Multiplication Table Generator.\n",
    "\n",
    "Create a program that takes an integer as input from the user and prints the multiplication table for all numbers upto that number. For example if you use 12 as an input number it should print:\n",
    "\n",
    "```\n",
    "    1    2    3    4    5    6    7    8    9   10   11   12\n",
    "    2    4    6    8   10   12   14   16   18   20   22   24\n",
    "    3    6    9   12   15   18   21   24   27   30   33   36\n",
    "    4    8   12   16   20   24   28   32   36   40   44   48\n",
    "    5   10   15   20   25   30   35   40   45   50   55   60\n",
    "    6   12   18   24   30   36   42   48   54   60   66   72\n",
    "    7   14   21   28   35   42   49   56   63   70   77   84\n",
    "    8   16   24   32   40   48   56   64   72   80   88   96\n",
    "    9   18   27   36   45   54   63   72   81   90   99  108\n",
    "   10   20   30   40   50   60   70   80   90  100  110  120\n",
    "```\n"
   ]
  },
  {
   "cell_type": "code",
   "execution_count": 141,
   "id": "a6ba8505-8101-4e2d-abce-301308cf054e",
   "metadata": {
    "ExecuteTime": {
     "end_time": "2023-11-14T23:05:19.721081699Z",
     "start_time": "2023-11-14T23:05:19.713309172Z"
    }
   },
   "outputs": [
    {
     "name": "stdout",
     "output_type": "stream",
     "text": [
      "  1\t  2\t  3\t  4\t  5\t  6\t  7\t  8\t  9\t 10\t 11\t 12\t\n",
      "  2\t  4\t  6\t  8\t 10\t 12\t 14\t 16\t 18\t 20\t 22\t 24\t\n",
      "  3\t  6\t  9\t 12\t 15\t 18\t 21\t 24\t 27\t 30\t 33\t 36\t\n",
      "  4\t  8\t 12\t 16\t 20\t 24\t 28\t 32\t 36\t 40\t 44\t 48\t\n",
      "  5\t 10\t 15\t 20\t 25\t 30\t 35\t 40\t 45\t 50\t 55\t 60\t\n",
      "  6\t 12\t 18\t 24\t 30\t 36\t 42\t 48\t 54\t 60\t 66\t 72\t\n",
      "  7\t 14\t 21\t 28\t 35\t 42\t 49\t 56\t 63\t 70\t 77\t 84\t\n",
      "  8\t 16\t 24\t 32\t 40\t 48\t 56\t 64\t 72\t 80\t 88\t 96\t\n",
      "  9\t 18\t 27\t 36\t 45\t 54\t 63\t 72\t 81\t 90\t 99\t108\t\n",
      " 10\t 20\t 30\t 40\t 50\t 60\t 70\t 80\t 90\t100\t110\t120\t\n",
      " \n"
     ]
    }
   ],
   "source": [
    "# =============== YOUR CODE GOES HERE =================\n",
    "def table(n):\n",
    "    for i in range(1, 11):\n",
    "        for j in range(1, n+1):\n",
    "            print(f\"{i*j:>3}\", end='\\t')\n",
    "        print()\n",
    "            \n",
    "    return ' '\n",
    "\n",
    "print(table(12))\n",
    "    \n",
    "    \n",
    "    "
   ]
  },
  {
   "cell_type": "markdown",
   "id": "064b15a2-8769-4758-9d1b-3c8928573b1e",
   "metadata": {},
   "source": [
    "---\n",
    "**Assignment 2**\n",
    "\n",
    "Multiplying square matrices.\n",
    "\n",
    "Consider two square matrices $A$ and $B$ of size $n\\times n$:\n",
    "\n",
    "$$A = \\left (\\begin{array}{cccc} a_{11} & a_{12} & \\cdots & a_{1n}\\\\ a_{21} & a_{22} & \\cdots & a_{2n}\\\\ \\vdots & \\vdots & \\ddots & \\vdots\\\\ a_{n1} & a_{n2} & \\cdots & a_{nn}\\\\ \\end{array} \\right)$$\n",
    "\n",
    "$$B = \\left (\\begin{array}{cccc} b_{11} & b_{12} & \\cdots & b_{1n}\\\\ b_{21} & b_{22} & \\cdots & b_{2n}\\\\ \\vdots & \\vdots & \\ddots & \\vdots\\\\ b_{n1} & b_{n2} & \\cdots & b_{nn}\\\\ \\end{array} \\right)$$\n",
    "\n",
    "Multiplying gives a new matrix $C$ of size $n\\times n$, where the components of $C$ are defined as:\n",
    "\n",
    "$$c_{ij} = \\sum_{k=1}^{n} a_{ik}b_{kj}$$\n",
    "\n",
    "\n",
    "Write code that given matrix `A` and `B` (both defined as 2D numpy arrays) computes the product `C`. Use nested loops. HINT: you need nested loops of depth 3 (for `i`, `j` and `k`)\n",
    "\n",
    "TIP: check your result with the numpy function for computing the product of matrices."
   ]
  },
  {
   "cell_type": "code",
   "execution_count": 84,
   "id": "c1822bdf-ec72-423a-b2eb-7fe78c0c4f2f",
   "metadata": {
    "ExecuteTime": {
     "end_time": "2023-12-11T20:23:35.991264827Z",
     "start_time": "2023-12-11T20:23:35.988979721Z"
    }
   },
   "outputs": [
    {
     "name": "stdout",
     "output_type": "stream",
     "text": [
      "Ik: \n",
      "[[105.   5.  55.  76.  30.]\n",
      " [182.  47. 102. 146. 121.]\n",
      " [152.  58.  88. 131. 131.]\n",
      " [ 89.  43.  43.  99. 105.]\n",
      " [168.  54.  87. 191. 143.]]\n",
      "Numpy: \n",
      "[[105   5  55  76  30]\n",
      " [182  47 102 146 121]\n",
      " [152  58  88 131 131]\n",
      " [ 89  43  43  99 105]\n",
      " [168  54  87 191 143]]\n"
     ]
    }
   ],
   "source": [
    "# =============== YOUR CODE GOES HERE =================\n",
    "import numpy as np\n",
    "n = 5\n",
    "# define two square matrices as 2D numpy arrays\n",
    "a = np.random.randint(10, size=(n, n))\n",
    "b = np.random.randint(10, size=(n, n))\n",
    "c = np.zeros((n,n))\n",
    "\n",
    "# compute the product c\n",
    "for i in range(len(a)):\n",
    "    for j in range(len(b[0])):\n",
    "        for k in range(len(b)):\n",
    "            c[i][j] += a[i][k] * b[k][j]\n",
    "\n",
    "print(f\"Ik: \\n{c}\")\n",
    "\n",
    "            \n",
    "print(f\"Numpy: \\n{np.dot(a,b)}\")\n",
    "            "
   ]
  },
  {
   "cell_type": "code",
   "execution_count": null,
   "id": "27c89f69-5ee0-4979-b7c1-a8ff83bef2ed",
   "metadata": {},
   "outputs": [],
   "source": []
  }
 ],
 "metadata": {
  "kernelspec": {
   "display_name": "Python 3 (ipykernel)",
   "language": "python",
   "name": "python3"
  },
  "language_info": {
   "codemirror_mode": {
    "name": "ipython",
    "version": 3
   },
   "file_extension": ".py",
   "mimetype": "text/x-python",
   "name": "python",
   "nbconvert_exporter": "python",
   "pygments_lexer": "ipython3",
   "version": "3.9.17"
  }
 },
 "nbformat": 4,
 "nbformat_minor": 5
}
