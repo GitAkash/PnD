{
 "cells": [
  {
   "cell_type": "markdown",
   "id": "04365e4f-e5b7-4b8e-a7e1-adc9cb668caa",
   "metadata": {},
   "source": [
    "# NOTEBOOK 10 While loops\n",
    "---"
   ]
  },
  {
   "cell_type": "markdown",
   "id": "1e2d852e-5af7-42d9-a822-3663181f40d8",
   "metadata": {},
   "source": [
    "## WHILE Loop"
   ]
  },
  {
   "cell_type": "markdown",
   "id": "1e8292e4-7610-46a4-b095-795bb3707cbc",
   "metadata": {},
   "source": [
    "In a `for`-loop, the indented block of code is executed a predefined number of times. In some cases however, we want the loop to be repeated until a certain condition is met. We can achieve this with a `while`-loop. Instead of having a counter (or a sequence), the loop will run as long as some conditional expression is `True` and will stop iterating when it is `False`. This is illustrated with the following example. When executed it continues to asks the user to enter a number between 1 and 10 until the user guesses the secret number. Finally it prints the number of attempts.\n"
   ]
  },
  {
   "cell_type": "code",
   "execution_count": 1,
   "id": "9b33555b-cc22-4642-80e8-220161617e6b",
   "metadata": {
    "ExecuteTime": {
     "end_time": "2023-09-25T20:51:39.384038400Z",
     "start_time": "2023-09-25T20:51:31.254185900Z"
    }
   },
   "outputs": [
    {
     "name": "stdout",
     "output_type": "stream",
     "text": [
      "Wrong, try again.\n",
      "Wrong, try again.\n",
      "Wrong, try again.\n",
      "Wrong, try again.\n",
      "Wrong, try again.\n",
      "Wrong, try again.\n",
      "Correct, the number was 6\n"
     ]
    }
   ],
   "source": [
    "# example while loop\n",
    "import numpy as np\n",
    "\n",
    "rng = np.random.default_rng()\n",
    "secretnumber = rng.integers(1, 11)  # draw a random number between 1 and 10\n",
    "\n",
    "guessednumber = int(input('Enter a number between 1 and 10 >>'))\n",
    "\n",
    "while secretnumber != guessednumber:\n",
    "    print('Wrong, try again.')\n",
    "    guessednumber = int(input('Enter a number between 1 and 10 >>'))\n",
    "\n",
    "print('Correct, the number was', secretnumber)"
   ]
  },
  {
   "cell_type": "markdown",
   "id": "2adf2bd9-e14d-483b-8b80-3e1d692bbcec",
   "metadata": {},
   "source": [
    "Looking at the example, you see that before the `while` loop we need already a user input. Otherwise we cannot evaluate the boolean expression in the `while` loop. Also we need to ask for new input within the loop. Later we will discuss another way to implement this loop in a more efficient way."
   ]
  },
  {
   "cell_type": "markdown",
   "id": "064b15a2-8769-4758-9d1b-3c8928573b1e",
   "metadata": {},
   "source": [
    "---\n",
    "**Assignment 10.1**\n",
    "\n",
    "Write a script that asks the user for an integer. Then it uses a `while` loop to print the first 10 factors of that number (if there are less than 10 factors it prints all factors).\n",
    "E.g the output for the number 4096 equals:\n",
    "\n",
    "```\n",
    "Enter an integer:  4096\n",
    "1\n",
    "2\n",
    "4\n",
    "8\n",
    "16\n",
    "32\n",
    "64\n",
    "128\n",
    "256\n",
    "512\n",
    "```"
   ]
  },
  {
   "cell_type": "code",
   "execution_count": 23,
   "id": "c1822bdf-ec72-423a-b2eb-7fe78c0c4f2f",
   "metadata": {
    "ExecuteTime": {
     "end_time": "2023-09-25T21:56:52.341761100Z",
     "start_time": "2023-09-25T21:56:47.782571100Z"
    }
   },
   "outputs": [
    {
     "name": "stdout",
     "output_type": "stream",
     "text": [
      "1\n",
      "2\n",
      "5\n"
     ]
    }
   ],
   "source": [
    "# =============== YOUR CODE GOES HERE =================\n",
    "askedInteger = int(input('Enter a number'))\n",
    "# sum = 0\n",
    "# while sum <= 10:\n",
    "#     for i in range(1,askedInteger):\n",
    "#         if askedInteger % i == 0:\n",
    "#             sum += 1\n",
    "#             print(i)\n",
    "\n",
    "\n",
    "sum = 0 \n",
    "for i in range(1, askedInteger):\n",
    "    if askedInteger % i == 0:\n",
    "        sum += 1 \n",
    "        print(i) \n",
    "        if sum > 10:\n",
    "            break"
   ]
  },
  {
   "cell_type": "markdown",
   "id": "e74168ca-0c5c-4664-86d6-84147fdfa7bf",
   "metadata": {},
   "source": [
    "## `continue` in loops"
   ]
  },
  {
   "cell_type": "markdown",
   "id": "2206c502-9d5f-4b3e-96aa-2f9f7f73c87e",
   "metadata": {},
   "source": [
    "The `break` and `continue` allows to either quit the loop or to skip an iteration. Both work with `while` and with `for` loops."
   ]
  },
  {
   "cell_type": "markdown",
   "id": "8b430b2f-c055-493a-b549-fa5228d2429b",
   "metadata": {},
   "source": [
    "---\n",
    "**Assignment 10.2**\n",
    "\n",
    "Look up how the `continue` keyword works (search on the internet). Then write code that prints roomnumbers 1 through 20, but excludes the number 13. Use a for-loop and `continue`.\n"
   ]
  },
  {
   "cell_type": "code",
   "execution_count": 20,
   "id": "fe5029c8-6cc8-4dec-b96e-6d426bbb52b6",
   "metadata": {
    "ExecuteTime": {
     "end_time": "2023-09-25T21:19:50.557523800Z",
     "start_time": "2023-09-25T21:19:50.541763Z"
    }
   },
   "outputs": [
    {
     "name": "stdout",
     "output_type": "stream",
     "text": [
      "1\n",
      "2\n",
      "3\n",
      "4\n",
      "5\n",
      "6\n",
      "7\n",
      "8\n",
      "9\n",
      "10\n",
      "11\n",
      "12\n",
      "14\n",
      "15\n",
      "16\n",
      "17\n",
      "18\n",
      "19\n",
      "20\n"
     ]
    }
   ],
   "source": [
    "# =============== YOUR CODE GOES HERE =================\n",
    "\n",
    "for i in range(1,21):\n",
    "    if i == 13:\n",
    "        continue\n",
    "    print(i)\n",
    "        "
   ]
  },
  {
   "cell_type": "markdown",
   "id": "d02c3c25",
   "metadata": {},
   "source": [
    "## `break` in loops"
   ]
  },
  {
   "cell_type": "markdown",
   "id": "084282d7-f223-4307-ab29-deadf25e2107",
   "metadata": {},
   "source": [
    "The `break` keyword is used a lot in combination with a `while` loop. A very common pattern is to create an infinite loop using `while True:` and use a conditional statement in combination with `break` to quit the loop when some condition is met. The first example of this notebook can be written in this way as follows:"
   ]
  },
  {
   "cell_type": "code",
   "execution_count": 21,
   "id": "8555e18a-43dd-49bb-abc3-85b78590a571",
   "metadata": {
    "ExecuteTime": {
     "end_time": "2023-09-25T21:20:29.448339100Z",
     "start_time": "2023-09-25T21:20:22.824042300Z"
    }
   },
   "outputs": [
    {
     "name": "stdout",
     "output_type": "stream",
     "text": [
      "Wrong, try again.\n",
      "Wrong, try again.\n",
      "Wrong, try again.\n",
      "Wrong, try again.\n",
      "Wrong, try again.\n",
      "Wrong, try again.\n"
     ]
    },
    {
     "ename": "ValueError",
     "evalue": "invalid literal for int() with base 10: ''",
     "output_type": "error",
     "traceback": [
      "\u001b[1;31m---------------------------------------------------------------------------\u001b[0m",
      "\u001b[1;31mValueError\u001b[0m                                Traceback (most recent call last)",
      "Cell \u001b[1;32mIn[21], line 8\u001b[0m\n\u001b[0;32m      5\u001b[0m secretnumber \u001b[39m=\u001b[39m rng\u001b[39m.\u001b[39mintegers(\u001b[39m1\u001b[39m, \u001b[39m11\u001b[39m)  \u001b[39m# draw a random number between 1 and 10\u001b[39;00m\n\u001b[0;32m      7\u001b[0m \u001b[39mwhile\u001b[39;00m \u001b[39mTrue\u001b[39;00m:\n\u001b[1;32m----> 8\u001b[0m     guessednumber \u001b[39m=\u001b[39m \u001b[39mint\u001b[39;49m(\u001b[39minput\u001b[39;49m(\u001b[39m'\u001b[39;49m\u001b[39mEnter a number between 1 and 10 >>\u001b[39;49m\u001b[39m'\u001b[39;49m))\n\u001b[0;32m      9\u001b[0m     \u001b[39mif\u001b[39;00m guessednumber \u001b[39m==\u001b[39m secretnumber:\n\u001b[0;32m     10\u001b[0m         \u001b[39mbreak\u001b[39;00m\n",
      "\u001b[1;31mValueError\u001b[0m: invalid literal for int() with base 10: ''"
     ]
    }
   ],
   "source": [
    "# example while loop + break\n",
    "import numpy as np\n",
    "\n",
    "rng = np.random.default_rng()\n",
    "secretnumber = rng.integers(1, 11)  # draw a random number between 1 and 10\n",
    "\n",
    "while True:\n",
    "    guessednumber = int(input('Enter a number between 1 and 10 >>'))\n",
    "    if guessednumber == secretnumber:\n",
    "        break\n",
    "    print('Wrong, try again.')\n",
    "    \n",
    "print('Correct, the number was', secretnumber)"
   ]
  },
  {
   "cell_type": "markdown",
   "id": "dd5c4010-4f12-4d14-b60f-bcf1568a862c",
   "metadata": {},
   "source": [
    "Since `True` is always `True`, the loop would normally be executed infinite number of times. However with the break keyword the loop is ended. In this case when the guessed number is correct. The advatage over the first implementation is that we only have one line of code that askes the user for input. This is simpler and easier to maintain."
   ]
  },
  {
   "cell_type": "markdown",
   "id": "a769438d-61cc-4126-ab88-844e2e21ab38",
   "metadata": {},
   "source": [
    "---\n",
    "**Assignment 10.3**\n",
    "\n",
    "We want to numerically compute the value of $\\pi$. This can be done by evaluating the following sum:\n",
    "\n",
    "$$\\pi \\approx \\sum_{n=0}^{N}4\\frac{(-1)^n}{2n+1}$$\n",
    "\n",
    "The larger the value for $N$ the more terms are included and the approximation for $\\pi$ becomes better.\n",
    "\n",
    "Write code that computes how many terms (value of $N$) are required to approximate $\\pi$ with a precision of 0.001 (i.e. the difference between the real value of $\\pi$ and the approximation should be smaller than 0.001). Use a `while` loop and a `break` keyword."
   ]
  },
  {
   "cell_type": "code",
   "execution_count": 4,
   "id": "40ff91d7-5fd2-4b46-93ec-c7e4f1378e45",
   "metadata": {
    "ExecuteTime": {
     "end_time": "2023-09-28T13:15:52.129851300Z",
     "start_time": "2023-09-28T13:15:52.112702500Z"
    }
   },
   "outputs": [
    {
     "name": "stdout",
     "output_type": "stream",
     "text": [
      "Er zijn 1000 nummers nodig om een precisie van 0.001 te krijgen, waarbij pi = 3.140592653839794\n"
     ]
    }
   ],
   "source": [
    "# =============== YOUR CODE GOES HERE =================\n",
    "import numpy as np\n",
    "\n",
    "precision = 0.001\n",
    "newPi = 0\n",
    "n = 0\n",
    "\n",
    "while True:\n",
    "    sommetje = 4 * (-1) ** n / (2 * n + 1)\n",
    "    newPi += sommetje\n",
    "    n += 1\n",
    "\n",
    "    if abs(newPi - np.pi) < precision:\n",
    "        break\n",
    "\n",
    "print(f\"Er zijn {n} nummers nodig om een precisie van {precision} te krijgen, waarbij pi = {newPi}\")\n"
   ]
  }
 ],
 "metadata": {
  "kernelspec": {
   "display_name": "Python 3 (ipykernel)",
   "language": "python",
   "name": "python3"
  },
  "language_info": {
   "codemirror_mode": {
    "name": "ipython",
    "version": 3
   },
   "file_extension": ".py",
   "mimetype": "text/x-python",
   "name": "python",
   "nbconvert_exporter": "python",
   "pygments_lexer": "ipython3",
   "version": "3.10.9"
  }
 },
 "nbformat": 4,
 "nbformat_minor": 5
}
