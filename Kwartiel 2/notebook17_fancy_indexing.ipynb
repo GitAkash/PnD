{
 "cells": [
  {
   "cell_type": "markdown",
   "id": "04365e4f-e5b7-4b8e-a7e1-adc9cb668caa",
   "metadata": {},
   "source": [
    "# NOTEBOOK 17 Fancy Indexing\n",
    "---"
   ]
  },
  {
   "cell_type": "markdown",
   "id": "f0f0b4ec-46b5-4c9f-8340-b209c47159a6",
   "metadata": {},
   "source": [
    "You use indexing (e.g. `x[3]`) or slicing (e.g. `x[2:5]`) to select or assign specific elements in e.g. numpy arrays and lists. Here we discuss an alternative method. Instead of a specific index or slice you use a list of indices to select items from an array. This approach is called **fancy indexing**. We will show a few cases where fancy indexing can be used. It is important to mention here that fancy indexing works for numpy arrays only (so not for lists!). Another, but actually quite similar, method to select items from an array is called **masking**. Using a mask you can select items of an array that satisfy a specific condition (e.g. all items larger than zero)."
   ]
  },
  {
   "cell_type": "markdown",
   "id": "1e2d852e-5af7-42d9-a822-3663181f40d8",
   "metadata": {},
   "source": [
    "## Fancy Indexing"
   ]
  },
  {
   "cell_type": "markdown",
   "id": "1e8292e4-7610-46a4-b095-795bb3707cbc",
   "metadata": {},
   "source": [
    "Let's look at a simple example where we have defined a numpy array containing some outcomes of a throw of a dice:\n"
   ]
  },
  {
   "cell_type": "code",
   "execution_count": 25,
   "id": "9b33555b-cc22-4642-80e8-220161617e6b",
   "metadata": {},
   "outputs": [
    {
     "name": "stdout",
     "output_type": "stream",
     "text": [
      "[1 5 2 3 6 6 1]\n"
     ]
    }
   ],
   "source": [
    "import random\n",
    "\n",
    "import numpy as np\n",
    "\n",
    "throws = np.array([1, 5, 2, 3, 6, 6, 1], dtype=int)\n",
    "print(throws)"
   ]
  },
  {
   "cell_type": "markdown",
   "id": "27b4c386-cc1d-4586-a8d9-701264368ff1",
   "metadata": {},
   "source": [
    "The array `throws` contains 7 items with integer values between 1 and 6. If you require the items at index 2, 4 and 5 you can use:"
   ]
  },
  {
   "cell_type": "code",
   "execution_count": 26,
   "id": "be0098e4-9fba-42b9-9d2f-10068e1e9512",
   "metadata": {},
   "outputs": [
    {
     "name": "stdout",
     "output_type": "stream",
     "text": [
      "[2 6 6]\n"
     ]
    }
   ],
   "source": [
    "indices = [2, 4, 5]\n",
    "\n",
    "selection = throws[indices]\n",
    "print(selection)"
   ]
  },
  {
   "cell_type": "markdown",
   "id": "485d61c3-012c-46a2-82b9-bdab115086ac",
   "metadata": {},
   "source": [
    "So instead of providing a number as an index or a specific slice, you can provide a list (you can also use a numpy array with integers to specify the indices) of integers between square brackets to select specific items of the array. The output is again an array containing the items at the specified indices.\n",
    "\n",
    "As with indexing and slicing, you can use fancy indexing to assign values to specific items of an array:"
   ]
  },
  {
   "cell_type": "code",
   "execution_count": 27,
   "id": "e7964713-a243-457b-b687-26c5fe5f8ebd",
   "metadata": {},
   "outputs": [
    {
     "name": "stdout",
     "output_type": "stream",
     "text": [
      "[ 1  5 -2  3 -6 -6  1]\n"
     ]
    }
   ],
   "source": [
    "throws[indices] = throws[indices] * -1\n",
    "# or throws[indices] *= -1 for short\n",
    "print(throws)"
   ]
  },
  {
   "cell_type": "markdown",
   "id": "caab3be3-a186-4b7b-a7bc-d5e87807b9b6",
   "metadata": {},
   "source": [
    "As you can see all items at the indices specified by `indices` are multiplied by -1."
   ]
  },
  {
   "cell_type": "markdown",
   "id": "4499bdfe-db42-4e75-93ca-5e388817d35f",
   "metadata": {},
   "source": [
    "## Masking"
   ]
  },
  {
   "cell_type": "markdown",
   "id": "345c77bf-ff42-44d1-8caa-8ad147fdccda",
   "metadata": {},
   "source": [
    "Although you learned three different ways to extract items from an array (indexing, slicing and fancy-indexing) there is even another method for this purpose called masking. This method allows to select items in an array based on some criteria. Again we take an example to illustrate how it works. We define an array with marks ranging from 1 to 10:"
   ]
  },
  {
   "cell_type": "code",
   "execution_count": 28,
   "id": "cb5226c6-9271-4fee-9d52-df32b01c78fc",
   "metadata": {},
   "outputs": [],
   "source": [
    "marks = np.array([7.5, 4.0, 8.0, 5.3, 6.5, 10.0, 3.5, 5.5])"
   ]
  },
  {
   "cell_type": "markdown",
   "id": "8a55cd62-2a5c-4588-9cd5-b2cc754ddd20",
   "metadata": {},
   "source": [
    "We now want to extract all marks smaller than 6.0. To do this we create a mask which is an array of Booleans specifying for each item if the condition is satisfied `True` or `False`:\n"
   ]
  },
  {
   "cell_type": "code",
   "execution_count": 29,
   "id": "2cb2f457-54cb-46ab-ab11-afba49121a48",
   "metadata": {},
   "outputs": [
    {
     "name": "stdout",
     "output_type": "stream",
     "text": [
      "[False  True False  True False False  True  True]\n"
     ]
    }
   ],
   "source": [
    "mask = marks < 6.0\n",
    "print(mask)"
   ]
  },
  {
   "cell_type": "markdown",
   "id": "613dc752-c06c-4ae9-a398-029df90cdfea",
   "metadata": {},
   "source": [
    "In the statement `mask = marks < 6.0` Python applies the conditional statement ($< 6.0$) for each item of the array and stores the result `True` or `False` in the array `mask`. Now the Boolean array can be used to extract the data:"
   ]
  },
  {
   "cell_type": "code",
   "execution_count": 30,
   "id": "454d01f9-2bbb-4400-a510-48b119e08e73",
   "metadata": {},
   "outputs": [
    {
     "name": "stdout",
     "output_type": "stream",
     "text": [
      "[4.  5.3 3.5 5.5]\n"
     ]
    }
   ],
   "source": [
    "onvoldoendes = marks[mask]\n",
    "print(onvoldoendes)"
   ]
  },
  {
   "cell_type": "markdown",
   "id": "51c308a1-66b5-4f14-877f-a8e74ea5f550",
   "metadata": {},
   "source": [
    "If you use a Boolean array (`mask`) as indices, the result is that all items are retrieved for which the value in the Boolean array is `True`. In this case the 2nd, 4th, 7th and 8th items in `mask` are `True` so the 2nd, 4th, 7th and 8th items in `marks` are retrieved."
   ]
  },
  {
   "cell_type": "markdown",
   "id": "3cfd425b-8eae-4b58-88d0-59ac03037095",
   "metadata": {},
   "source": [
    "You can also apply multiple conditions by using logical operators. Unfortunately python's standard logical operators `and`, `or` and `not` will not work on arrays as they do not perform the operator element-wise (they try to compare the array as a whole and that of course does not make sense). The solution is to use the bitwise operators `&` (logical and), `|` (logical or), `~` (logical not). So if you like to round all marks in the array that have a value larger than 5.0 and smaller than 6.0 to an integer value you can do the following:"
   ]
  },
  {
   "cell_type": "code",
   "execution_count": 31,
   "id": "73b659bb-5730-4293-a64e-53a8bcf38898",
   "metadata": {},
   "outputs": [
    {
     "name": "stdout",
     "output_type": "stream",
     "text": [
      "[False False False  True False False False  True]\n",
      "[ 7.5  4.   8.   5.   6.5 10.   3.5  6. ]\n"
     ]
    }
   ],
   "source": [
    "marks = np.array([7.5, 4.0, 8.0, 5.3, 6.5, 10.0, 3.5, 5.5])\n",
    "\n",
    "# create the mask\n",
    "mask = (marks > 5.0) & (marks < 6)\n",
    "print(mask)\n",
    "\n",
    "# round the selected items to integer values\n",
    "marks[mask] = np.around(marks[mask])\n",
    "\n",
    "print(marks)"
   ]
  },
  {
   "cell_type": "code",
   "execution_count": null,
   "id": "78b9c84c-6383-4890-93ab-a78e90ad8f40",
   "metadata": {},
   "outputs": [],
   "source": []
  },
  {
   "cell_type": "markdown",
   "id": "b0a9ecdc-bc66-41d4-b9c5-096bc95a1bdf",
   "metadata": {},
   "source": [
    "---\n",
    "**Assignment 1**\n",
    "\n",
    "In a simulation of $N=100$ bouncing balls we have a numpy array `h` that contains the current heights (above the floor) of all balls. Furthermore we have an array `v` of velocities in which a negative velocity is towards the floor and a positive velocity means the ball is moving in the upward direction. The floor is positioned at a height equal to zero. For convenience we create a current state in the simulation using the random generators:\n",
    "\n",
    "- Create a numpy array `h` that contains 100 random (uniform) positions between 0 and 1.\n",
    "- Create a numpy array `v` that contain 100 random (uniform) velocities between between -0.5 and 0.5"
   ]
  },
  {
   "cell_type": "code",
   "execution_count": 28,
   "id": "bff5d38d-e134-40bf-a820-cbfc18894766",
   "metadata": {
    "ExecuteTime": {
     "end_time": "2023-11-14T20:59:23.299675249Z",
     "start_time": "2023-11-14T20:59:23.298003899Z"
    }
   },
   "outputs": [
    {
     "name": "stdout",
     "output_type": "stream",
     "text": [
      "[0.38805532 0.84464768 0.75306615 0.4253609  0.74932567 0.17966058\n",
      " 0.78973313 0.78173085 0.90527069 0.73114864 0.91718697 0.75655068\n",
      " 0.77668966 0.59539219 0.91009199 0.41990748 0.58265527 0.16316952\n",
      " 0.69727445 0.95807949 0.80158609 0.00231416 0.23689254 0.85340604\n",
      " 0.47443767 0.30863259 0.01346463 0.29780038 0.49148361 0.86282663\n",
      " 0.36493583 0.07789021 0.45232248 0.31622943 0.1025726  0.15509557\n",
      " 0.03553386 0.56723568 0.75066442 0.36805237 0.32506863 0.02144165\n",
      " 0.8157987  0.55512502 0.17687611 0.34567029 0.62383599 0.50023641\n",
      " 0.18587797 0.02855303 0.76388801 0.7411376  0.22613316 0.74254187\n",
      " 0.10176707 0.9002542  0.79983916 0.92835058 0.3425834  0.7417139\n",
      " 0.11496404 0.03969322 0.4109745  0.8841312  0.64617565 0.13523553\n",
      " 0.9725393  0.90890561 0.30468851 0.43865161 0.17651067 0.40383737\n",
      " 0.4028101  0.61828965 0.37340318 0.79446698 0.3509429  0.93087972\n",
      " 0.65454465 0.11690154 0.97445219 0.0558858  0.72879644 0.38615875\n",
      " 0.49934361 0.50360912 0.70546037 0.0429303  0.11828468 0.41873566\n",
      " 0.02344797 0.4070288  0.61260459 0.31883357 0.6574034  0.48418717\n",
      " 0.72801859 0.43046736 0.17019624 0.35571876]\n",
      "[-0.49489447 -0.21341451  0.06440004 -0.24985007  0.09299196 -0.43192963\n",
      "  0.33158052 -0.47145446  0.13460879  0.25310288  0.16990324 -0.03370488\n",
      " -0.25672496  0.03870675  0.32160865  0.15312903  0.42586467 -0.44755239\n",
      "  0.12687644  0.26049426  0.26252012 -0.05037302  0.06360073 -0.28707536\n",
      " -0.2401995  -0.09129501  0.49513038 -0.04048494 -0.19181149  0.22443213\n",
      " -0.49752382 -0.17039732 -0.24429458  0.09743509 -0.16906043 -0.27464987\n",
      "  0.47568735 -0.00251089 -0.13148176 -0.08312025  0.05181121  0.07554847\n",
      " -0.12197015 -0.03820942 -0.38410048  0.03652637 -0.18667286 -0.32834439\n",
      " -0.15526675 -0.27543618  0.44191614 -0.38731711  0.01848155  0.29757709\n",
      "  0.42599241  0.42915694 -0.15977055 -0.49498268 -0.00576781  0.14753444\n",
      "  0.07581499  0.03605628  0.41289141 -0.47883569  0.43371278  0.04441812\n",
      " -0.40759636  0.09916177  0.48890744 -0.15030548 -0.34595932  0.08445781\n",
      " -0.0731342  -0.12854071 -0.28913318 -0.17418145 -0.30075478  0.29293002\n",
      "  0.02252662  0.34381819 -0.40359322  0.0154821   0.2891203   0.45816732\n",
      " -0.38640118 -0.36004134 -0.18420015 -0.13864758  0.44200696  0.22054581\n",
      "  0.39113147  0.47907356 -0.49234683 -0.23060433  0.25379199 -0.25191691\n",
      " -0.07626092  0.06698227  0.28340654 -0.2649016 ]\n"
     ]
    }
   ],
   "source": [
    "# =============== YOUR CODE GOES HERE =================\n",
    "import numpy as np\n",
    "\n",
    "h = np.random.uniform(0, 1, 100)\n",
    "v = np.random.uniform(-0.5,0.5,100)\n",
    "\n",
    "print(h)\n",
    "print(v)"
   ]
  },
  {
   "cell_type": "markdown",
   "id": "7942d4ba-945a-4c14-a380-7d71e620e623",
   "metadata": {},
   "source": [
    "Some balls will be in contact with the floor (i.e. the height $<$ radius). \n",
    "- Create a mask `contact` that is True if the ball is in contact and False otherwise. Take a radius of $r=0.05$."
   ]
  },
  {
   "cell_type": "code",
   "execution_count": 29,
   "id": "b5645f19-f88e-485a-afb8-b75f54c6e111",
   "metadata": {
    "ExecuteTime": {
     "end_time": "2023-11-14T20:59:25.264763030Z",
     "start_time": "2023-11-14T20:59:25.263328857Z"
    }
   },
   "outputs": [
    {
     "name": "stdout",
     "output_type": "stream",
     "text": [
      "[False False False False False False False False False False False False\n",
      " False False False False False False False False False  True False False\n",
      " False False  True False False False False False False False False False\n",
      "  True False False False False  True False False False False False False\n",
      " False  True False False False False False False False False False False\n",
      " False  True False False False False False False False False False False\n",
      " False False False False False False False False False False False False\n",
      " False False False  True False False  True False False False False False\n",
      " False False False False]\n"
     ]
    }
   ],
   "source": [
    "# =============== YOUR CODE GOES HERE =================\n",
    "contact = (h < 0.05)\n",
    "print(contact)"
   ]
  },
  {
   "cell_type": "markdown",
   "id": "46224700-b0d6-417f-bf95-24393116b621",
   "metadata": {},
   "source": [
    "If the ball is in contact and the velocity is negative, obviously the ball bounces, so the velocity should change sign.\n",
    "\n",
    "- Create a mask `bounce` that is True if the ball is bouncing.\n",
    "- Use the mask `bounce` to change the array `v` such that balls that are in contact have their velocity changed in sign."
   ]
  },
  {
   "cell_type": "code",
   "execution_count": 36,
   "id": "4c6c2064-6c38-4c62-96ed-52192387dca3",
   "metadata": {
    "ExecuteTime": {
     "end_time": "2023-11-14T21:00:25.919194535Z",
     "start_time": "2023-11-14T21:00:25.916565461Z"
    }
   },
   "outputs": [
    {
     "name": "stdout",
     "output_type": "stream",
     "text": [
      "[False False False False False False False False False False False False\n",
      " False False False False False False False False False False False False\n",
      " False False False False False False False False False False False False\n",
      " False False False False False False False False False False False False\n",
      " False False False False False False False False False False False False\n",
      " False False False False False False False False False False False False\n",
      " False False False False False False False False False False False False\n",
      " False False False False False False False False False False False False\n",
      " False False False False]\n",
      "[-0.49489447 -0.21341451  0.06440004 -0.24985007  0.09299196 -0.43192963\n",
      "  0.33158052 -0.47145446  0.13460879  0.25310288  0.16990324 -0.03370488\n",
      " -0.25672496  0.03870675  0.32160865  0.15312903  0.42586467 -0.44755239\n",
      "  0.12687644  0.26049426  0.26252012  0.05037302  0.06360073 -0.28707536\n",
      " -0.2401995  -0.09129501  0.49513038 -0.04048494 -0.19181149  0.22443213\n",
      " -0.49752382 -0.17039732 -0.24429458  0.09743509 -0.16906043 -0.27464987\n",
      "  0.47568735 -0.00251089 -0.13148176 -0.08312025  0.05181121  0.07554847\n",
      " -0.12197015 -0.03820942 -0.38410048  0.03652637 -0.18667286 -0.32834439\n",
      " -0.15526675  0.27543618  0.44191614 -0.38731711  0.01848155  0.29757709\n",
      "  0.42599241  0.42915694 -0.15977055 -0.49498268 -0.00576781  0.14753444\n",
      "  0.07581499  0.03605628  0.41289141 -0.47883569  0.43371278  0.04441812\n",
      " -0.40759636  0.09916177  0.48890744 -0.15030548 -0.34595932  0.08445781\n",
      " -0.0731342  -0.12854071 -0.28913318 -0.17418145 -0.30075478  0.29293002\n",
      "  0.02252662  0.34381819 -0.40359322  0.0154821   0.2891203   0.45816732\n",
      " -0.38640118 -0.36004134 -0.18420015  0.13864758  0.44200696  0.22054581\n",
      "  0.39113147  0.47907356 -0.49234683 -0.23060433  0.25379199 -0.25191691\n",
      " -0.07626092  0.06698227  0.28340654 -0.2649016 ]\n"
     ]
    }
   ],
   "source": [
    "# =============== YOUR CODE GOES HERE =================\n",
    "bounce = (h < 0.05) & (v < 0)\n",
    "print(bounce)\n",
    "\n",
    "v[bounce] = v[bounce]*-1\n"
   ]
  },
  {
   "cell_type": "code",
   "execution_count": null,
   "id": "f741ab34-ac24-4407-873d-eff698686031",
   "metadata": {},
   "outputs": [],
   "source": []
  }
 ],
 "metadata": {
  "kernelspec": {
   "display_name": "Python 3 (ipykernel)",
   "language": "python",
   "name": "python3"
  },
  "language_info": {
   "codemirror_mode": {
    "name": "ipython",
    "version": 3
   },
   "file_extension": ".py",
   "mimetype": "text/x-python",
   "name": "python",
   "nbconvert_exporter": "python",
   "pygments_lexer": "ipython3",
   "version": "3.9.17"
  }
 },
 "nbformat": 4,
 "nbformat_minor": 5
}
